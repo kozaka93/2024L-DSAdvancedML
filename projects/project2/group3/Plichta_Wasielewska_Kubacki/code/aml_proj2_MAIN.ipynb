{
  "cells": [
    {
      "cell_type": "code",
      "execution_count": 1,
      "metadata": {
        "id": "9M8JNinf2_CD"
      },
      "outputs": [],
      "source": [
        "import numpy as np\n",
        "import pandas as pd\n",
        "import matplotlib.pyplot as plt"
      ]
    },
    {
      "cell_type": "code",
      "execution_count": 2,
      "metadata": {
        "id": "3jYB_VwXAyyi"
      },
      "outputs": [],
      "source": [
        "from sklearn.linear_model import LogisticRegression\n",
        "from sklearn.neural_network import MLPClassifier\n",
        "from sklearn.ensemble import RandomForestClassifier\n",
        "from sklearn.ensemble import IsolationForest\n",
        "from sklearn.neighbors import KNeighborsClassifier\n",
        "from sklearn.model_selection import train_test_split"
      ]
    },
    {
      "cell_type": "code",
      "execution_count": 3,
      "metadata": {
        "id": "FEF76VvZU-ji"
      },
      "outputs": [],
      "source": [
        "import itertools"
      ]
    },
    {
      "cell_type": "code",
      "execution_count": 5,
      "metadata": {
        "id": "8dnzXxxT94tZ"
      },
      "outputs": [],
      "source": [
        "def money_score(X_train, y_train, X_val, y_val, var_count: int = None,\n",
        "                var_penalty: int = 200, model_type='rf', model = None,\n",
        "                model_size: int = 1, hit_perc: float = 0.2,\n",
        "                outlabeling: bool=False):\n",
        "  \"\"\"\n",
        "  Tests the variable selection by attempting to fit a model\n",
        "  \"\"\"\n",
        "  if var_count is None:\n",
        "    var_count = len(X_train[0])\n",
        "\n",
        "  n = len(y_val)\n",
        "  hit_count = int(np.floor(n * hit_perc))\n",
        "  hit_value = 10000 // hit_count\n",
        "  # I assume that model with no features would select people at random.\n",
        "  # Since order in y_val is randomized, wlog we assume it selected first\n",
        "  # x people.\n",
        "  if var_count == 0:\n",
        "    true_p = np.sum(y_val[0:hit_count])\n",
        "    return true_p * hit_value\n",
        "  if model_type == 'rf':\n",
        "    model = RandomForestClassifier(n_estimators=30*model_size)\n",
        "  elif model_type == 'fnn':\n",
        "    layers = [var_count+2 for i in range(model_size + 1)]\n",
        "    model = MLPClassifier(hidden_layer_sizes=layers,\n",
        "                          solver='lbfgs', max_iter=10000)\n",
        "  elif model_type == 'logreg':\n",
        "    model = LogisticRegression()\n",
        "  elif model_type == 'knn':\n",
        "    model = KNeighborsClassifier(n_neighbors=model_size)\n",
        "  elif model_type == 'precomp':\n",
        "    pass\n",
        "  else:\n",
        "    model = LogisticRegression()\n",
        "\n",
        "  model.fit(X_train, y_train)\n",
        "  if model.classes_[0] == 0:\n",
        "    zero_index = 0\n",
        "  else:\n",
        "    zero_index = 1\n",
        "\n",
        "  # np.argsort patrzy na sortowanie rosnąco, więc by mieć obserwacje,\n",
        "  # które są najbardziej prawdopodobne w klasie 1, patrzymy na te,\n",
        "  # które są najmniej prawdopodobne w klasie 0.\n",
        "  probas = model.predict_proba(X_val)[:,zero_index]\n",
        "\n",
        "  if outlabeling:\n",
        "    isofor = IsolationForest()\n",
        "    isofor.fit(X_train)\n",
        "    out_labels = isofor.predict(X_val)\n",
        "    for i, val in enumerate(out_labels):\n",
        "      if val == -1:\n",
        "        probas[i] = 0\n",
        "  ranking = np.argsort(probas)\n",
        "\n",
        "  selected = ranking[0:hit_count]\n",
        "  true_p = np.sum(y_val[selected])\n",
        "\n",
        "  return true_p * hit_value - var_count * var_penalty"
      ]
    },
    {
      "cell_type": "code",
      "execution_count": 6,
      "metadata": {
        "id": "t0r9v73xDHi5"
      },
      "outputs": [],
      "source": [
        "def selection_score_CV(X, y, selection, nfolds=5, seed: int = 42,\n",
        "                       model_type='rf', model=None,\n",
        "                       model_size: int = 1, var_penalty: int = 200,\n",
        "                       outlabeling: bool=False):\n",
        "  \"\"\"\n",
        "  Calculates the money score via cross-validation.\n",
        "\n",
        "  :param X: dataset\n",
        "  :param y: answer vector\n",
        "  :param selection: a boolean array containing information whether each column\n",
        "    was selected or not\n",
        "  :param nfolds: number of crossvalidation folds\n",
        "  :param seed: the seed for the random generator responsible for divinding the\n",
        "    dataset into folds\n",
        "  :param model_type: look up model_type in featuresel_bidirectional()\n",
        "  :param model: the model for testing, applicable only if model_type='precomp'\n",
        "  :param model_size: as above\n",
        "  :param var_penalty: the penalty for each variable used, you can use lower than\n",
        "    default when testing with smaller models\n",
        "  :param outlabeling: if True, the strategy of the model will be to first\n",
        "    label all the outliers as positives and only then consider the remaining\n",
        "    ones.\n",
        "\n",
        "  :return: a single float with the average score across the folds.\n",
        "  \"\"\"\n",
        "  # Shaving the nonselected variables and randomizing the order for a fair comparison.\n",
        "  np.random.seed(seed)\n",
        "  X = X[:, selection]\n",
        "  n = len(X)\n",
        "  var_count = np.sum(selection)\n",
        "  perm = np.random.permutation(n)\n",
        "  X = X[perm]\n",
        "  y = y[perm]\n",
        "\n",
        "  # Assigning observations to the folds\n",
        "  folds_X = [[] for i in range(nfolds)]\n",
        "  folds_y = [[] for i in range(nfolds)]\n",
        "  for i, obsv in enumerate(X):\n",
        "    to = i % nfolds\n",
        "    folds_X[to].append(obsv)\n",
        "    folds_y[to].append(y[i])\n",
        "\n",
        "  # Turning things into numpy arrays\n",
        "  for i in range(nfolds):\n",
        "    folds_X[i] = np.row_stack(folds_X[i])\n",
        "    folds_y[i] = np.array(folds_y[i])\n",
        "\n",
        "  # CV\n",
        "  scores = []\n",
        "  for i in range(nfolds):\n",
        "    X_val = folds_X[i]\n",
        "    y_val = folds_y[i]\n",
        "\n",
        "    ipp = (i+1) % nfolds\n",
        "    X_train = folds_X[ipp]\n",
        "    y_train = folds_y[ipp]\n",
        "    for j in range(2, nfolds):\n",
        "      ipj = (i+j) % nfolds\n",
        "      X_train = np.concatenate((X_train, folds_X[ipj]), axis=0)\n",
        "      y_train = np.concatenate((y_train, folds_y[ipj]))\n",
        "\n",
        "    score = money_score(X_train, y_train, X_val, y_val,\n",
        "                        var_count=var_count, hit_perc=0.2,\n",
        "                        model_type=model_type, model=model,\n",
        "                        model_size=model_size, var_penalty=var_penalty,\n",
        "                        outlabeling=outlabeling)\n",
        "    scores.append(score)\n",
        "\n",
        "  scores = np.array(scores)\n",
        "  return np.mean(scores)"
      ]
    },
    {
      "cell_type": "code",
      "execution_count": 7,
      "metadata": {
        "id": "xGGDBlSXFuVH"
      },
      "outputs": [],
      "source": [
        "def featuresel_bidirectional(X, y, number_of_tries: int = 5,\n",
        "                             starting_fraction: float = None,\n",
        "                             max_iter: int = 1000, model_type='rf', model=None,\n",
        "                             model_size: int = None, var_penalty: int = 200,\n",
        "                             progress_bar: bool = True,\n",
        "                             results_show: bool = True):\n",
        "  \"\"\"\n",
        "  Uses a probability predicting model on an iteratively modified\n",
        "  set of features to locally determine the subset of \"relevant\" features.\n",
        "  Repeats the procedure multiple times from random starting subsets to\n",
        "  approximate the global optimum.\n",
        "\n",
        "  Parameters:\n",
        "  :param X: the observations to fit the model on which.\n",
        "  :param y: the answer vector for those observations.\n",
        "  :param number_of_tries: the number of random subsets to start the search from.\n",
        "  :param starting_fraction: approximate fraction of features to randomly select\n",
        "    into the starting subset. If None, it will be adjusted so that around 10\n",
        "    features are initially selected.\n",
        "  :param max_iter: the maximum number of iterations in each try.\n",
        "  :param model_type: the type of model to use for predicting probabilities.\n",
        "    Currently implemented: 'fnn' (watch out, slow as hell), 'logreg' and 'rf',\n",
        "    'knn' and 'precomp'.\n",
        "  :param model: the model used for testing, has to have .fit() that works\n",
        "    regardless of data dimensions and .predict_proba() methods. Applicable only\n",
        "    if the model_type is 'precomp'.\n",
        "  :param model_size: the size of the testing model, the higher the bigger.\n",
        "    If left at None, it will be adjusted to the number of features.\n",
        "    Relevant only if model_type is 'rf' (will be responsible for the number of\n",
        "    trees) or 'fnn' (will be responsible for the number of hidden layers).\n",
        "  :param var_penalty: allows you to adjust the penalty for the number of\n",
        "    variables. The reason for doing that is that testing models are very basic\n",
        "    and simple and they will score lower than actual models built on the same\n",
        "    variables.\n",
        "  :param progress_bar: toggles the progress bar.\n",
        "  :param results_show: prints the intermediate results.\n",
        "\n",
        "  :return: a list of indices of the \"relevant\" features.\n",
        "  \"\"\"\n",
        "  p = len(X[0])\n",
        "  if starting_fraction is None:\n",
        "    if p <= 10:\n",
        "      starting_fraction = 0.5\n",
        "    else:\n",
        "      starting_fraction = 10/p\n",
        "\n",
        "  assert starting_fraction >= 0.0 and starting_fraction <= 1.0, \"starting_fraction parameter must be between 0 and 1.\"\n",
        "\n",
        "  if model_size is None:\n",
        "    model_size = (100 // p) + 1\n",
        "\n",
        "  best_found = []\n",
        "  found_score = -1\n",
        "  for _ in range(number_of_tries):\n",
        "    # Initializing a constant seed for random generators in that try,\n",
        "    # to ensure that each CV split, while still random, will be the same\n",
        "    # throughout the single score maximalization procedure.\n",
        "    seed = np.random.randint(low=3, high=2147483647)\n",
        "    # Preparing the starting feature subset.\n",
        "    selected = [False for i in range(p)]\n",
        "    for i in range(p):\n",
        "      rng = np.random.rand()\n",
        "      if rng < starting_fraction:\n",
        "        selected[i] = True\n",
        "\n",
        "    # Getting an accuracy on the starting subset for reference.\n",
        "    # We want to start from scratch every time, as our goal is to end up in\n",
        "    # different local optima if possible and then select the best out of them.\n",
        "    best_score = selection_score_CV(X, y, selected, seed=seed,\n",
        "                                    model_type=model_type, model=model,\n",
        "                                    model_size=model_size, var_penalty=var_penalty)\n",
        "\n",
        "    # Searching for the locally best feature subset.\n",
        "    for j in range(max_iter):\n",
        "      # If that remains a -1, it means it's time to stop.\n",
        "      best_change = -1\n",
        "      if progress_bar:\n",
        "        print(\"Progress bar: \", end='')\n",
        "      for i in range(p):\n",
        "        if progress_bar:\n",
        "          if p < 50:\n",
        "            print('=', end='')\n",
        "          elif i % (p//50) == 0:\n",
        "            print('=', end='')\n",
        "        selected[i] = not selected[i]\n",
        "        score = selection_score_CV(X, y, selected, seed=seed,\n",
        "                                   model_type=model_type, model=model,\n",
        "                                   model_size=model_size, var_penalty=var_penalty)\n",
        "        if score > best_score:\n",
        "          best_score = score\n",
        "          best_change = i\n",
        "        selected[i] = not selected[i]\n",
        "\n",
        "      if progress_bar:\n",
        "        print(\"Iteration \"+str(j)+\" completed!\")\n",
        "\n",
        "      if best_change == -1:\n",
        "        break\n",
        "      else:\n",
        "        selected[best_change] = not selected[best_change]\n",
        "\n",
        "    if progress_bar:\n",
        "      print(\"Bidirectional search completed!\\n\\n\\n\")\n",
        "\n",
        "    found_features = [index for index, value in enumerate(selected) if value]\n",
        "    if results_show:\n",
        "      print(\"Features: \", found_features)\n",
        "      print(\"Money score: \", best_score)\n",
        "    if best_score > found_score:\n",
        "      found_score = best_score\n",
        "      best_found = found_features\n",
        "      if results_show:\n",
        "        print(\"New high score!\")\n",
        "\n",
        "    if results_show:\n",
        "      print(\"\\n\\n\")\n",
        "\n",
        "  return best_found"
      ]
    },
    {
      "cell_type": "code",
      "execution_count": 8,
      "metadata": {
        "id": "WmpQTE9K3JIZ"
      },
      "outputs": [],
      "source": [
        "def write_selection(selection, score, filepath, mode):\n",
        "  \"\"\"\n",
        "  Function that writes the selection and its score to a given file\n",
        "\n",
        "  :param selection: indices of the selected features\n",
        "  :param score: score calculated for that selection\n",
        "  :param filepath: path to the file in which the information will be written\n",
        "  :param mode: 'w' for rewrite, 'a' for append.\n",
        "  \"\"\"\n",
        "  assert mode == 'w' or mode == 'a', \"Unknown mode of writing.\"\n",
        "  with open(filepath, mode) as writer:\n",
        "    writer.write(\"Selected features: \\n\")\n",
        "    if len(selection) == 0:\n",
        "      writer.write(\"None\\n\")\n",
        "    else:\n",
        "      writer.write(\"[\")\n",
        "      for i in range(len(selection)-1):\n",
        "        writer.write(str(selection[i]))\n",
        "        writer.write(\", \")\n",
        "      writer.write(str(selection[len(selection)-1]))\n",
        "      writer.write(\"]\")\n",
        "      writer.write(\"\\n\")\n",
        "    writer.write(\"Average score: \")\n",
        "    writer.write(str(score))\n",
        "    writer.write(\"\\n\")\n",
        "\n",
        "def after_selector_search(X, y, selector_output, output_file1, output_file2,\n",
        "                          number_of_searches: int = 10,\n",
        "                          number_of_validations: int = 30,\n",
        "                          model_type='rf', model_search=None, model_test=None,\n",
        "                          model_size: int = 4, var_penalty: int = 200,\n",
        "                          search_buff: float = 1.0, progress_bar: bool = True):\n",
        "  \"\"\"\n",
        "  Performs a randomized bidirectional search for the best subset of a\n",
        "  set of variables selected in a different way.\n",
        "\n",
        "  :param X: observations\n",
        "  :param y: answer vector\n",
        "  :param selector_output: the set of indices of interesting variables.\n",
        "    X and selector_output should match so that X[:, selector_output] contains\n",
        "    the interesting columns.\n",
        "  :param output_file1: a path to the file in which all of the results of\n",
        "    individual searches will be saved to (so that you can go back, check for\n",
        "    close calls if there will be a third stage of model building).\n",
        "    This file will be appended with each iteration.\n",
        "  :param output_file2: a path to the file in which the best subset found will\n",
        "    be saved. This file will be replaced each time.\n",
        "  :param number_of_searches: how many individual searches to do. By default 10,\n",
        "    but if you have time, feel free to increase it.\n",
        "  :param number_of_validations: on how many seeds will each found subset be\n",
        "    checked.\n",
        "  :param model_type: the model type that is used for testing. Available choices\n",
        "    are 'rf' (random forest), 'logreg' (logistic regression), 'ffn' (simple\n",
        "    neural network) and 'precomp' (predefined by used and passed via the\n",
        "    'model_search' and 'model_test' variables). By default 'rf'.\n",
        "    In case of 'precomp', both models have to have .fit() and .predict_proba()\n",
        "    methods implemented.\n",
        "  :param model_search: used for 'precomp' value of the 'model_type' argument.\n",
        "    This is the model that will be used during the search. Beware not to\n",
        "    put a model that is too big for that, as it can greatly slow down the\n",
        "    calculation.\n",
        "  :param model_test: used for 'precomp' value of the 'model_type' argument.\n",
        "    This is the model that will be used for calculating the score of a found\n",
        "    result.\n",
        "  :param model_size: affects the number of classifiers of random forest and the\n",
        "    number of layers of the ffn.\n",
        "  :param var_penalty: allows for adjusting the penalty for the number of\n",
        "    variables (for this function discouraged).\n",
        "  :param search_buff: the decrease of var_penalty for the testing model (as\n",
        "    a number to multiply it by). By default, it's 1.0, but I recommend\n",
        "    performing some experiments with lower values (i.e. 0.8) and see whether\n",
        "    that improves the final scores.\n",
        "  :param progress_bar: toggles the progress bar.\n",
        "\n",
        "  :returns: nothing, all the relevant output will be stored in the files.\n",
        "  \"\"\"\n",
        "  X_ws = X[:, selector_output]\n",
        "  search_var_penalty = int(var_penalty * search_buff)\n",
        "  # shouldn't drop below that\n",
        "  best_score = -10000000\n",
        "  best_found = selector_output\n",
        "\n",
        "  for i in range(number_of_searches):\n",
        "    found = featuresel_bidirectional(X_ws, y, number_of_tries=1,\n",
        "                                     model_type=model_type, model=model_search,\n",
        "                                     model_size=model_size,\n",
        "                                     var_penalty=search_var_penalty,\n",
        "                                     progress_bar=progress_bar,\n",
        "                                     results_show=False)\n",
        "    selected = selector_output[found]\n",
        "    selected_bool = [False for i in range(len(selector_output))]\n",
        "    for val in found:\n",
        "      selected_bool[val] = True\n",
        "\n",
        "    print(\"Selection: \", selected)\n",
        "    if progress_bar:\n",
        "      print(\"Starting the subselection evaluation.\")\n",
        "      print(\"Progress bar: \", end='')\n",
        "\n",
        "    results = []\n",
        "    for j in range(number_of_validations):\n",
        "      if progress_bar:\n",
        "        print(\"=\", end='')\n",
        "      seed = np.random.randint(low=3, high=2147483647)\n",
        "      result_j = selection_score_CV(X_ws, y, selection=selected_bool,\n",
        "                                    seed=seed, model_type=model_type,\n",
        "                                    model=model_test, model_size=3*model_size,\n",
        "                                    var_penalty=var_penalty)\n",
        "      results.append(result_j)\n",
        "\n",
        "    if progress_bar:\n",
        "      print()\n",
        "\n",
        "    results = np.array(results)\n",
        "    avg_score = np.mean(results)\n",
        "    print(\"Score: \", avg_score)\n",
        "\n",
        "    if progress_bar:\n",
        "      print(\"Evaluation finished, writing results.\")\n",
        "\n",
        "    write_selection(selection=selected, score=avg_score,\n",
        "                    filepath=output_file1, mode='a')\n",
        "\n",
        "    if avg_score > best_score:\n",
        "      best_found = selected\n",
        "      best_score = avg_score\n",
        "      write_selection(selection=selected, score=avg_score,\n",
        "                      filepath=output_file2, mode='w')\n",
        "\n",
        "    if progress_bar:\n",
        "      print(\"Search \"+str(i)+\" finished! \\n\\n\\n\")\n",
        "\n",
        "  return"
      ]
    },
    {
      "cell_type": "code",
      "execution_count": 9,
      "metadata": {
        "id": "iAep1d8STGCM"
      },
      "outputs": [],
      "source": [
        "def full_search(X, y, confirmed, pending, output_file,\n",
        "                number_of_validations: int = 100,\n",
        "                model_type='rf', model=None, model_size: int = 4,\n",
        "                var_penalty: int = 200):\n",
        "  \"\"\"\n",
        "  Checks all of the subsets of a given selection, builds models on each one\n",
        "  and does a serious validation.\n",
        "  \"\"\"\n",
        "  selection = np.concatenate((confirmed, pending), axis=None)\n",
        "  X_ws = X[:, selection]\n",
        "\n",
        "  subsets = list(itertools.product([False, True], repeat=len(pending)))\n",
        "  subsets = [np.array(arr) for arr in subsets]\n",
        "  conf_bool = np.array([True for val in confirmed])\n",
        "  subsets = [np.concatenate((conf_bool, arr), axis=None) for arr in subsets]\n",
        "\n",
        "  for subset in subsets:\n",
        "    results = []\n",
        "    for j in range(number_of_validations):\n",
        "      seed = np.random.randint(low=3, high=2147483647)\n",
        "      result_j = selection_score_CV(X_ws, y, selection=subset,\n",
        "                                    seed=seed, model_type=model_type,\n",
        "                                    model=model, model_size=3*model_size,\n",
        "                                    var_penalty=var_penalty)\n",
        "      results.append(result_j)\n",
        "\n",
        "    results = np.array(results)\n",
        "    avg_score = np.mean(results)\n",
        "    subset_indices = selection[subset]\n",
        "    print(\"subset: \", subset_indices, \"done!\")\n",
        "    print(\"avg score: \", avg_score)\n",
        "\n",
        "    write_selection(selection=subset_indices, score=avg_score,\n",
        "                    filepath=output_file, mode='a')\n",
        "\n",
        "  return"
      ]
    },
    {
      "cell_type": "code",
      "execution_count": 10,
      "metadata": {
        "id": "huzYqd4Ke2jz"
      },
      "outputs": [],
      "source": [
        "def load_data(path_X, path_y, standardize: bool=True, filter_outs: bool=False,\n",
        "              seed=42):\n",
        "  X = pd.read_csv(path_X, sep=' ', header=None)\n",
        "  X = X.values\n",
        "\n",
        "  y = pd.read_csv(path_y, header=None)\n",
        "  y = y.values\n",
        "  y = y.reshape(-1)\n",
        "\n",
        "  if filter_outs:\n",
        "    isofor = IsolationForest(random_state=seed)\n",
        "    out_labels = isofor.fit_predict(X)\n",
        "    inliner_indices = [i for i, val in enumerate(out_labels) if val == 1]\n",
        "    X = X[inliner_indices]\n",
        "    y = y[inliner_indices]\n",
        "\n",
        "  if standardize:\n",
        "    X_columns = []\n",
        "    for i in range(len(X[0])):\n",
        "      X_columns.append(X[:,i])\n",
        "\n",
        "    for i, column in enumerate(X_columns):\n",
        "      loc = np.mean(column)\n",
        "      scale = np.std(column)\n",
        "      X_columns[i] = (column - loc)/scale\n",
        "\n",
        "    X = np.column_stack(X_columns)\n",
        "\n",
        "  return X, y"
      ]
    },
    {
      "cell_type": "markdown",
      "metadata": {
        "id": "c2nR3aXT9Ngt"
      },
      "source": [
        "# BORUTA"
      ]
    },
    {
      "cell_type": "code",
      "execution_count": 10,
      "metadata": {
        "id": "r7I6Re0S9I0a"
      },
      "outputs": [],
      "source": [
        "# The package code crashed with the Google Colab's version of numpy, so I stole it for repairs.\n",
        "\"\"\"\n",
        "Author: Daniel Homola <dani.homola@gmail.com>\n",
        "\n",
        "Original code and method by: Miron B Kursa, https://m2.icm.edu.pl/boruta/\n",
        "\n",
        "License: BSD 3 clause\n",
        "\"\"\"\n",
        "\n",
        "from __future__ import print_function, division\n",
        "import numpy as np\n",
        "import scipy as sp\n",
        "from sklearn.utils import check_random_state, check_X_y\n",
        "from sklearn.base import TransformerMixin, BaseEstimator\n",
        "\n",
        "\n",
        "class BorutaPy(BaseEstimator, TransformerMixin):\n",
        "    \"\"\"\n",
        "    Improved Python implementation of the Boruta R package.\n",
        "\n",
        "    The improvements of this implementation include:\n",
        "    - Faster run times:\n",
        "        Thanks to scikit-learn's fast implementation of the ensemble methods.\n",
        "    - Scikit-learn like interface:\n",
        "        Use BorutaPy just like any other scikit learner: fit, fit_transform and\n",
        "        transform are all implemented in a similar fashion.\n",
        "    - Modularity:\n",
        "        Any ensemble method could be used: random forest, extra trees\n",
        "        classifier, even gradient boosted trees.\n",
        "    - Two step correction:\n",
        "        The original Boruta code corrects for multiple testing in an overly\n",
        "        conservative way. In this implementation, the Benjamini Hochberg FDR is\n",
        "        used to correct in each iteration across active features. This means\n",
        "        only those features are included in the correction which are still in\n",
        "        the selection process. Following this, each that passed goes through a\n",
        "        regular Bonferroni correction to check for the repeated testing over\n",
        "        the iterations.\n",
        "    - Percentile:\n",
        "        Instead of using the max values of the shadow features the user can\n",
        "        specify which percentile to use. This gives a finer control over this\n",
        "        crucial parameter. For more info, please read about the perc parameter.\n",
        "    - Automatic tree number:\n",
        "        Setting the n_estimator to 'auto' will calculate the number of trees\n",
        "        in each itartion based on the number of features under investigation.\n",
        "        This way more trees are used when the training data has many feautres\n",
        "        and less when most of the features have been rejected.\n",
        "    - Ranking of features:\n",
        "        After fitting BorutaPy it provides the user with ranking of features.\n",
        "        Confirmed ones are 1, Tentatives are 2, and the rejected are ranked\n",
        "        starting from 3, based on their feautre importance history through\n",
        "        the iterations.\n",
        "\n",
        "    We highly recommend using pruned trees with a depth between 3-7.\n",
        "\n",
        "    For more, see the docs of these functions, and the examples below.\n",
        "\n",
        "    Original code and method by: Miron B Kursa, https://m2.icm.edu.pl/boruta/\n",
        "\n",
        "    Boruta is an all relevant feature selection method, while most other are\n",
        "    minimal optimal; this means it tries to find all features carrying\n",
        "    information usable for prediction, rather than finding a possibly compact\n",
        "    subset of features on which some classifier has a minimal error.\n",
        "\n",
        "    Why bother with all relevant feature selection?\n",
        "    When you try to understand the phenomenon that made your data, you should\n",
        "    care about all factors that contribute to it, not just the bluntest signs\n",
        "    of it in context of your methodology (yes, minimal optimal set of features\n",
        "    by definition depends on your classifier choice).\n",
        "\n",
        "    Parameters\n",
        "    ----------\n",
        "\n",
        "    estimator : object\n",
        "        A supervised learning estimator, with a 'fit' method that returns the\n",
        "        feature_importances_ attribute. Important features must correspond to\n",
        "        high absolute values in the feature_importances_.\n",
        "\n",
        "    n_estimators : int or string, default = 1000\n",
        "        If int sets the number of estimators in the chosen ensemble method.\n",
        "        If 'auto' this is determined automatically based on the size of the\n",
        "        dataset. The other parameters of the used estimators need to be set\n",
        "        with initialisation.\n",
        "\n",
        "    perc : int, default = 100\n",
        "        Instead of the max we use the percentile defined by the user, to pick\n",
        "        our threshold for comparison between shadow and real features. The max\n",
        "        tend to be too stringent. This provides a finer control over this. The\n",
        "        lower perc is the more false positives will be picked as relevant but\n",
        "        also the less relevant features will be left out. The usual trade-off.\n",
        "        The default is essentially the vanilla Boruta corresponding to the max.\n",
        "\n",
        "    alpha : float, default = 0.05\n",
        "        Level at which the corrected p-values will get rejected in both\n",
        "        correction steps.\n",
        "\n",
        "    two_step : Boolean, default = True\n",
        "        If you want to use the original implementation of Boruta with Bonferroni\n",
        "        correction only set this to False.\n",
        "\n",
        "    max_iter : int, default = 100\n",
        "        The number of maximum iterations to perform.\n",
        "\n",
        "    random_state : int, RandomState instance or None; default=None\n",
        "        If int, random_state is the seed used by the random number generator;\n",
        "        If RandomState instance, random_state is the random number generator;\n",
        "        If None, the random number generator is the RandomState instance used\n",
        "        by `np.random`.\n",
        "\n",
        "    verbose : int, default=0\n",
        "        Controls verbosity of output:\n",
        "        - 0: no output\n",
        "        - 1: displays iteration number\n",
        "        - 2: which features have been selected already\n",
        "\n",
        "    Attributes\n",
        "    ----------\n",
        "\n",
        "    n_features_ : int\n",
        "        The number of selected features.\n",
        "\n",
        "    support_ : array of shape [n_features]\n",
        "\n",
        "        The mask of selected features - only confirmed ones are True.\n",
        "\n",
        "    support_weak_ : array of shape [n_features]\n",
        "\n",
        "        The mask of selected tentative features, which haven't gained enough\n",
        "        support during the max_iter number of iterations..\n",
        "\n",
        "    ranking_ : array of shape [n_features]\n",
        "\n",
        "        The feature ranking, such that ``ranking_[i]`` corresponds to the\n",
        "        ranking position of the i-th feature. Selected (i.e., estimated\n",
        "        best) features are assigned rank 1 and tentative features are assigned\n",
        "        rank 2.\n",
        "\n",
        "    Examples\n",
        "    --------\n",
        "\n",
        "    import pandas as pd\n",
        "    from sklearn.ensemble import RandomForestClassifier\n",
        "    from boruta import BorutaPy\n",
        "\n",
        "    # load X and y\n",
        "    # NOTE BorutaPy accepts numpy arrays only, hence the .values attribute\n",
        "    X = pd.read_csv('examples/test_X.csv', index_col=0).values\n",
        "    y = pd.read_csv('examples/test_y.csv', header=None, index_col=0).values\n",
        "    y = y.ravel()\n",
        "\n",
        "    # define random forest classifier, with utilising all cores and\n",
        "    # sampling in proportion to y labels\n",
        "    rf = RandomForestClassifier(n_jobs=-1, class_weight='balanced', max_depth=5)\n",
        "\n",
        "    # define Boruta feature selection method\n",
        "    feat_selector = BorutaPy(rf, n_estimators='auto', verbose=2, random_state=1)\n",
        "\n",
        "    # find all relevant features - 5 features should be selected\n",
        "    feat_selector.fit(X, y)\n",
        "\n",
        "    # check selected features - first 5 features are selected\n",
        "    feat_selector.support_\n",
        "\n",
        "    # check ranking of features\n",
        "    feat_selector.ranking_\n",
        "\n",
        "    # call transform() on X to filter it down to selected features\n",
        "    X_filtered = feat_selector.transform(X)\n",
        "\n",
        "    References\n",
        "    ----------\n",
        "\n",
        "    [1] Kursa M., Rudnicki W., \"Feature Selection with the Boruta Package\"\n",
        "        Journal of Statistical Software, Vol. 36, Issue 11, Sep 2010\n",
        "    \"\"\"\n",
        "\n",
        "    def __init__(self, estimator, n_estimators=1000, perc=100, alpha=0.05,\n",
        "                 two_step=True, max_iter=100, random_state=None, verbose=0):\n",
        "        self.estimator = estimator\n",
        "        self.n_estimators = n_estimators\n",
        "        self.perc = perc\n",
        "        self.alpha = alpha\n",
        "        self.two_step = two_step\n",
        "        self.max_iter = max_iter\n",
        "        self.random_state = random_state\n",
        "        self.verbose = verbose\n",
        "\n",
        "    def fit(self, X, y):\n",
        "        \"\"\"\n",
        "        Fits the Boruta feature selection with the provided estimator.\n",
        "\n",
        "        Parameters\n",
        "        ----------\n",
        "        X : array-like, shape = [n_samples, n_features]\n",
        "            The training input samples.\n",
        "\n",
        "        y : array-like, shape = [n_samples]\n",
        "            The target values.\n",
        "        \"\"\"\n",
        "\n",
        "        return self._fit(X, y)\n",
        "\n",
        "    def transform(self, X, weak=False):\n",
        "        \"\"\"\n",
        "        Reduces the input X to the features selected by Boruta.\n",
        "\n",
        "        Parameters\n",
        "        ----------\n",
        "        X : array-like, shape = [n_samples, n_features]\n",
        "            The training input samples.\n",
        "\n",
        "        weak: boolean, default = False\n",
        "            If set to true, the tentative features are also used to reduce X.\n",
        "\n",
        "        Returns\n",
        "        -------\n",
        "        X : array-like, shape = [n_samples, n_features_]\n",
        "            The input matrix X's columns are reduced to the features which were\n",
        "            selected by Boruta.\n",
        "        \"\"\"\n",
        "\n",
        "        return self._transform(X, weak)\n",
        "\n",
        "    def fit_transform(self, X, y, weak=False):\n",
        "        \"\"\"\n",
        "        Fits Boruta, then reduces the input X to the selected features.\n",
        "\n",
        "        Parameters\n",
        "        ----------\n",
        "        X : array-like, shape = [n_samples, n_features]\n",
        "            The training input samples.\n",
        "\n",
        "        y : array-like, shape = [n_samples]\n",
        "            The target values.\n",
        "\n",
        "        weak: boolean, default = False\n",
        "            If set to true, the tentative features are also used to reduce X.\n",
        "\n",
        "        Returns\n",
        "        -------\n",
        "        X : array-like, shape = [n_samples, n_features_]\n",
        "            The input matrix X's columns are reduced to the features which were\n",
        "            selected by Boruta.\n",
        "        \"\"\"\n",
        "\n",
        "        self._fit(X, y)\n",
        "        return self._transform(X, weak)\n",
        "\n",
        "    def _fit(self, X, y):\n",
        "        # check input params\n",
        "        self._check_params(X, y)\n",
        "        self.random_state = check_random_state(self.random_state)\n",
        "        # setup variables for Boruta\n",
        "        n_sample, n_feat = X.shape\n",
        "        _iter = 1\n",
        "        # holds the decision about each feature:\n",
        "        # 0  - default state = tentative in original code\n",
        "        # 1  - accepted in original code\n",
        "        # -1 - rejected in original code\n",
        "        dec_reg = np.zeros(n_feat, dtype=int)                                     # I changed np.int to int, according to the new numpy rules\n",
        "        # counts how many times a given feature was more important than\n",
        "        # the best of the shadow features\n",
        "        hit_reg = np.zeros(n_feat, dtype=int)                                     # I changed np.int to int, according to the new numpy rules\n",
        "        # these record the history of the iterations\n",
        "        imp_history = np.zeros(n_feat, dtype=float)                               # I changed np.float to float, according to the new numpy rules\n",
        "        sha_max_history = []\n",
        "\n",
        "        # set n_estimators\n",
        "        if self.n_estimators != 'auto':\n",
        "            self.estimator.set_params(n_estimators=self.n_estimators)\n",
        "\n",
        "        # main feature selection loop\n",
        "        while np.any(dec_reg == 0) and _iter < self.max_iter:\n",
        "            # find optimal number of trees and depth\n",
        "            if self.n_estimators == 'auto':\n",
        "                # number of features that aren't rejected\n",
        "                not_rejected = np.where(dec_reg >= 0)[0].shape[0]\n",
        "                n_tree = self._get_tree_num(not_rejected)\n",
        "                self.estimator.set_params(n_estimators=n_tree)\n",
        "\n",
        "            # make sure we start with a new tree in each iteration\n",
        "            self.estimator.set_params(random_state=self.random_state)\n",
        "\n",
        "            # add shadow attributes, shuffle them and train estimator, get imps\n",
        "            cur_imp = self._add_shadows_get_imps(X, y, dec_reg)\n",
        "\n",
        "            # get the threshold of shadow importances we will use for rejection\n",
        "            imp_sha_max = np.percentile(cur_imp[1], self.perc)\n",
        "\n",
        "            # record importance history\n",
        "            sha_max_history.append(imp_sha_max)\n",
        "            imp_history = np.vstack((imp_history, cur_imp[0]))\n",
        "\n",
        "            # register which feature is more imp than the max of shadows\n",
        "            hit_reg = self._assign_hits(hit_reg, cur_imp, imp_sha_max)\n",
        "\n",
        "            # based on hit_reg we check if a feature is doing better than\n",
        "            # expected by chance\n",
        "            dec_reg = self._do_tests(dec_reg, hit_reg, _iter)\n",
        "\n",
        "            # print out confirmed features\n",
        "            if self.verbose > 0 and _iter < self.max_iter:\n",
        "                self._print_results(dec_reg, _iter, 0)\n",
        "            if _iter < self.max_iter:\n",
        "                _iter += 1\n",
        "\n",
        "        # we automatically apply R package's rough fix for tentative ones\n",
        "        confirmed = np.where(dec_reg == 1)[0]\n",
        "        tentative = np.where(dec_reg == 0)[0]\n",
        "        # ignore the first row of zeros\n",
        "        tentative_median = np.median(imp_history[1:, tentative], axis=0)\n",
        "        # which tentative to keep\n",
        "        tentative_confirmed = np.where(tentative_median\n",
        "                                       > np.median(sha_max_history))[0]\n",
        "        tentative = tentative[tentative_confirmed]\n",
        "\n",
        "        # basic result variables\n",
        "        self.n_features_ = confirmed.shape[0]\n",
        "        self.support_ = np.zeros(n_feat, dtype=bool)                              # I changed np.bool to bool, according to the new numpy rules\n",
        "        self.support_[confirmed] = 1\n",
        "        self.support_weak_ = np.zeros(n_feat, dtype=bool)                         # I changed np.bool to bool, according to the new numpy rules\n",
        "        self.support_weak_[tentative] = 1\n",
        "\n",
        "        # ranking, confirmed variables are rank 1\n",
        "        self.ranking_ = np.ones(n_feat, dtype=int)                                # I changed np.int to int, according to the new numpy rules\n",
        "        # tentative variables are rank 2\n",
        "        self.ranking_[tentative] = 2\n",
        "        # selected = confirmed and tentative\n",
        "        selected = np.hstack((confirmed, tentative))\n",
        "        # all rejected features are sorted by importance history\n",
        "        not_selected = np.setdiff1d(np.arange(n_feat), selected)\n",
        "        # large importance values should rank higher = lower ranks -> *(-1)\n",
        "        imp_history_rejected = imp_history[1:, not_selected] * -1\n",
        "\n",
        "        # update rank for not_selected features\n",
        "        if not_selected.shape[0] > 0:\n",
        "                # calculate ranks in each iteration, then median of ranks across feats\n",
        "                iter_ranks = self._nanrankdata(imp_history_rejected, axis=1)\n",
        "                rank_medians = np.nanmedian(iter_ranks, axis=0)\n",
        "                ranks = self._nanrankdata(rank_medians, axis=0)\n",
        "\n",
        "                # set smallest rank to 3 if there are tentative feats\n",
        "                if tentative.shape[0] > 0:\n",
        "                    ranks = ranks - np.min(ranks) + 3\n",
        "                else:\n",
        "                    # and 2 otherwise\n",
        "                    ranks = ranks - np.min(ranks) + 2\n",
        "                self.ranking_[not_selected] = ranks\n",
        "        else:\n",
        "            # all are selected, thus we set feature supports to True\n",
        "            self.support_ = np.ones(n_feat, dtype=bool)                           # I changed np.bool to bool, according to the new numpy rules\n",
        "\n",
        "        # notify user\n",
        "        if self.verbose > 0:\n",
        "            self._print_results(dec_reg, _iter, 1)\n",
        "        return self\n",
        "\n",
        "    def _transform(self, X, weak=False):\n",
        "        # sanity check\n",
        "        try:\n",
        "            self.ranking_\n",
        "        except AttributeError:\n",
        "            raise ValueError('You need to call the fit(X, y) method first.')\n",
        "\n",
        "        if weak:\n",
        "            X = X[:, self.support_ + self.support_weak_]\n",
        "        else:\n",
        "            X = X[:, self.support_]\n",
        "        return X\n",
        "\n",
        "    def _get_tree_num(self, n_feat):\n",
        "        depth = self.estimator.get_params()['max_depth']\n",
        "        if depth == None:\n",
        "            depth = 10\n",
        "        # how many times a feature should be considered on average\n",
        "        f_repr = 100\n",
        "        # n_feat * 2 because the training matrix is extended with n shadow features\n",
        "        multi = ((n_feat * 2) / (np.sqrt(n_feat * 2) * depth))\n",
        "        n_estimators = int(multi * f_repr)\n",
        "        return n_estimators\n",
        "\n",
        "    def _get_imp(self, X, y):\n",
        "        try:\n",
        "            self.estimator.fit(X, y)\n",
        "        except Exception as e:\n",
        "            raise ValueError('Please check your X and y variable. The provided'\n",
        "                             'estimator cannot be fitted to your data.\\n' + str(e))\n",
        "        try:\n",
        "            imp = self.estimator.feature_importances_\n",
        "        except Exception:\n",
        "            raise ValueError('Only methods with feature_importance_ attribute '\n",
        "                             'are currently supported in BorutaPy.')\n",
        "        return imp\n",
        "\n",
        "    def _get_shuffle(self, seq):\n",
        "        self.random_state.shuffle(seq)\n",
        "        return seq\n",
        "\n",
        "    def _add_shadows_get_imps(self, X, y, dec_reg):\n",
        "        # find features that are tentative still\n",
        "        x_cur_ind = np.where(dec_reg >= 0)[0]\n",
        "        x_cur = np.copy(X[:, x_cur_ind])\n",
        "        x_cur_w = x_cur.shape[1]\n",
        "        # deep copy the matrix for the shadow matrix\n",
        "        x_sha = np.copy(x_cur)\n",
        "        # make sure there's at least 5 columns in the shadow matrix for\n",
        "        while (x_sha.shape[1] < 5):\n",
        "            x_sha = np.hstack((x_sha, x_sha))\n",
        "        # shuffle xSha\n",
        "        x_sha = np.apply_along_axis(self._get_shuffle, 0, x_sha)\n",
        "        # get importance of the merged matrix\n",
        "        imp = self._get_imp(np.hstack((x_cur, x_sha)), y)\n",
        "        # separate importances of real and shadow features\n",
        "        imp_sha = imp[x_cur_w:]\n",
        "        imp_real = np.zeros(X.shape[1])\n",
        "        imp_real[:] = np.nan\n",
        "        imp_real[x_cur_ind] = imp[:x_cur_w]\n",
        "        return imp_real, imp_sha\n",
        "\n",
        "    def _assign_hits(self, hit_reg, cur_imp, imp_sha_max):\n",
        "        # register hits for features that did better than the best of shadows\n",
        "        cur_imp_no_nan = cur_imp[0]\n",
        "        cur_imp_no_nan[np.isnan(cur_imp_no_nan)] = 0\n",
        "        hits = np.where(cur_imp_no_nan > imp_sha_max)[0]\n",
        "        hit_reg[hits] += 1\n",
        "        return hit_reg\n",
        "\n",
        "    def _do_tests(self, dec_reg, hit_reg, _iter):\n",
        "        active_features = np.where(dec_reg >= 0)[0]\n",
        "        hits = hit_reg[active_features]\n",
        "        # get uncorrected p values based on hit_reg\n",
        "        to_accept_ps = sp.stats.binom.sf(hits - 1, _iter, .5).flatten()\n",
        "        to_reject_ps = sp.stats.binom.cdf(hits, _iter, .5).flatten()\n",
        "\n",
        "        if self.two_step:\n",
        "            # two step multicor process\n",
        "            # first we correct for testing several features in each round using FDR\n",
        "            to_accept = self._fdrcorrection(to_accept_ps, alpha=self.alpha)[0]\n",
        "            to_reject = self._fdrcorrection(to_reject_ps, alpha=self.alpha)[0]\n",
        "\n",
        "            # second we correct for testing the same feature over and over again\n",
        "            # using bonferroni\n",
        "            to_accept2 = to_accept_ps <= self.alpha / float(_iter)\n",
        "            to_reject2 = to_reject_ps <= self.alpha / float(_iter)\n",
        "\n",
        "            # combine the two multi corrections, and get indexes\n",
        "            to_accept *= to_accept2\n",
        "            to_reject *= to_reject2\n",
        "        else:\n",
        "            # as in th original Boruta, we simply do bonferroni correction\n",
        "            # with the total n_feat in each iteration\n",
        "            to_accept = to_accept_ps <= self.alpha / float(len(dec_reg))\n",
        "            to_reject = to_reject_ps <= self.alpha / float(len(dec_reg))\n",
        "\n",
        "        # find features which are 0 and have been rejected or accepted\n",
        "        to_accept = np.where((dec_reg[active_features] == 0) * to_accept)[0]\n",
        "        to_reject = np.where((dec_reg[active_features] == 0) * to_reject)[0]\n",
        "\n",
        "        # updating dec_reg\n",
        "        dec_reg[active_features[to_accept]] = 1\n",
        "        dec_reg[active_features[to_reject]] = -1\n",
        "        return dec_reg\n",
        "\n",
        "    def _fdrcorrection(self, pvals, alpha=0.05):\n",
        "        \"\"\"\n",
        "        Benjamini/Hochberg p-value correction for false discovery rate, from\n",
        "        statsmodels package. Included here for decoupling dependency on statsmodels.\n",
        "\n",
        "        Parameters\n",
        "        ----------\n",
        "        pvals : array_like\n",
        "            set of p-values of the individual tests.\n",
        "        alpha : float\n",
        "            error rate\n",
        "\n",
        "        Returns\n",
        "        -------\n",
        "        rejected : array, bool\n",
        "            True if a hypothesis is rejected, False if not\n",
        "        pvalue-corrected : array\n",
        "            pvalues adjusted for multiple hypothesis testing to limit FDR\n",
        "        \"\"\"\n",
        "        pvals = np.asarray(pvals)\n",
        "        pvals_sortind = np.argsort(pvals)\n",
        "        pvals_sorted = np.take(pvals, pvals_sortind)\n",
        "        nobs = len(pvals_sorted)\n",
        "        ecdffactor = np.arange(1, nobs + 1) / float(nobs)\n",
        "\n",
        "        reject = pvals_sorted <= ecdffactor * alpha\n",
        "        if reject.any():\n",
        "            rejectmax = max(np.nonzero(reject)[0])\n",
        "            reject[:rejectmax] = True\n",
        "\n",
        "        pvals_corrected_raw = pvals_sorted / ecdffactor\n",
        "        pvals_corrected = np.minimum.accumulate(pvals_corrected_raw[::-1])[::-1]\n",
        "        pvals_corrected[pvals_corrected > 1] = 1\n",
        "        # reorder p-values and rejection mask to original order of pvals\n",
        "        pvals_corrected_ = np.empty_like(pvals_corrected)\n",
        "        pvals_corrected_[pvals_sortind] = pvals_corrected\n",
        "        reject_ = np.empty_like(reject)\n",
        "        reject_[pvals_sortind] = reject\n",
        "        return reject_, pvals_corrected_\n",
        "\n",
        "    def _nanrankdata(self, X, axis=1):\n",
        "        \"\"\"\n",
        "        Replaces bottleneck's nanrankdata with scipy and numpy alternative.\n",
        "        \"\"\"\n",
        "        ranks = sp.stats.mstats.rankdata(X, axis=axis)\n",
        "        ranks[np.isnan(X)] = np.nan\n",
        "        return ranks\n",
        "\n",
        "    def _check_params(self, X, y):\n",
        "        \"\"\"\n",
        "        Check hyperparameters as well as X and y before proceeding with fit.\n",
        "        \"\"\"\n",
        "        # check X and y are consistent len, X is Array and y is column\n",
        "        X, y = check_X_y(X, y)\n",
        "        if self.perc <= 0 or self.perc > 100:\n",
        "            raise ValueError('The percentile should be between 0 and 100.')\n",
        "\n",
        "        if self.alpha <= 0 or self.alpha > 1:\n",
        "            raise ValueError('Alpha should be between 0 and 1.')\n",
        "\n",
        "    def _print_results(self, dec_reg, _iter, flag):\n",
        "        n_iter = str(_iter) + ' / ' + str(self.max_iter)\n",
        "        n_confirmed = np.where(dec_reg == 1)[0].shape[0]\n",
        "        n_rejected = np.where(dec_reg == -1)[0].shape[0]\n",
        "        cols = ['Iteration: ', 'Confirmed: ', 'Tentative: ', 'Rejected: ']\n",
        "\n",
        "        # still in feature selection\n",
        "        if flag == 0:\n",
        "            n_tentative = np.where(dec_reg == 0)[0].shape[0]\n",
        "            content = map(str, [n_iter, n_confirmed, n_tentative, n_rejected])\n",
        "            if self.verbose == 1:\n",
        "                output = cols[0] + n_iter\n",
        "            elif self.verbose > 1:\n",
        "                output = '\\n'.join([x[0] + '\\t' + x[1] for x in zip(cols, content)])\n",
        "\n",
        "        # Boruta finished running and tentatives have been filtered\n",
        "        else:\n",
        "            n_tentative = np.sum(self.support_weak_)\n",
        "            content = map(str, [n_iter, n_confirmed, n_tentative, n_rejected])\n",
        "            result = '\\n'.join([x[0] + '\\t' + x[1] for x in zip(cols, content)])\n",
        "            output = \"\\n\\nBorutaPy finished running.\\n\\n\" + result\n",
        "        print(output)\n"
      ]
    },
    {
      "cell_type": "markdown",
      "metadata": {
        "id": "aZL79er4Cc6g"
      },
      "source": [
        "# TESTS:"
      ]
    },
    {
      "cell_type": "code",
      "execution_count": 11,
      "metadata": {
        "id": "x1fVBYEhhm9q"
      },
      "outputs": [],
      "source": [
        "X, y = load_data(\"x_train.txt\", \"y_train.txt\")"
      ]
    },
    {
      "cell_type": "code",
      "execution_count": null,
      "metadata": {
        "colab": {
          "base_uri": "https://localhost:8080/"
        },
        "id": "7jFF7O_Uhufs",
        "outputId": "f7f6f7e5-4107-48fe-d492-3b0b035f5807"
      },
      "outputs": [
        {
          "name": "stdout",
          "output_type": "stream",
          "text": [
            "[0 0 1 ... 0 0 0]\n",
            "[[-1.34108452 -1.19060826 -0.59564832 ...  1.42942589 -0.62042441\n",
            "  -0.41718029]\n",
            " [-0.72102972 -0.80573135 -1.43982214 ...  0.51277217  0.53388095\n",
            "  -1.10634616]\n",
            " [-1.40561259 -0.62198189 -0.80992346 ...  0.45665618  0.39051437\n",
            "  -0.90059694]\n",
            " [ 0.32659967  0.22333625 -0.05111822 ...  0.18851043 -0.94586428\n",
            "   0.09902513]\n",
            " [-0.02853159 -0.23919905 -0.27735076 ...  0.73075823  0.1701234\n",
            "  -0.02523711]]\n",
            "(5000,) (5000, 500)\n"
          ]
        }
      ],
      "source": [
        "print(y)\n",
        "print(X[0:5])\n",
        "print(y.shape, X.shape)"
      ]
    },
    {
      "cell_type": "code",
      "execution_count": null,
      "metadata": {
        "colab": {
          "base_uri": "https://localhost:8080/"
        },
        "id": "uFzvh-99Cyc3",
        "outputId": "1f02e22a-3d8d-4c9f-b97a-c01e9c554fdf"
      },
      "outputs": [
        {
          "name": "stdout",
          "output_type": "stream",
          "text": [
            "2496\n"
          ]
        }
      ],
      "source": [
        "print(np.sum(y==1))"
      ]
    },
    {
      "cell_type": "markdown",
      "metadata": {
        "id": "S5uRT94sCM_W"
      },
      "source": [
        "### Outliers seem to mostly belong to the positive class..."
      ]
    },
    {
      "cell_type": "code",
      "execution_count": null,
      "metadata": {
        "colab": {
          "base_uri": "https://localhost:8080/"
        },
        "id": "VjXc8NEg-_2n",
        "outputId": "584c80fe-5fc8-4546-812f-2a3bb156fe14"
      },
      "outputs": [
        {
          "name": "stdout",
          "output_type": "stream",
          "text": [
            "[0.6, 0.6666666666666666, 0.4722222222222222, 0.2857142857142857, 0.64, 0.625, 0.582089552238806, 0.7, 0.4444444444444444, 0.7142857142857143, 0.7631578947368421, 0.4782608695652174, 0.4523809523809524, 0.6551724137931034, 0.5833333333333334, 0.6, 0.543859649122807, 0.46153846153846156, 0.47058823529411764, 0.6086956521739131, 0.45714285714285713, 0.6363636363636364, 0.5714285714285714, 0.5806451612903226, 0.5294117647058824, 0.5416666666666666, 0.48, 0.6428571428571429, 1.0, 0.5909090909090909, 0.625, 0.5925925925925926, 0.6, 0.5128205128205128, 0.5833333333333334, 0.5, 0.625, 0.55, 0.38461538461538464, 0.5, 0.6, 0.64, 0.7777777777777778, 0.5714285714285714, 0.55, 0.6, 0.6666666666666666, 0.5, 0.75, 0.2857142857142857, 1.0, 0.6666666666666666, 0.3125, 0.5306122448979592, 0.6125, 0.6206896551724138, 0.4, 0.34375, 0.5294117647058824, 0.5714285714285714, 0.5454545454545454, 0.5, 0.45454545454545453, 0.6774193548387096, 0.631578947368421, 0.5769230769230769, 0.42857142857142855, 0.6666666666666666, 0.5471698113207547, 0.6111111111111112, 0.23076923076923078, 0.5384615384615384, 0.6086956521739131, 0.6, 0.7272727272727273, 0.5, 0.64, 0.5, 0.6071428571428571, 0.5769230769230769, 0.42857142857142855, 0.625, 0.6923076923076923, 0.5909090909090909, 0.36363636363636365, 0.76, 0.0, 0.75, 0.6585365853658537, 0.75, 0.6666666666666666, 0.2, 0.5555555555555556, 0.8, 0.717948717948718, 0.35, 0.5, 0.5, 0.7407407407407407, 0.5294117647058824]\n"
          ]
        }
      ],
      "source": [
        "fractions_of_pos_outliers = []\n",
        "for i in range(42, 142):\n",
        "  X, y = load_data(\"x_train.txt\", \"y_train.txt\", filter_outs=True, seed=i)\n",
        "  filtered = 5000 - X.shape[0]\n",
        "  filt_pos = 2496 - np.sum(y)\n",
        "  fractions_of_pos_outliers.append(filt_pos / filtered)\n",
        "\n",
        "print(fractions_of_pos_outliers)"
      ]
    },
    {
      "cell_type": "code",
      "execution_count": null,
      "metadata": {
        "colab": {
          "base_uri": "https://localhost:8080/",
          "height": 452
        },
        "id": "QFILvVUgBui3",
        "outputId": "1d17525c-83ef-4ae7-ff94-060f05924738"
      },
      "outputs": [
        {
          "data": {
            "image/png": "[encoded data removed]",
            "text/plain": [
              "<Figure size 640x480 with 1 Axes>"
            ]
          },
          "metadata": {},
          "output_type": "display_data"
        }
      ],
      "source": [
        "plt.hist(fractions_of_pos_outliers, bins=30, density=True, alpha=0.6, color='g')\n",
        "plt.title(\"fraction of positives in the outlier group\")\n",
        "plt.show()"
      ]
    },
    {
      "cell_type": "markdown",
      "metadata": {
        "id": "V_V7w4qVDYsJ"
      },
      "source": [
        "let's look at it on an example of \"important features\" only, maybe with lower noise, the correlation will be even stronger?"
      ]
    },
    {
      "cell_type": "code",
      "execution_count": null,
      "metadata": {
        "id": "a5eZSGwmDpNI"
      },
      "outputs": [],
      "source": [
        "boruta_base_not_rejected = [0, 2, 3, 4, 8, 9, 100, 101, 102, 103, 104, 105]\n",
        "X_not_rejected = X[:, boruta_base_not_rejected]"
      ]
    },
    {
      "cell_type": "code",
      "execution_count": null,
      "metadata": {
        "colab": {
          "base_uri": "https://localhost:8080/"
        },
        "collapsed": true,
        "id": "Mye3ZFMhEMRv",
        "outputId": "2a906590-720e-4773-d0a5-51e95a065eb6"
      },
      "outputs": [
        {
          "name": "stdout",
          "output_type": "stream",
          "text": [
            "510 373\n",
            "519 382\n",
            "531 389\n",
            "519 384\n",
            "513 381\n",
            "504 369\n",
            "654 480\n",
            "552 397\n",
            "520 383\n",
            "523 386\n",
            "555 406\n",
            "625 455\n",
            "637 465\n",
            "616 450\n",
            "533 392\n",
            "524 382\n",
            "691 507\n",
            "568 420\n",
            "579 425\n",
            "465 349\n",
            "580 421\n",
            "586 429\n",
            "474 352\n",
            "616 455\n",
            "611 445\n",
            "493 367\n",
            "594 430\n",
            "509 376\n",
            "506 374\n",
            "557 409\n",
            "565 412\n",
            "529 387\n",
            "542 406\n",
            "637 467\n",
            "573 422\n",
            "558 413\n",
            "564 417\n",
            "556 412\n",
            "486 361\n",
            "518 381\n",
            "433 322\n",
            "628 454\n",
            "449 324\n",
            "548 400\n",
            "587 428\n",
            "565 414\n",
            "581 429\n",
            "515 377\n",
            "514 379\n",
            "531 398\n",
            "476 343\n",
            "544 403\n",
            "572 419\n",
            "636 466\n",
            "618 452\n",
            "568 424\n",
            "560 413\n",
            "641 463\n",
            "500 368\n",
            "529 393\n",
            "525 383\n",
            "558 412\n",
            "519 385\n",
            "545 404\n",
            "613 443\n",
            "578 426\n",
            "611 448\n",
            "616 444\n",
            "591 429\n",
            "483 355\n",
            "485 358\n",
            "570 425\n",
            "607 447\n",
            "550 405\n",
            "600 434\n",
            "539 401\n",
            "558 412\n",
            "567 415\n",
            "560 413\n",
            "552 398\n",
            "526 379\n",
            "583 425\n",
            "576 425\n",
            "542 400\n",
            "634 464\n",
            "628 462\n",
            "576 421\n",
            "547 402\n",
            "576 423\n",
            "595 436\n",
            "487 362\n",
            "570 418\n",
            "610 443\n",
            "511 367\n",
            "553 408\n",
            "505 374\n",
            "536 402\n",
            "537 395\n",
            "599 436\n",
            "531 394\n"
          ]
        }
      ],
      "source": [
        "fractions_of_pos_outliers = []\n",
        "for i in range(42, 142):\n",
        "  isofor = IsolationForest(random_state=i)\n",
        "  out_labels = isofor.fit_predict(X_not_rejected)\n",
        "\n",
        "  inliner_indices = [i for i, val in enumerate(out_labels) if val == 1]\n",
        "  y_nr = y[inliner_indices]\n",
        "\n",
        "  filtered = 5000 - len(y_nr)\n",
        "  filt_pos = 2496 - np.sum(y_nr)\n",
        "  print(filtered, filt_pos)\n",
        "  fractions_of_pos_outliers.append(filt_pos / filtered)"
      ]
    },
    {
      "cell_type": "code",
      "execution_count": null,
      "metadata": {
        "colab": {
          "base_uri": "https://localhost:8080/",
          "height": 452
        },
        "id": "SxMKZQidFFIp",
        "outputId": "96a61f91-2d1a-43a6-a626-80fdfdfcd3ed"
      },
      "outputs": [
        {
          "data": {
            "image/png": "[encoded data removed]",
            "text/plain": [
              "<Figure size 640x480 with 1 Axes>"
            ]
          },
          "metadata": {},
          "output_type": "display_data"
        }
      ],
      "source": [
        "plt.hist(fractions_of_pos_outliers, bins=30, density=True, alpha=0.6, color='g')\n",
        "plt.title('Fraction of positives in the outlier group (noise \"removed\")')\n",
        "plt.show()"
      ]
    },
    {
      "cell_type": "markdown",
      "metadata": {
        "id": "9TX7V1BoGzO_"
      },
      "source": [
        "for reference, random forest predictor's accuracy:"
      ]
    },
    {
      "cell_type": "code",
      "execution_count": null,
      "metadata": {
        "id": "tMXz9kZIGymW"
      },
      "outputs": [],
      "source": [
        "accs = []\n",
        "tprs = []\n",
        "rf = RandomForestClassifier(n_estimators=600)\n",
        "for i in range(42, 142):\n",
        "  X_train, X_test, y_train, y_test = train_test_split(X_not_rejected, y,\n",
        "                                                      test_size=0.2,\n",
        "                                                      random_state=i)\n",
        "  rf.fit(X_train, y_train)\n",
        "  preds = rf.predict(X_test)\n",
        "\n",
        "  hits = np.sum(preds == y_test)\n",
        "  count = len(y_test)\n",
        "  tps = np.sum((preds == 1) & (y_test == 1))\n",
        "  ps = np.sum(preds == 1)\n",
        "\n",
        "  accs.append(hits / count)\n",
        "  tprs.append(tps / ps)"
      ]
    },
    {
      "cell_type": "code",
      "execution_count": null,
      "metadata": {
        "colab": {
          "base_uri": "https://localhost:8080/",
          "height": 452
        },
        "id": "Dwnqg871Ox6w",
        "outputId": "1d4a64de-e5ef-496c-ec6f-f8fc682b96c0"
      },
      "outputs": [
        {
          "data": {
            "image/png": "[encoded data removed]",
            "text/plain": [
              "<Figure size 640x480 with 1 Axes>"
            ]
          },
          "metadata": {},
          "output_type": "display_data"
        }
      ],
      "source": [
        "plt.hist(accs, bins=30, density=True, alpha=0.6, color='g')\n",
        "plt.title('Accuracy of random forest (noise \"removed\")')\n",
        "plt.show()"
      ]
    },
    {
      "cell_type": "code",
      "execution_count": null,
      "metadata": {
        "colab": {
          "base_uri": "https://localhost:8080/",
          "height": 452
        },
        "id": "7-hYMGeNT2ce",
        "outputId": "8cf00812-40a2-4a1d-cb68-b111433bd1fc"
      },
      "outputs": [
        {
          "data": {
            "image/png": "[encoded data removed]",
            "text/plain": [
              "<Figure size 640x480 with 1 Axes>"
            ]
          },
          "metadata": {},
          "output_type": "display_data"
        }
      ],
      "source": [
        "plt.hist(tprs, bins=30, density=True, alpha=0.6, color='b')\n",
        "plt.title('TPR of random forest (noise \"removed\")')\n",
        "plt.show()"
      ]
    },
    {
      "cell_type": "markdown",
      "metadata": {
        "id": "WHNE7Dt8UWhn"
      },
      "source": [
        "And what if we remove the outliers first, train the model on the subset of remaining observations (and classify outliers as positives)?"
      ]
    },
    {
      "cell_type": "code",
      "execution_count": null,
      "metadata": {
        "id": "x4GgEJ9EUU6S"
      },
      "outputs": [],
      "source": [
        "isofor = IsolationForest(random_state=42)\n",
        "outlabels = isofor.fit_predict(X_not_rejected)\n",
        "\n",
        "X_inline = X_not_rejected[outlabels==1]\n",
        "y_inline = y[outlabels==1]\n",
        "pos_outs = np.sum((y==1) & (outlabels==-1))\n",
        "neg_outs = np.sum((y==0) & (outlabels==-1))"
      ]
    },
    {
      "cell_type": "code",
      "execution_count": null,
      "metadata": {
        "id": "AVon_DQic_5X"
      },
      "outputs": [],
      "source": [
        "accs = []\n",
        "tprs = []\n",
        "rf = RandomForestClassifier(n_estimators=600)\n",
        "for i in range(42, 142):\n",
        "  X_train, X_test, y_train, y_test = train_test_split(X_inline, y_inline,\n",
        "                                                      test_size=0.2,\n",
        "                                                      random_state=i)\n",
        "  rf.fit(X_train, y_train)\n",
        "  preds = rf.predict(X_test)\n",
        "\n",
        "  hits = np.sum(preds == y_test) + pos_outs\n",
        "  count = len(y_test) + pos_outs + neg_outs\n",
        "  tps = np.sum((preds == 1) & (y_test == 1)) + pos_outs\n",
        "  ps = np.sum(preds == 1) + pos_outs + neg_outs\n",
        "\n",
        "  accs.append(hits / count)\n",
        "  tprs.append(tps / ps)"
      ]
    },
    {
      "cell_type": "code",
      "execution_count": null,
      "metadata": {
        "colab": {
          "base_uri": "https://localhost:8080/",
          "height": 452
        },
        "id": "60nljko-jeoe",
        "outputId": "aa3ec9c4-faf5-43b6-8469-6d28ba0ce7a7"
      },
      "outputs": [
        {
          "data": {
            "image/png": "[encoded data removed]",
            "text/plain": [
              "<Figure size 640x480 with 1 Axes>"
            ]
          },
          "metadata": {},
          "output_type": "display_data"
        }
      ],
      "source": [
        "plt.hist(accs, bins=30, density=True, alpha=0.6, color='g')\n",
        "plt.title('Accuracy of random forest + outlier labeling (noise \"removed\")')\n",
        "plt.show()"
      ]
    },
    {
      "cell_type": "code",
      "execution_count": null,
      "metadata": {
        "colab": {
          "base_uri": "https://localhost:8080/",
          "height": 452
        },
        "id": "SoPC9TBcjj9I",
        "outputId": "45d2dcdc-3844-4321-a9d5-3ee5a98996a4"
      },
      "outputs": [
        {
          "data": {
            "image/png": "[encoded data removed]",
            "text/plain": [
              "<Figure size 640x480 with 1 Axes>"
            ]
          },
          "metadata": {},
          "output_type": "display_data"
        }
      ],
      "source": [
        "plt.hist(tprs, bins=30, density=True, alpha=0.6, color='b')\n",
        "plt.title('TPR of random forest + outlier labeling (noise \"removed\")')\n",
        "plt.show()"
      ]
    },
    {
      "cell_type": "code",
      "execution_count": null,
      "metadata": {
        "id": "vPE7yB87mNEV"
      },
      "outputs": [],
      "source": [
        "accs = []\n",
        "tprs = []\n",
        "rf = RandomForestClassifier(n_estimators=600)\n",
        "for i in range(42, 142):\n",
        "  X_train, X_test, y_train, y_test = train_test_split(X_inline, y_inline,\n",
        "                                                      test_size=0.2,\n",
        "                                                      random_state=i)\n",
        "  rf.fit(X_train, y_train)\n",
        "  preds = rf.predict(X_test)\n",
        "\n",
        "  hits = np.sum(preds == y_test)\n",
        "  count = len(y_test)\n",
        "  tps = np.sum((preds == 1) & (y_test == 1))\n",
        "  ps = np.sum(preds == 1)\n",
        "\n",
        "  accs.append(hits / count)\n",
        "  tprs.append(tps / ps)"
      ]
    },
    {
      "cell_type": "code",
      "execution_count": null,
      "metadata": {
        "colab": {
          "base_uri": "https://localhost:8080/",
          "height": 452
        },
        "id": "kJ9eihZXq04L",
        "outputId": "76515136-08da-4b31-e604-be7e2009e3d9"
      },
      "outputs": [
        {
          "data": {
            "image/png": "[encoded data removed]",
            "text/plain": [
              "<Figure size 640x480 with 1 Axes>"
            ]
          },
          "metadata": {},
          "output_type": "display_data"
        }
      ],
      "source": [
        "plt.hist(accs, bins=30, density=True, alpha=0.6, color='g')\n",
        "plt.title('Accuracy of random forest (noise and outliers \"removed\")')\n",
        "plt.show()"
      ]
    },
    {
      "cell_type": "code",
      "execution_count": null,
      "metadata": {
        "colab": {
          "base_uri": "https://localhost:8080/",
          "height": 452
        },
        "id": "hXq2cagxq9le",
        "outputId": "653c8e08-3c55-497c-cc6f-a21ab6620fc6"
      },
      "outputs": [
        {
          "data": {
            "image/png": "[encoded data removed]",
            "text/plain": [
              "<Figure size 640x480 with 1 Axes>"
            ]
          },
          "metadata": {},
          "output_type": "display_data"
        }
      ],
      "source": [
        "plt.hist(tprs, bins=30, density=True, alpha=0.6, color='b')\n",
        "plt.title('TPR of random forest (noise and outliers \"removed\")')\n",
        "plt.show()"
      ]
    },
    {
      "cell_type": "markdown",
      "metadata": {
        "id": "sRLlzWs09UJp"
      },
      "source": [
        "# Random stuff"
      ]
    },
    {
      "cell_type": "code",
      "execution_count": 15,
      "metadata": {
        "id": "33nWMcVQxQEH"
      },
      "outputs": [],
      "source": [
        "X, y = load_data(\"x_train.txt\", \"y_train.txt\")"
      ]
    },
    {
      "cell_type": "code",
      "execution_count": null,
      "metadata": {
        "colab": {
          "base_uri": "https://localhost:8080/"
        },
        "id": "dKy1HoCL6uZ7",
        "outputId": "a254ac16-6129-4fa3-8cf1-b536d7cc182c"
      },
      "outputs": [
        {
          "name": "stdout",
          "output_type": "stream",
          "text": [
            "Iteration: \t1 / 100\n",
            "Confirmed: \t0\n",
            "Tentative: \t500\n",
            "Rejected: \t0\n",
            "Iteration: \t2 / 100\n",
            "Confirmed: \t0\n",
            "Tentative: \t500\n",
            "Rejected: \t0\n",
            "Iteration: \t3 / 100\n",
            "Confirmed: \t0\n",
            "Tentative: \t500\n",
            "Rejected: \t0\n",
            "Iteration: \t4 / 100\n",
            "Confirmed: \t0\n",
            "Tentative: \t500\n",
            "Rejected: \t0\n",
            "Iteration: \t5 / 100\n",
            "Confirmed: \t0\n",
            "Tentative: \t500\n",
            "Rejected: \t0\n",
            "Iteration: \t6 / 100\n",
            "Confirmed: \t0\n",
            "Tentative: \t500\n",
            "Rejected: \t0\n",
            "Iteration: \t7 / 100\n",
            "Confirmed: \t0\n",
            "Tentative: \t500\n",
            "Rejected: \t0\n",
            "Iteration: \t8 / 100\n",
            "Confirmed: \t0\n",
            "Tentative: \t26\n",
            "Rejected: \t474\n",
            "Iteration: \t9 / 100\n",
            "Confirmed: \t11\n",
            "Tentative: \t15\n",
            "Rejected: \t474\n",
            "Iteration: \t10 / 100\n",
            "Confirmed: \t11\n",
            "Tentative: \t15\n",
            "Rejected: \t474\n",
            "Iteration: \t11 / 100\n",
            "Confirmed: \t11\n",
            "Tentative: \t15\n",
            "Rejected: \t474\n",
            "Iteration: \t12 / 100\n",
            "Confirmed: \t11\n",
            "Tentative: \t15\n",
            "Rejected: \t474\n",
            "Iteration: \t13 / 100\n",
            "Confirmed: \t11\n",
            "Tentative: \t14\n",
            "Rejected: \t475\n",
            "Iteration: \t14 / 100\n",
            "Confirmed: \t11\n",
            "Tentative: \t14\n",
            "Rejected: \t475\n",
            "Iteration: \t15 / 100\n",
            "Confirmed: \t11\n",
            "Tentative: \t14\n",
            "Rejected: \t475\n",
            "Iteration: \t16 / 100\n",
            "Confirmed: \t11\n",
            "Tentative: \t10\n",
            "Rejected: \t479\n",
            "Iteration: \t17 / 100\n",
            "Confirmed: \t11\n",
            "Tentative: \t10\n",
            "Rejected: \t479\n",
            "Iteration: \t18 / 100\n",
            "Confirmed: \t11\n",
            "Tentative: \t10\n",
            "Rejected: \t479\n",
            "Iteration: \t19 / 100\n",
            "Confirmed: \t11\n",
            "Tentative: \t9\n",
            "Rejected: \t480\n",
            "Iteration: \t20 / 100\n",
            "Confirmed: \t11\n",
            "Tentative: \t9\n",
            "Rejected: \t480\n",
            "Iteration: \t21 / 100\n",
            "Confirmed: \t11\n",
            "Tentative: \t9\n",
            "Rejected: \t480\n",
            "Iteration: \t22 / 100\n",
            "Confirmed: \t11\n",
            "Tentative: \t8\n",
            "Rejected: \t481\n",
            "Iteration: \t23 / 100\n",
            "Confirmed: \t11\n",
            "Tentative: \t8\n",
            "Rejected: \t481\n",
            "Iteration: \t24 / 100\n",
            "Confirmed: \t11\n",
            "Tentative: \t8\n",
            "Rejected: \t481\n",
            "Iteration: \t25 / 100\n",
            "Confirmed: \t11\n",
            "Tentative: \t8\n",
            "Rejected: \t481\n",
            "Iteration: \t26 / 100\n",
            "Confirmed: \t11\n",
            "Tentative: \t7\n",
            "Rejected: \t482\n",
            "Iteration: \t27 / 100\n",
            "Confirmed: \t11\n",
            "Tentative: \t7\n",
            "Rejected: \t482\n",
            "Iteration: \t28 / 100\n",
            "Confirmed: \t11\n",
            "Tentative: \t7\n",
            "Rejected: \t482\n",
            "Iteration: \t29 / 100\n",
            "Confirmed: \t11\n",
            "Tentative: \t6\n",
            "Rejected: \t483\n",
            "Iteration: \t30 / 100\n",
            "Confirmed: \t11\n",
            "Tentative: \t6\n",
            "Rejected: \t483\n",
            "Iteration: \t31 / 100\n",
            "Confirmed: \t11\n",
            "Tentative: \t6\n",
            "Rejected: \t483\n",
            "Iteration: \t32 / 100\n",
            "Confirmed: \t11\n",
            "Tentative: \t6\n",
            "Rejected: \t483\n",
            "Iteration: \t33 / 100\n",
            "Confirmed: \t11\n",
            "Tentative: \t6\n",
            "Rejected: \t483\n",
            "Iteration: \t34 / 100\n",
            "Confirmed: \t11\n",
            "Tentative: \t5\n",
            "Rejected: \t484\n",
            "Iteration: \t35 / 100\n",
            "Confirmed: \t11\n",
            "Tentative: \t5\n",
            "Rejected: \t484\n",
            "Iteration: \t36 / 100\n",
            "Confirmed: \t11\n",
            "Tentative: \t5\n",
            "Rejected: \t484\n",
            "Iteration: \t37 / 100\n",
            "Confirmed: \t11\n",
            "Tentative: \t4\n",
            "Rejected: \t485\n",
            "Iteration: \t38 / 100\n",
            "Confirmed: \t11\n",
            "Tentative: \t4\n",
            "Rejected: \t485\n",
            "Iteration: \t39 / 100\n",
            "Confirmed: \t11\n",
            "Tentative: \t4\n",
            "Rejected: \t485\n",
            "Iteration: \t40 / 100\n",
            "Confirmed: \t11\n",
            "Tentative: \t4\n",
            "Rejected: \t485\n",
            "Iteration: \t41 / 100\n",
            "Confirmed: \t11\n",
            "Tentative: \t4\n",
            "Rejected: \t485\n",
            "Iteration: \t42 / 100\n",
            "Confirmed: \t11\n",
            "Tentative: \t4\n",
            "Rejected: \t485\n",
            "Iteration: \t43 / 100\n",
            "Confirmed: \t11\n",
            "Tentative: \t3\n",
            "Rejected: \t486\n",
            "Iteration: \t44 / 100\n",
            "Confirmed: \t11\n",
            "Tentative: \t3\n",
            "Rejected: \t486\n",
            "Iteration: \t45 / 100\n",
            "Confirmed: \t11\n",
            "Tentative: \t3\n",
            "Rejected: \t486\n",
            "Iteration: \t46 / 100\n",
            "Confirmed: \t11\n",
            "Tentative: \t2\n",
            "Rejected: \t487\n",
            "Iteration: \t47 / 100\n",
            "Confirmed: \t11\n",
            "Tentative: \t2\n",
            "Rejected: \t487\n",
            "Iteration: \t48 / 100\n",
            "Confirmed: \t11\n",
            "Tentative: \t2\n",
            "Rejected: \t487\n",
            "Iteration: \t49 / 100\n",
            "Confirmed: \t11\n",
            "Tentative: \t2\n",
            "Rejected: \t487\n",
            "Iteration: \t50 / 100\n",
            "Confirmed: \t11\n",
            "Tentative: \t2\n",
            "Rejected: \t487\n",
            "Iteration: \t51 / 100\n",
            "Confirmed: \t11\n",
            "Tentative: \t2\n",
            "Rejected: \t487\n",
            "Iteration: \t52 / 100\n",
            "Confirmed: \t11\n",
            "Tentative: \t2\n",
            "Rejected: \t487\n",
            "Iteration: \t53 / 100\n",
            "Confirmed: \t11\n",
            "Tentative: \t2\n",
            "Rejected: \t487\n",
            "Iteration: \t54 / 100\n",
            "Confirmed: \t11\n",
            "Tentative: \t2\n",
            "Rejected: \t487\n",
            "Iteration: \t55 / 100\n",
            "Confirmed: \t11\n",
            "Tentative: \t2\n",
            "Rejected: \t487\n",
            "Iteration: \t56 / 100\n",
            "Confirmed: \t11\n",
            "Tentative: \t2\n",
            "Rejected: \t487\n",
            "Iteration: \t57 / 100\n",
            "Confirmed: \t11\n",
            "Tentative: \t2\n",
            "Rejected: \t487\n",
            "Iteration: \t58 / 100\n",
            "Confirmed: \t11\n",
            "Tentative: \t2\n",
            "Rejected: \t487\n",
            "Iteration: \t59 / 100\n",
            "Confirmed: \t11\n",
            "Tentative: \t2\n",
            "Rejected: \t487\n",
            "Iteration: \t60 / 100\n",
            "Confirmed: \t11\n",
            "Tentative: \t2\n",
            "Rejected: \t487\n",
            "Iteration: \t61 / 100\n",
            "Confirmed: \t11\n",
            "Tentative: \t2\n",
            "Rejected: \t487\n",
            "Iteration: \t62 / 100\n",
            "Confirmed: \t11\n",
            "Tentative: \t2\n",
            "Rejected: \t487\n",
            "Iteration: \t63 / 100\n",
            "Confirmed: \t11\n",
            "Tentative: \t2\n",
            "Rejected: \t487\n",
            "Iteration: \t64 / 100\n",
            "Confirmed: \t11\n",
            "Tentative: \t2\n",
            "Rejected: \t487\n",
            "Iteration: \t65 / 100\n",
            "Confirmed: \t11\n",
            "Tentative: \t2\n",
            "Rejected: \t487\n",
            "Iteration: \t66 / 100\n",
            "Confirmed: \t11\n",
            "Tentative: \t2\n",
            "Rejected: \t487\n",
            "Iteration: \t67 / 100\n",
            "Confirmed: \t11\n",
            "Tentative: \t2\n",
            "Rejected: \t487\n",
            "Iteration: \t68 / 100\n",
            "Confirmed: \t11\n",
            "Tentative: \t2\n",
            "Rejected: \t487\n",
            "Iteration: \t69 / 100\n",
            "Confirmed: \t11\n",
            "Tentative: \t2\n",
            "Rejected: \t487\n",
            "Iteration: \t70 / 100\n",
            "Confirmed: \t11\n",
            "Tentative: \t2\n",
            "Rejected: \t487\n",
            "Iteration: \t71 / 100\n",
            "Confirmed: \t11\n",
            "Tentative: \t2\n",
            "Rejected: \t487\n",
            "Iteration: \t72 / 100\n",
            "Confirmed: \t11\n",
            "Tentative: \t2\n",
            "Rejected: \t487\n",
            "Iteration: \t73 / 100\n",
            "Confirmed: \t11\n",
            "Tentative: \t2\n",
            "Rejected: \t487\n",
            "Iteration: \t74 / 100\n",
            "Confirmed: \t11\n",
            "Tentative: \t2\n",
            "Rejected: \t487\n",
            "Iteration: \t75 / 100\n",
            "Confirmed: \t11\n",
            "Tentative: \t2\n",
            "Rejected: \t487\n",
            "Iteration: \t76 / 100\n",
            "Confirmed: \t11\n",
            "Tentative: \t2\n",
            "Rejected: \t487\n",
            "Iteration: \t77 / 100\n",
            "Confirmed: \t11\n",
            "Tentative: \t2\n",
            "Rejected: \t487\n",
            "Iteration: \t78 / 100\n",
            "Confirmed: \t11\n",
            "Tentative: \t2\n",
            "Rejected: \t487\n",
            "Iteration: \t79 / 100\n",
            "Confirmed: \t11\n",
            "Tentative: \t2\n",
            "Rejected: \t487\n",
            "Iteration: \t80 / 100\n",
            "Confirmed: \t11\n",
            "Tentative: \t2\n",
            "Rejected: \t487\n",
            "Iteration: \t81 / 100\n",
            "Confirmed: \t11\n",
            "Tentative: \t2\n",
            "Rejected: \t487\n",
            "Iteration: \t82 / 100\n",
            "Confirmed: \t11\n",
            "Tentative: \t2\n",
            "Rejected: \t487\n",
            "Iteration: \t83 / 100\n",
            "Confirmed: \t11\n",
            "Tentative: \t2\n",
            "Rejected: \t487\n",
            "Iteration: \t84 / 100\n",
            "Confirmed: \t11\n",
            "Tentative: \t2\n",
            "Rejected: \t487\n",
            "Iteration: \t85 / 100\n",
            "Confirmed: \t11\n",
            "Tentative: \t2\n",
            "Rejected: \t487\n",
            "Iteration: \t86 / 100\n",
            "Confirmed: \t11\n",
            "Tentative: \t2\n",
            "Rejected: \t487\n",
            "Iteration: \t87 / 100\n",
            "Confirmed: \t11\n",
            "Tentative: \t2\n",
            "Rejected: \t487\n",
            "Iteration: \t88 / 100\n",
            "Confirmed: \t11\n",
            "Tentative: \t2\n",
            "Rejected: \t487\n",
            "Iteration: \t89 / 100\n",
            "Confirmed: \t11\n",
            "Tentative: \t2\n",
            "Rejected: \t487\n",
            "Iteration: \t90 / 100\n",
            "Confirmed: \t11\n",
            "Tentative: \t2\n",
            "Rejected: \t487\n",
            "Iteration: \t91 / 100\n",
            "Confirmed: \t11\n",
            "Tentative: \t2\n",
            "Rejected: \t487\n",
            "Iteration: \t92 / 100\n",
            "Confirmed: \t11\n",
            "Tentative: \t2\n",
            "Rejected: \t487\n",
            "Iteration: \t93 / 100\n",
            "Confirmed: \t11\n",
            "Tentative: \t2\n",
            "Rejected: \t487\n",
            "Iteration: \t94 / 100\n",
            "Confirmed: \t11\n",
            "Tentative: \t2\n",
            "Rejected: \t487\n",
            "Iteration: \t95 / 100\n",
            "Confirmed: \t11\n",
            "Tentative: \t2\n",
            "Rejected: \t487\n",
            "Iteration: \t96 / 100\n",
            "Confirmed: \t11\n",
            "Tentative: \t2\n",
            "Rejected: \t487\n",
            "Iteration: \t97 / 100\n",
            "Confirmed: \t11\n",
            "Tentative: \t2\n",
            "Rejected: \t487\n",
            "Iteration: \t98 / 100\n",
            "Confirmed: \t11\n",
            "Tentative: \t2\n",
            "Rejected: \t487\n",
            "Iteration: \t99 / 100\n",
            "Confirmed: \t11\n",
            "Tentative: \t2\n",
            "Rejected: \t487\n",
            "\n",
            "\n",
            "BorutaPy finished running.\n",
            "\n",
            "Iteration: \t100 / 100\n",
            "Confirmed: \t11\n",
            "Tentative: \t1\n",
            "Rejected: \t487\n",
            "feature ranking:\n",
            "[  2   7   1   1   1   3   4   9   1   1 294 459 301 182 423 374 274 247\n",
            " 336 483 209  98 237 446 262 189 407  91 400  27 104 375 229 257 106  41\n",
            "  93 282  75  22 242 251 372 437 441 188 216  75 353 265 338 192 234 144\n",
            " 308 447 424  38 321 420  42 481 403  55  10 311 135 320 361 387 100 461\n",
            " 273  71  44  36 159 410  31 178  87 261 225 232  38 361  95 110 219 385\n",
            " 152 285 466 432 368 402 466 242 185 365   1   1   1   1   1   1 121 161\n",
            "  72  11 365 240  65 194 480 450 405  75 300 141  97 202  88 323 292 288\n",
            " 277 222 408  25 478 123 385  48 327 157 246 297 213  43 441 432 192 185\n",
            " 175 187 124 303  34 334 377 340 347 420 475  14 146  77  14 341 390  89\n",
            " 484 184 376 444 392 472 436 288 277 371 427 453 345 106 102 222 106 368\n",
            " 163 190 134 426  67 434 336 203 217 168  47  56 280 417 452  82 469 477\n",
            " 165 153 205 463 263  73  80 285 328 137  91 259 200  40 253 225  68  19\n",
            " 313 482 420 230  17 222 280 297 259 267  79 108 164 315 396 299 486 224\n",
            " 234 277 430 380 269 422 311  52 435 297 440 313  30 206 325  90 271 383\n",
            "  26  58 379 350 404 479 237 214 120 347 131 392 133  93  32 490 196 485\n",
            "  17 450 399  54 264 427 183 201 282 227 378  20 220 129 127   7 249 159\n",
            "  59 416 143  38 411 244 443 172 102 456 191 454 198 302 118  28 139 147\n",
            " 116 338 211 207 360  34 230  86 380 382  49 109 162  70 351  23  57  24\n",
            " 139 149 329 305  21 128 388 198 125 425 110  14 170  50 356  62  66 292\n",
            " 204 349 316 414 437 214 196 234 448  16 396 449 444 172 304  52 271  99\n",
            "  52 432 255 167 457 209 112 175 363 355 471  61 195 129 405 365 316 208\n",
            " 343 318 135 240 392 253 455 331 474 171  85 398 116  69 465 396 148  33\n",
            " 266 178 358 169 280 344 311   4 429 358 401 458 489 212 249 323  29 351\n",
            " 342 122 370  96 476 418  46  84 137 488 275 177 156 157 240 462 271 331\n",
            " 166 460 414 268 125 392 334 145 227 181 326 284 112  81 290 101 180 468\n",
            " 354 331 308 247 473 251 331 409  12 290  63 412 151 114  45 388  78 153\n",
            " 306 470 365  82 217 464 345 487 234 256 308  64 439 149 244 373 118 287\n",
            " 132 294 384 142 175 115 155 357 259  60 319 414   7 321]\n"
          ]
        }
      ],
      "source": [
        "rf = RandomForestClassifier()\n",
        "boruta_selector = BorutaPy(rf, n_estimators='auto', verbose=2, random_state=1)\n",
        "boruta_selector.fit(X,y)\n",
        "print(\"feature ranking:\")\n",
        "print(boruta_selector.ranking_)"
      ]
    },
    {
      "cell_type": "code",
      "execution_count": null,
      "metadata": {
        "colab": {
          "base_uri": "https://localhost:8080/"
        },
        "id": "6g34Nde389Cb",
        "outputId": "aec4f249-d2f3-48fd-d28c-ce558cb211af"
      },
      "outputs": [
        {
          "name": "stdout",
          "output_type": "stream",
          "text": [
            "[100 102   2   3   4 103 104 105   8   9 101   0   5   6 403 285   1 498\n",
            "   7  64 109 458 155 158 335 351 220 270 215 281 328  39 321 323 129 252\n",
            "  29 303 412 246  78 266 395 148 311  75  84 291  57 211  35  60 139  74\n",
            " 464 420 190 133 316 337 360 241 357 273  63 191 322 253 288 495 371 339\n",
            " 460 479 112 340 184 214 391 319  73 108 203 117  47  38 157 466 226 204\n",
            " 445 471 195 421 388 313  80 122 161 249 208  27  36 265  86 417 120  21\n",
            " 359  70 447 296 176  30  34 178 175 227 317  87 334 444 366 463 491 390\n",
            " 306 484 302 260 106 415 131 146 332 436 284 329 283 373 262 486 264 182\n",
            " 380  66 422 207 324 304 119 489 290  53 439 156 305 394 481 325 462  90\n",
            " 199 467 492 426 135 427  76 287 107 318 180 228 198 432 363 189 399 336\n",
            " 387 355 295 144 490 367 425 397  79 448 441  13 276 163  98 143 145  45\n",
            "  25 181 298 142  51 113 372 268 348 331 300 210 277 121 187 342 200 247\n",
            " 309 377  20 365 308 409 138 347 259  46 472 188  88 282 177 221 127 233\n",
            "  82 213 440 279  32 219 312  83  52 234 476 349  22 258 111 428 381  97\n",
            "  40 482 293 136 453  17 286 410 455  41 383 212 362 477  33 494 224 209\n",
            "  81  24 202 274  49 396 225 435 238 430 250 358  72  16 424 126 235 170\n",
            " 222 400 192 278  37 443  91 205 485 125 169 459 446 341 124 487  10 137\n",
            " 223 243 231 118  12 301 147 356 327 468 452 478  54  65 240 402 245 216\n",
            " 229 376 344 379 496  67 499  58 123 411 248 442 134 206 326 385 431 451\n",
            " 456 438 149  18 186  50 307 151 159 414 378 401 174 474 152 261 343 255\n",
            " 413 320  48 450 369 338 493 405 398 310  85  68 368 110 375  99 470 179\n",
            "  94 416 171  42 483  15  31 164 150 280 254 314 237 315 251 488 132  89\n",
            "  69 465 330 160 166 382 437 263 393 230 352 389 272  28 406  95  62 256\n",
            " 116 374  26 128 457  77 292 461 434 345 497 289 193 419 153 218  59 239\n",
            "  14  56 333 183 275 172 404 236 361 141  93 185 242 168 346  43 480 244\n",
            "  44 140 294 165 354  23  55 350 353 115 271 194 173 299 384 297 364 407\n",
            "  11 433  71 429 201 473 392  92  96 449 196 469 370 167 454 386 154 418\n",
            " 197 130 257 114  61 217  19 162 269 232 475 423 408 267]\n"
          ]
        }
      ],
      "source": [
        "print(np.argsort(boruta_selector.ranking_))"
      ]
    },
    {
      "cell_type": "code",
      "execution_count": null,
      "metadata": {
        "colab": {
          "base_uri": "https://localhost:8080/",
          "height": 159
        },
        "id": "vdl02Wtc-ppS",
        "outputId": "56c38060-8113-41c9-a8c3-a0d7e7ff6d47"
      },
      "outputs": [
        {
          "ename": "NameError",
          "evalue": "name 'boruta_selector' is not defined",
          "output_type": "error",
          "traceback": [
            "\u001b[0;31m---------------------------------------------------------------------------\u001b[0m",
            "\u001b[0;31mNameError\u001b[0m                                 Traceback (most recent call last)",
            "\u001b[0;32m<ipython-input-11-3ca2ff935502>\u001b[0m in \u001b[0;36m<cell line: 1>\u001b[0;34m()\u001b[0m\n\u001b[0;32m----> 1\u001b[0;31m \u001b[0mtop26\u001b[0m \u001b[0;34m=\u001b[0m \u001b[0mnp\u001b[0m\u001b[0;34m.\u001b[0m\u001b[0margwhere\u001b[0m\u001b[0;34m(\u001b[0m\u001b[0mboruta_selector\u001b[0m\u001b[0;34m.\u001b[0m\u001b[0mranking_\u001b[0m \u001b[0;34m<\u001b[0m \u001b[0;36m17\u001b[0m\u001b[0;34m)\u001b[0m\u001b[0;34m.\u001b[0m\u001b[0mflatten\u001b[0m\u001b[0;34m(\u001b[0m\u001b[0;34m)\u001b[0m\u001b[0;34m\u001b[0m\u001b[0;34m\u001b[0m\u001b[0m\n\u001b[0m\u001b[1;32m      2\u001b[0m \u001b[0mprint\u001b[0m\u001b[0;34m(\u001b[0m\u001b[0mtop26\u001b[0m\u001b[0;34m,\u001b[0m \u001b[0mlen\u001b[0m\u001b[0;34m(\u001b[0m\u001b[0mtop26\u001b[0m\u001b[0;34m)\u001b[0m\u001b[0;34m)\u001b[0m\u001b[0;34m\u001b[0m\u001b[0;34m\u001b[0m\u001b[0m\n",
            "\u001b[0;31mNameError\u001b[0m: name 'boruta_selector' is not defined"
          ]
        }
      ],
      "source": [
        "top26 = np.argwhere(boruta_selector.ranking_ < 17).flatten()\n",
        "print(top26, len(top26))"
      ]
    },
    {
      "cell_type": "code",
      "execution_count": null,
      "metadata": {
        "colab": {
          "base_uri": "https://localhost:8080/"
        },
        "id": "1UatmL-Z71S_",
        "outputId": "0172eb4a-f590-406e-c659-483db1f67a04"
      },
      "outputs": [
        {
          "name": "stdout",
          "output_type": "stream",
          "text": [
            "[  0   2   3   4   8   9 100 101 102 103 104 105] 12\n"
          ]
        }
      ],
      "source": [
        "top12 = np.argwhere(boruta_selector.ranking_ < 3).flatten()\n",
        "print(top12, len(top12))"
      ]
    },
    {
      "cell_type": "code",
      "execution_count": null,
      "metadata": {
        "id": "Ki-ezbZGsapT"
      },
      "outputs": [],
      "source": [
        "top26 = np.array([0, 1, 2, 3, 4, 5, 6, 7, 8, 9, 64, 100, 101, 102, 103, 104, 105, 109, 155, 158, 285, 335, 351, 403, 458, 498])\n",
        "top12 = np.array([0, 2, 3, 4, 8, 9, 100, 101, 102, 103, 104, 105] )"
      ]
    },
    {
      "cell_type": "markdown",
      "metadata": {
        "id": "kHq0q5Zg6OXH"
      },
      "source": [
        "What BORUTA deemed interesting (meaning didn't reject in the first meaningful iteration) without outliers removed:\n",
        "\n",
        "[0, 1, 2, 3, 4, 5, 6, 7, 8, 9, 64, 100, 101, 102, 103, 104, 105, 109, 155, 158, 285, 335, 351, 403, 458, 498]\n",
        "\n",
        " out of those, [2, 3, 4, 8, 9, 100, 101, 102, 103, 104, 105] were deemed to be definitelly iportant and [0] was \"tentative\"."
      ]
    },
    {
      "cell_type": "code",
      "execution_count": null,
      "metadata": {
        "id": "w-ZkT6yzIS61"
      },
      "outputs": [],
      "source": [
        "X26 = X[:,top26]"
      ]
    },
    {
      "cell_type": "code",
      "execution_count": null,
      "metadata": {
        "id": "AuKopALDMWsU"
      },
      "outputs": [],
      "source": [
        "giga_fnn = MLPClassifier(hidden_layer_sizes=[30,30,20,20,10,10,5,5],\n",
        "                          solver='lbfgs', max_iter=10000)"
      ]
    },
    {
      "cell_type": "code",
      "execution_count": null,
      "metadata": {
        "id": "S8LgLEE9M39U"
      },
      "outputs": [],
      "source": [
        "X_train, X_test, y_train, y_test = train_test_split(X26, y, test_size=0.2)"
      ]
    },
    {
      "cell_type": "code",
      "execution_count": null,
      "metadata": {
        "colab": {
          "base_uri": "https://localhost:8080/"
        },
        "id": "51K8oq_0Mw3t",
        "outputId": "9463eb16-0317-415d-ae50-f5afdefe0a3c"
      },
      "outputs": [
        {
          "name": "stdout",
          "output_type": "stream",
          "text": [
            "495\n"
          ]
        }
      ],
      "source": [
        "giga_fnn.fit(X_train, y_train)\n",
        "preds = giga_fnn.predict(X_test)\n",
        "print(np.sum(preds == y_test))"
      ]
    },
    {
      "cell_type": "code",
      "execution_count": null,
      "metadata": {
        "colab": {
          "base_uri": "https://localhost:8080/"
        },
        "id": "EjsU3gJ-NXCt",
        "outputId": "cdc938c7-e49e-4028-f1b6-1002dbd23da8"
      },
      "outputs": [
        {
          "name": "stdout",
          "output_type": "stream",
          "text": [
            "673\n"
          ]
        }
      ],
      "source": [
        "giga_rf = RandomForestClassifier(n_estimators=1000)\n",
        "giga_rf.fit(X_train, y_train)\n",
        "preds = giga_rf.predict(X_test)\n",
        "print(np.sum(preds == y_test))"
      ]
    },
    {
      "cell_type": "markdown",
      "metadata": {
        "id": "3lkGSlfZ7k7Y"
      },
      "source": [
        "testing with rf it is..."
      ]
    },
    {
      "cell_type": "code",
      "execution_count": null,
      "metadata": {
        "colab": {
          "base_uri": "https://localhost:8080/"
        },
        "id": "0M0F1cC7oVWm",
        "outputId": "09259eb7-8e6d-4666-a3dd-02e0288a2675"
      },
      "outputs": [
        {
          "name": "stdout",
          "output_type": "stream",
          "text": [
            "Progress bar: ==========================Iteration 0 completed!\n",
            "Progress bar: ==========================Iteration 1 completed!\n",
            "Progress bar: ==========================Iteration 2 completed!\n",
            "Progress bar: ==========================Iteration 3 completed!\n",
            "Progress bar: ==========================Iteration 4 completed!\n",
            "Progress bar: ==========================Iteration 5 completed!\n",
            "Progress bar: ==========================Iteration 6 completed!\n",
            "Progress bar: ==========================Iteration 7 completed!\n",
            "Bidirectional search completed!\n",
            "\n",
            "\n",
            "\n",
            "Selection:  [  0 102 103 105]\n",
            "Starting the subselection evaluation.\n",
            "Progress bar: ==============================\n",
            "Score:  6365.0\n",
            "Evaluation finished, writing results.\n",
            "Search 0 finished! \n",
            "\n",
            "\n",
            "\n",
            "Progress bar: ==========================Iteration 0 completed!\n",
            "Progress bar: ==========================Iteration 1 completed!\n",
            "Progress bar: ==========================Iteration 2 completed!\n",
            "Progress bar: ==========================Iteration 3 completed!\n",
            "Progress bar: ==========================Iteration 4 completed!\n",
            "Progress bar: ==========================Iteration 5 completed!\n",
            "Progress bar: ==========================Iteration 6 completed!\n",
            "Progress bar: ==========================Iteration 7 completed!\n",
            "Progress bar: ==========================Iteration 8 completed!\n",
            "Progress bar: ==========================Iteration 9 completed!\n",
            "Bidirectional search completed!\n",
            "\n",
            "\n",
            "\n",
            "Selection:  [  4 101 102 104 105]\n",
            "Starting the subselection evaluation.\n",
            "Progress bar: ==============================\n",
            "Score:  6098.0\n",
            "Evaluation finished, writing results.\n",
            "Search 1 finished! \n",
            "\n",
            "\n",
            "\n",
            "Progress bar: ==========================Iteration 0 completed!\n",
            "Progress bar: ==========================Iteration 1 completed!\n",
            "Progress bar: ==========================Iteration 2 completed!\n",
            "Progress bar: ==========================Iteration 3 completed!\n",
            "Progress bar: ==========================Iteration 4 completed!\n",
            "Progress bar: ==========================Iteration 5 completed!\n",
            "Progress bar: ==========================Iteration 6 completed!\n",
            "Progress bar: ==========================Iteration 7 completed!\n",
            "Progress bar: ==========================Iteration 8 completed!\n",
            "Progress bar: ==========================Iteration 9 completed!\n",
            "Bidirectional search completed!\n",
            "\n",
            "\n",
            "\n",
            "Selection:  [100 101 103 105 109]\n",
            "Starting the subselection evaluation.\n",
            "Progress bar: ==============================\n",
            "Score:  6177.666666666667\n",
            "Evaluation finished, writing results.\n",
            "Search 2 finished! \n",
            "\n",
            "\n",
            "\n",
            "Progress bar: ==========================Iteration 0 completed!\n",
            "Progress bar: ==========================Iteration 1 completed!\n",
            "Progress bar: ==========================Iteration 2 completed!\n",
            "Progress bar: ==========================Iteration 3 completed!\n",
            "Progress bar: ==========================Iteration 4 completed!\n",
            "Progress bar: ==========================Iteration 5 completed!\n",
            "Progress bar: ==========================Iteration 6 completed!\n",
            "Progress bar: ==========================Iteration 7 completed!\n",
            "Bidirectional search completed!\n",
            "\n",
            "\n",
            "\n",
            "Selection:  [  3   4   6 100 104]\n",
            "Starting the subselection evaluation.\n",
            "Progress bar: ==============================\n",
            "Score:  5894.333333333333\n",
            "Evaluation finished, writing results.\n",
            "Search 3 finished! \n",
            "\n",
            "\n",
            "\n",
            "Progress bar: ==========================Iteration 0 completed!\n",
            "Progress bar: ==========================Iteration 1 completed!\n",
            "Progress bar: ==========================Iteration 2 completed!\n",
            "Progress bar: ==========================Iteration 3 completed!\n",
            "Progress bar: ==========================Iteration 4 completed!\n",
            "Progress bar: ==========================Iteration 5 completed!\n",
            "Progress bar: ==========================Iteration 6 completed!\n",
            "Progress bar: ==========================Iteration 7 completed!\n",
            "Progress bar: ==========================Iteration 8 completed!\n",
            "Bidirectional search completed!\n",
            "\n",
            "\n",
            "\n",
            "Selection:  [  6 100 101 102]\n",
            "Starting the subselection evaluation.\n",
            "Progress bar: ==============================\n",
            "Score:  6305.333333333333\n",
            "Evaluation finished, writing results.\n",
            "Search 4 finished! \n",
            "\n",
            "\n",
            "\n",
            "Progress bar: ==========================Iteration 0 completed!\n",
            "Progress bar: ==========================Iteration 1 completed!\n",
            "Progress bar: ==========================Iteration 2 completed!\n",
            "Progress bar: ==========================Iteration 3 completed!\n",
            "Progress bar: ==========================Iteration 4 completed!\n",
            "Progress bar: ==========================Iteration 5 completed!\n",
            "Progress bar: ==========================Iteration 6 completed!\n",
            "Progress bar: ==========================Iteration 7 completed!\n",
            "Progress bar: ==========================Iteration 8 completed!\n",
            "Bidirectional search completed!\n",
            "\n",
            "\n",
            "\n",
            "Selection:  [100 101 102]\n",
            "Starting the subselection evaluation.\n",
            "Progress bar: ==============================\n",
            "Score:  6292.0\n",
            "Evaluation finished, writing results.\n",
            "Search 5 finished! \n",
            "\n",
            "\n",
            "\n",
            "Progress bar: ==========================Iteration 0 completed!\n",
            "Progress bar: ==========================Iteration 1 completed!\n",
            "Progress bar: ==========================Iteration 2 completed!\n",
            "Progress bar: ==========================Iteration 3 completed!\n",
            "Progress bar: ==========================Iteration 4 completed!\n",
            "Progress bar: ==========================Iteration 5 completed!\n",
            "Progress bar: ==========================Iteration 6 completed!\n",
            "Progress bar: ==========================Iteration 7 completed!\n",
            "Progress bar: ==========================Iteration 8 completed!\n",
            "Progress bar: ==========================Iteration 9 completed!\n",
            "Progress bar: ==========================Iteration 10 completed!\n",
            "Progress bar: ==========================Iteration 11 completed!\n",
            "Progress bar: ==========================Iteration 12 completed!\n",
            "Bidirectional search completed!\n",
            "\n",
            "\n",
            "\n",
            "Selection:  [102 104 105]\n",
            "Starting the subselection evaluation.\n",
            "Progress bar: ==============================\n",
            "Score:  6331.666666666667\n",
            "Evaluation finished, writing results.\n",
            "Search 6 finished! \n",
            "\n",
            "\n",
            "\n",
            "Progress bar: ==========================Iteration 0 completed!\n",
            "Progress bar: ==========================Iteration 1 completed!\n",
            "Progress bar: ==========================Iteration 2 completed!\n",
            "Progress bar: ==========================Iteration 3 completed!\n",
            "Progress bar: ==========================Iteration 4 completed!\n",
            "Progress bar: ==========================Iteration 5 completed!\n",
            "Progress bar: ==========================Iteration 6 completed!\n",
            "Progress bar: ==========================Iteration 7 completed!\n",
            "Bidirectional search completed!\n",
            "\n",
            "\n",
            "\n",
            "Selection:  [  0 102 103 104]\n",
            "Starting the subselection evaluation.\n",
            "Progress bar: ==============================\n",
            "Score:  6357.333333333333\n",
            "Evaluation finished, writing results.\n",
            "Search 7 finished! \n",
            "\n",
            "\n",
            "\n",
            "Progress bar: ==========================Iteration 0 completed!\n",
            "Progress bar: ==========================Iteration 1 completed!\n",
            "Progress bar: ===================="
          ]
        }
      ],
      "source": [
        "after_selector_search(X, y, selector_output=top26,\n",
        "                      output_file1=\"top26_boruta_tries.txt\",\n",
        "                      output_file2=\"top26_boruta_best.txt\",\n",
        "                      model_size=4)"
      ]
    },
    {
      "cell_type": "code",
      "execution_count": null,
      "metadata": {
        "id": "4CMDS1TrUr2p"
      },
      "outputs": [],
      "source": [
        "from google.colab import files\n",
        "files.download(\"top26_boruta_best.txt\")\n",
        "files.download(\"top26_boruta_tries.txt\")"
      ]
    },
    {
      "cell_type": "markdown",
      "source": [
        "# Model building"
      ],
      "metadata": {
        "id": "hj6_KvvBmFqx"
      }
    },
    {
      "cell_type": "markdown",
      "source": [
        "selected variables: 102, 103 and 105"
      ],
      "metadata": {
        "id": "i6B9BefwmIbA"
      }
    },
    {
      "cell_type": "code",
      "execution_count": 12,
      "metadata": {
        "id": "FX9ZKnw2aIux"
      },
      "outputs": [],
      "source": [
        "confirmed = np.array([102, 103, 105])\n",
        "X3 = X[:,confirmed]"
      ]
    },
    {
      "cell_type": "markdown",
      "source": [
        "First, let's try regular random forest"
      ],
      "metadata": {
        "id": "SuhLOJWNmM8K"
      }
    },
    {
      "cell_type": "code",
      "source": [
        "scores_rf_30 = []\n",
        "for i in range(100):\n",
        "  seed = np.random.randint(low=3, high=2147483647)\n",
        "  score = selection_score_CV(X=X3,y=y, selection=[True,True,True], seed=seed, model_type='rf', model_size=1)\n",
        "  #print(i, score)\n",
        "  scores_rf_30.append(score)"
      ],
      "metadata": {
        "collapsed": true,
        "id": "hne1cktutjGF"
      },
      "execution_count": 13,
      "outputs": []
    },
    {
      "cell_type": "code",
      "source": [
        "scores_rf_60 = []\n",
        "for i in range(100):\n",
        "  seed = np.random.randint(low=3, high=2147483647)\n",
        "  score = selection_score_CV(X=X3,y=y, selection=[True,True,True], seed=seed, model_type='rf', model_size=2)\n",
        "  #print(i, score)\n",
        "  scores_rf_60.append(score)"
      ],
      "metadata": {
        "id": "nFvzMZv8-N30"
      },
      "execution_count": 14,
      "outputs": []
    },
    {
      "cell_type": "code",
      "source": [
        "scores_rf_120 = []\n",
        "for i in range(100):\n",
        "  seed = np.random.randint(low=3, high=2147483647)\n",
        "  score = selection_score_CV(X=X3,y=y, selection=[True,True,True], seed=seed, model_type='rf', model_size=4)\n",
        "  #print(i, score)\n",
        "  scores_rf_120.append(score)"
      ],
      "metadata": {
        "id": "lIYSsb1C-RTE"
      },
      "execution_count": 15,
      "outputs": []
    },
    {
      "cell_type": "code",
      "source": [
        "scores_rf_240 = []\n",
        "for i in range(100):\n",
        "  seed = np.random.randint(low=3, high=2147483647)\n",
        "  score = selection_score_CV(X=X3,y=y, selection=[True,True,True], seed=seed, model_type='rf', model_size=8)\n",
        "  #print(i, score)\n",
        "  scores_rf_240.append(score)"
      ],
      "metadata": {
        "id": "Hizp6QPlCmML"
      },
      "execution_count": 16,
      "outputs": []
    },
    {
      "cell_type": "code",
      "source": [
        "scores_rf_360 = []\n",
        "for i in range(100):\n",
        "  seed = np.random.randint(low=3, high=2147483647)\n",
        "  score = selection_score_CV(X=X3,y=y, selection=[True,True,True], seed=seed, model_type='rf', model_size=12)\n",
        "  #print(i, score)\n",
        "  scores_rf_360.append(score)"
      ],
      "metadata": {
        "id": "jvESD3FKEq-2"
      },
      "execution_count": 17,
      "outputs": []
    },
    {
      "cell_type": "code",
      "source": [
        "scores_rf_600 = []\n",
        "for i in range(100):\n",
        "  seed = np.random.randint(low=3, high=2147483647)\n",
        "  score = selection_score_CV(X=X3,y=y, selection=[True,True,True], seed=seed, model_type='rf', model_size=20)\n",
        "  #print(i, score)\n",
        "  scores_rf_600.append(score)"
      ],
      "metadata": {
        "id": "ldcXCFymQuzd"
      },
      "execution_count": 18,
      "outputs": []
    },
    {
      "cell_type": "code",
      "source": [
        "scores_rf_900 = []\n",
        "for i in range(100):\n",
        "  seed = np.random.randint(low=3, high=2147483647)\n",
        "  score = selection_score_CV(X=X3,y=y, selection=[True,True,True], seed=seed, model_type='rf', model_size=30)\n",
        "  #print(i, score)\n",
        "  scores_rf_900.append(score)"
      ],
      "metadata": {
        "id": "F_BFXfX6bvg9"
      },
      "execution_count": 19,
      "outputs": []
    },
    {
      "cell_type": "code",
      "source": [
        "plt.boxplot((scores_rf_30, scores_rf_60, scores_rf_120, scores_rf_240,\n",
        "             scores_rf_360, scores_rf_600, scores_rf_900),\n",
        "            labels=[30, 60, 120, 240, 360, 600, 900])\n",
        "plt.title(\"How the number of trees impact the score of a Random Forest?\")\n",
        "plt.ylabel(\"score\")\n",
        "plt.xlabel(\"number of trees\")\n",
        "plt.show()"
      ],
      "metadata": {
        "colab": {
          "base_uri": "https://localhost:8080/",
          "height": 472
        },
        "id": "cpEDuhNXsvlU",
        "outputId": "f646b2ae-4a80-4547-f1da-ead8a6fd566b"
      },
      "execution_count": 20,
      "outputs": [
        {
          "output_type": "display_data",
          "data": {
            "text/plain": [
              "<Figure size 640x480 with 1 Axes>"
            ],
            "image/png": "[encoded data removed]"
          },
          "metadata": {}
        }
      ]
    },
    {
      "cell_type": "markdown",
      "source": [
        "Then a KNN"
      ],
      "metadata": {
        "id": "hEdckRIjmMYM"
      }
    },
    {
      "cell_type": "code",
      "source": [
        "scores_knn_10 = []\n",
        "for i in range(100):\n",
        "  seed = np.random.randint(low=3, high=2147483647)\n",
        "  score = selection_score_CV(X=X3,y=y, selection=[True,True,True], seed=seed, model_type='knn', model_size=10)\n",
        "  #print(i, score)\n",
        "  scores_knn_10.append(score)"
      ],
      "metadata": {
        "collapsed": true,
        "id": "ZINqME1Em35-"
      },
      "execution_count": 22,
      "outputs": []
    },
    {
      "cell_type": "code",
      "source": [
        "scores_knn_20 = []\n",
        "for i in range(100):\n",
        "  seed = np.random.randint(low=3, high=2147483647)\n",
        "  score = selection_score_CV(X=X3,y=y, selection=[True,True,True], seed=seed, model_type='knn', model_size=20)\n",
        "  #print(i, score)\n",
        "  scores_knn_20.append(score)"
      ],
      "metadata": {
        "collapsed": true,
        "id": "qCHnp1DOsply"
      },
      "execution_count": 23,
      "outputs": []
    },
    {
      "cell_type": "code",
      "source": [
        "scores_knn_50 = []\n",
        "for i in range(100):\n",
        "  seed = np.random.randint(low=3, high=2147483647)\n",
        "  score = selection_score_CV(X=X3,y=y, selection=[True,True,True], seed=seed, model_type='knn', model_size=50)\n",
        "  #print(i, score)\n",
        "  scores_knn_50.append(score)"
      ],
      "metadata": {
        "collapsed": true,
        "id": "FrSRBE3Fs3EG"
      },
      "execution_count": 24,
      "outputs": []
    },
    {
      "cell_type": "code",
      "source": [
        "scores_knn_100 = []\n",
        "for i in range(100):\n",
        "  seed = np.random.randint(low=3, high=2147483647)\n",
        "  score = selection_score_CV(X=X3,y=y, selection=[True,True,True], seed=seed, model_type='knn', model_size=100)\n",
        "  #print(i, score)\n",
        "  scores_knn_100.append(score)"
      ],
      "metadata": {
        "collapsed": true,
        "id": "fUc6gPXKtuCB"
      },
      "execution_count": 25,
      "outputs": []
    },
    {
      "cell_type": "code",
      "source": [
        "scores_knn_200 = []\n",
        "for i in range(100):\n",
        "  seed = np.random.randint(low=3, high=2147483647)\n",
        "  score = selection_score_CV(X=X3,y=y, selection=[True,True,True], seed=seed, model_type='knn', model_size=200)\n",
        "  #print(i, score)\n",
        "  scores_knn_200.append(score)"
      ],
      "metadata": {
        "collapsed": true,
        "id": "KfoXHAlZuC0W"
      },
      "execution_count": 26,
      "outputs": []
    },
    {
      "cell_type": "code",
      "source": [
        "scores_knn_300 = []\n",
        "for i in range(100):\n",
        "  seed = np.random.randint(low=3, high=2147483647)\n",
        "  score = selection_score_CV(X=X3,y=y, selection=[True,True,True], seed=seed, model_type='knn', model_size=300)\n",
        "  #print(i, score)\n",
        "  scores_knn_300.append(score)"
      ],
      "metadata": {
        "collapsed": true,
        "id": "U71xUzeIuZ9K"
      },
      "execution_count": 27,
      "outputs": []
    },
    {
      "cell_type": "code",
      "source": [
        "plt.boxplot((scores_knn_10, scores_knn_20, scores_knn_50, scores_knn_100, scores_knn_200, scores_knn_300),\n",
        "            labels=[10, 20, 50, 100, 200, 300])\n",
        "plt.title(\"How does the K parameter impact the score of a KNN Classifier? (part 1)\")\n",
        "plt.xlabel(\"the value of K\")\n",
        "plt.ylabel(\"score\")\n",
        "plt.show()"
      ],
      "metadata": {
        "colab": {
          "base_uri": "https://localhost:8080/",
          "height": 472
        },
        "id": "phUiuRNytXte",
        "outputId": "0e8ec8ae-40cb-4dd6-8d3a-9958745648c7"
      },
      "execution_count": 28,
      "outputs": [
        {
          "output_type": "display_data",
          "data": {
            "text/plain": [
              "<Figure size 640x480 with 1 Axes>"
            ],
            "image/png": "[encoded data removed]"
          },
          "metadata": {}
        }
      ]
    },
    {
      "cell_type": "markdown",
      "source": [
        "KNN between 100 and 300 seems to be best, so let's test them"
      ],
      "metadata": {
        "id": "lEVtBXPzwxxx"
      }
    },
    {
      "cell_type": "code",
      "source": [
        "ks = np.arange(100, 301, 10)\n",
        "results = {}\n",
        "for k in ks:\n",
        "  scores = []\n",
        "  for _ in range(100):\n",
        "    seed = np.random.randint(low=3, high=2147483647)\n",
        "    score = selection_score_CV(X=X3,y=y, selection=[True,True,True], seed=seed, model_type='knn', model_size=k)\n",
        "    scores.append(score)\n",
        "\n",
        "  scores = np.array(scores)\n",
        "  results[k] = np.mean(scores)"
      ],
      "metadata": {
        "id": "WY4LHQm4tmm8"
      },
      "execution_count": 34,
      "outputs": []
    },
    {
      "cell_type": "code",
      "source": [
        "b = [results[key] for key in results]\n",
        "a = [key for key in results]\n",
        "plt.plot(a,b)\n",
        "plt.title(\"How does the K parameter impact the score of a KNN Classifier? (part 2)\")\n",
        "plt.ylabel(\"average score\")\n",
        "plt.xlabel(\"the value of K\")\n",
        "plt.show()"
      ],
      "metadata": {
        "colab": {
          "base_uri": "https://localhost:8080/",
          "height": 472
        },
        "id": "7vh3XYdf3elS",
        "outputId": "49ce5c94-2e21-44f7-a9d3-1e18f4c92ed7"
      },
      "execution_count": 35,
      "outputs": [
        {
          "output_type": "display_data",
          "data": {
            "text/plain": [
              "<Figure size 640x480 with 1 Axes>"
            ],
            "image/png": "[encoded data removed]"
          },
          "metadata": {}
        }
      ]
    },
    {
      "cell_type": "code",
      "source": [
        "scores_knn_no_outlabeling = []\n",
        "for i in range(200):\n",
        "  seed = np.random.randint(low=3, high=2147483647)\n",
        "  score = selection_score_CV(X=X3,y=y, selection=[True,True,True], seed=seed, model_type='knn', model_size=200)\n",
        "  # print(i, score)\n",
        "  scores_knn_no_outlabeling.append(score)"
      ],
      "metadata": {
        "id": "BedxpgQ46C0S"
      },
      "execution_count": 17,
      "outputs": []
    },
    {
      "cell_type": "code",
      "source": [
        "scores_knn_with_outlabeling = []\n",
        "for i in range(200):\n",
        "  seed = np.random.randint(low=3, high=2147483647)\n",
        "  score = selection_score_CV(X=X3,y=y, selection=[True,True,True], seed=seed, model_type='knn', model_size=200, outlabeling=True)\n",
        "  # print(i, score)\n",
        "  scores_knn_with_outlabeling.append(score)"
      ],
      "metadata": {
        "id": "q15R4Jz6-4Zd"
      },
      "execution_count": 18,
      "outputs": []
    },
    {
      "cell_type": "code",
      "source": [
        "plt.boxplot((scores_knn_no_outlabeling, scores_knn_with_outlabeling),\n",
        "            labels = [\"No outlier detection\", \"Outliers selected first\"])\n",
        "plt.title(\"The influence of prelabeling outliers as positive on the score\")\n",
        "plt.ylabel(\"score\")\n",
        "plt.show()"
      ],
      "metadata": {
        "colab": {
          "base_uri": "https://localhost:8080/",
          "height": 452
        },
        "id": "NTpxloZ6A9AU",
        "outputId": "3beb5a77-7442-4985-a680-d1a96833a3ee"
      },
      "execution_count": 27,
      "outputs": [
        {
          "output_type": "display_data",
          "data": {
            "text/plain": [
              "<Figure size 640x480 with 1 Axes>"
            ],
            "image/png": "[encoded data removed]"
          },
          "metadata": {}
        }
      ]
    },
    {
      "cell_type": "code",
      "source": [
        "X3aug = []\n",
        "X3aug.append(X3[:,0])\n",
        "X3aug.append(X3[:,1])\n",
        "X3aug.append(X3[:,2])\n",
        "X3aug.append(X3[:,0] * X3[:,1])\n",
        "X3aug.append(X3[:,1] * X3[:,2])\n",
        "X3aug.append(X3[:,2] * X3[:,0])\n",
        "X3aug = np.column_stack(X3aug)"
      ],
      "metadata": {
        "id": "fcVTVy_OcGZl"
      },
      "execution_count": 12,
      "outputs": []
    },
    {
      "cell_type": "code",
      "source": [
        "scores_aug_rf_no_outlabeling = []\n",
        "for i in range(50):\n",
        "  seed = np.random.randint(low=3, high=2147483647)\n",
        "  score = selection_score_CV(X=X3aug, y=y, selection=[True,True,True,True,True,True], seed=seed, model_type='rf', model_size=12)\n",
        "  print(i, score)\n",
        "  scores_aug_rf_no_outlabeling.append(score)"
      ],
      "metadata": {
        "colab": {
          "base_uri": "https://localhost:8080/"
        },
        "id": "DaW8kSRGfWb5",
        "outputId": "491dec38-d028-4052-c267-d7e2532518e6"
      },
      "execution_count": 13,
      "outputs": [
        {
          "output_type": "stream",
          "name": "stdout",
          "text": [
            "0 5790.0\n",
            "1 5670.0\n",
            "2 5650.0\n",
            "3 5720.0\n",
            "4 5640.0\n",
            "5 5640.0\n",
            "6 5770.0\n",
            "7 5810.0\n",
            "8 5790.0\n",
            "9 5750.0\n",
            "10 5800.0\n",
            "11 5770.0\n",
            "12 5800.0\n",
            "13 5720.0\n",
            "14 5640.0\n",
            "15 5760.0\n",
            "16 5730.0\n",
            "17 5700.0\n",
            "18 5570.0\n",
            "19 5680.0\n",
            "20 5590.0\n",
            "21 5730.0\n",
            "22 5750.0\n",
            "23 5740.0\n",
            "24 5620.0\n",
            "25 5770.0\n",
            "26 5700.0\n",
            "27 5610.0\n",
            "28 5710.0\n",
            "29 5570.0\n",
            "30 5770.0\n",
            "31 5840.0\n",
            "32 5670.0\n",
            "33 5560.0\n",
            "34 5700.0\n",
            "35 5640.0\n",
            "36 5710.0\n",
            "37 5680.0\n",
            "38 5690.0\n",
            "39 5570.0\n",
            "40 5740.0\n",
            "41 5690.0\n",
            "42 5850.0\n",
            "43 5600.0\n",
            "44 5570.0\n",
            "45 5770.0\n",
            "46 5700.0\n",
            "47 5910.0\n",
            "48 5750.0\n",
            "49 5820.0\n"
          ]
        }
      ]
    },
    {
      "cell_type": "code",
      "source": [
        "scores_aug_rf_with_outlabeling = []\n",
        "for i in range(50):\n",
        "  seed = np.random.randint(low=3, high=2147483647)\n",
        "  score = selection_score_CV(X=X3aug, y=y, selection=[True,True,True,True,True,True], seed=seed, model_type='rf', model_size=12, outlabeling=True)\n",
        "  print(i, score)\n",
        "  scores_aug_rf_with_outlabeling.append(score)"
      ],
      "metadata": {
        "colab": {
          "base_uri": "https://localhost:8080/"
        },
        "id": "lIq7nBwDgLVB",
        "outputId": "22295fea-077e-4aff-8840-342a25d784eb"
      },
      "execution_count": 14,
      "outputs": [
        {
          "output_type": "stream",
          "name": "stdout",
          "text": [
            "0 6010.0\n",
            "1 6060.0\n",
            "2 6120.0\n",
            "3 6030.0\n",
            "4 6070.0\n",
            "5 6050.0\n",
            "6 6120.0\n",
            "7 6070.0\n",
            "8 5990.0\n",
            "9 6070.0\n",
            "10 6100.0\n",
            "11 5950.0\n",
            "12 6060.0\n",
            "13 6180.0\n",
            "14 5940.0\n",
            "15 6160.0\n",
            "16 6070.0\n",
            "17 6060.0\n",
            "18 6080.0\n",
            "19 6120.0\n",
            "20 6020.0\n",
            "21 6090.0\n",
            "22 6030.0\n",
            "23 6200.0\n",
            "24 6080.0\n",
            "25 6180.0\n",
            "26 6030.0\n",
            "27 6010.0\n",
            "28 5950.0\n",
            "29 6060.0\n",
            "30 6060.0\n",
            "31 6100.0\n",
            "32 6060.0\n",
            "33 6090.0\n",
            "34 6020.0\n",
            "35 6100.0\n",
            "36 6040.0\n",
            "37 6150.0\n",
            "38 6050.0\n",
            "39 6050.0\n",
            "40 6100.0\n",
            "41 6110.0\n",
            "42 6080.0\n",
            "43 6070.0\n",
            "44 6150.0\n",
            "45 6110.0\n",
            "46 6000.0\n",
            "47 5910.0\n",
            "48 6140.0\n",
            "49 5980.0\n"
          ]
        }
      ]
    },
    {
      "cell_type": "code",
      "source": [
        "plt.boxplot((scores_aug_rf_no_outlabeling, scores_aug_rf_with_outlabeling),\n",
        "            labels = [\"No outlier detection\", \"Outliers selected first\"])\n",
        "plt.title(\"The influence of prelabeling outliers as positive on the score (augmented models)\")\n",
        "plt.ylabel(\"score\")\n",
        "plt.show()"
      ],
      "metadata": {
        "colab": {
          "base_uri": "https://localhost:8080/",
          "height": 452
        },
        "id": "8GaLM468i9RC",
        "outputId": "b846da3e-1073-4ab0-beb7-69ae714422cc"
      },
      "execution_count": 15,
      "outputs": [
        {
          "output_type": "display_data",
          "data": {
            "text/plain": [
              "<Figure size 640x480 with 1 Axes>"
            ],
            "image/png": "[encoded data removed]"
          },
          "metadata": {}
        }
      ]
    },
    {
      "cell_type": "markdown",
      "source": [
        "predicting"
      ],
      "metadata": {
        "id": "wNkc_5Xb6ejO"
      }
    },
    {
      "cell_type": "code",
      "source": [
        "X, y = load_data(\"x_train.txt\", \"y_train.txt\")"
      ],
      "metadata": {
        "id": "c4KkHhLX-L5B"
      },
      "execution_count": 38,
      "outputs": []
    },
    {
      "cell_type": "code",
      "source": [
        "X_test, y = load_data(\"x_test.txt\", \"y_train.txt\")"
      ],
      "metadata": {
        "id": "kfhN2JqG6hBK"
      },
      "execution_count": 36,
      "outputs": []
    },
    {
      "cell_type": "code",
      "source": [
        "X3_test = X_test[:,[102,103,105]]\n",
        "X3 = X[:,[102,103,105]]"
      ],
      "metadata": {
        "id": "h5GRlwej-GeY"
      },
      "execution_count": 39,
      "outputs": []
    },
    {
      "cell_type": "code",
      "source": [
        "knn = KNeighborsClassifier(n_neighbors=200)\n",
        "knn.fit(X3,y)"
      ],
      "metadata": {
        "colab": {
          "base_uri": "https://localhost:8080/",
          "height": 75
        },
        "id": "vjqcjt2U-36F",
        "outputId": "4dd119fb-51d2-4910-91b5-31885a77df06"
      },
      "execution_count": 40,
      "outputs": [
        {
          "output_type": "execute_result",
          "data": {
            "text/plain": [
              "KNeighborsClassifier(n_neighbors=200)"
            ],
            "text/html": [
              "<style>#sk-container-id-1 {color: black;background-color: white;}#sk-container-id-1 pre{padding: 0;}#sk-container-id-1 div.sk-toggleable {background-color: white;}#sk-container-id-1 label.sk-toggleable__label {cursor: pointer;display: block;width: 100%;margin-bottom: 0;padding: 0.3em;box-sizing: border-box;text-align: center;}#sk-container-id-1 label.sk-toggleable__label-arrow:before {content: \"▸\";float: left;margin-right: 0.25em;color: #696969;}#sk-container-id-1 label.sk-toggleable__label-arrow:hover:before {color: black;}#sk-container-id-1 div.sk-estimator:hover label.sk-toggleable__label-arrow:before {color: black;}#sk-container-id-1 div.sk-toggleable__content {max-height: 0;max-width: 0;overflow: hidden;text-align: left;background-color: #f0f8ff;}#sk-container-id-1 div.sk-toggleable__content pre {margin: 0.2em;color: black;border-radius: 0.25em;background-color: #f0f8ff;}#sk-container-id-1 input.sk-toggleable__control:checked~div.sk-toggleable__content {max-height: 200px;max-width: 100%;overflow: auto;}#sk-container-id-1 input.sk-toggleable__control:checked~label.sk-toggleable__label-arrow:before {content: \"▾\";}#sk-container-id-1 div.sk-estimator input.sk-toggleable__control:checked~label.sk-toggleable__label {background-color: #d4ebff;}#sk-container-id-1 div.sk-label input.sk-toggleable__control:checked~label.sk-toggleable__label {background-color: #d4ebff;}#sk-container-id-1 input.sk-hidden--visually {border: 0;clip: rect(1px 1px 1px 1px);clip: rect(1px, 1px, 1px, 1px);height: 1px;margin: -1px;overflow: hidden;padding: 0;position: absolute;width: 1px;}#sk-container-id-1 div.sk-estimator {font-family: monospace;background-color: #f0f8ff;border: 1px dotted black;border-radius: 0.25em;box-sizing: border-box;margin-bottom: 0.5em;}#sk-container-id-1 div.sk-estimator:hover {background-color: #d4ebff;}#sk-container-id-1 div.sk-parallel-item::after {content: \"\";width: 100%;border-bottom: 1px solid gray;flex-grow: 1;}#sk-container-id-1 div.sk-label:hover label.sk-toggleable__label {background-color: #d4ebff;}#sk-container-id-1 div.sk-serial::before {content: \"\";position: absolute;border-left: 1px solid gray;box-sizing: border-box;top: 0;bottom: 0;left: 50%;z-index: 0;}#sk-container-id-1 div.sk-serial {display: flex;flex-direction: column;align-items: center;background-color: white;padding-right: 0.2em;padding-left: 0.2em;position: relative;}#sk-container-id-1 div.sk-item {position: relative;z-index: 1;}#sk-container-id-1 div.sk-parallel {display: flex;align-items: stretch;justify-content: center;background-color: white;position: relative;}#sk-container-id-1 div.sk-item::before, #sk-container-id-1 div.sk-parallel-item::before {content: \"\";position: absolute;border-left: 1px solid gray;box-sizing: border-box;top: 0;bottom: 0;left: 50%;z-index: -1;}#sk-container-id-1 div.sk-parallel-item {display: flex;flex-direction: column;z-index: 1;position: relative;background-color: white;}#sk-container-id-1 div.sk-parallel-item:first-child::after {align-self: flex-end;width: 50%;}#sk-container-id-1 div.sk-parallel-item:last-child::after {align-self: flex-start;width: 50%;}#sk-container-id-1 div.sk-parallel-item:only-child::after {width: 0;}#sk-container-id-1 div.sk-dashed-wrapped {border: 1px dashed gray;margin: 0 0.4em 0.5em 0.4em;box-sizing: border-box;padding-bottom: 0.4em;background-color: white;}#sk-container-id-1 div.sk-label label {font-family: monospace;font-weight: bold;display: inline-block;line-height: 1.2em;}#sk-container-id-1 div.sk-label-container {text-align: center;}#sk-container-id-1 div.sk-container {/* jupyter's `normalize.less` sets `[hidden] { display: none; }` but bootstrap.min.css set `[hidden] { display: none !important; }` so we also need the `!important` here to be able to override the default hidden behavior on the sphinx rendered scikit-learn.org. See: https://github.com/scikit-learn/scikit-learn/issues/21755 */display: inline-block !important;position: relative;}#sk-container-id-1 div.sk-text-repr-fallback {display: none;}</style><div id=\"sk-container-id-1\" class=\"sk-top-container\"><div class=\"sk-text-repr-fallback\"><pre>KNeighborsClassifier(n_neighbors=200)</pre><b>In a Jupyter environment, please rerun this cell to show the HTML representation or trust the notebook. <br />On GitHub, the HTML representation is unable to render, please try loading this page with nbviewer.org.</b></div><div class=\"sk-container\" hidden><div class=\"sk-item\"><div class=\"sk-estimator sk-toggleable\"><input class=\"sk-toggleable__control sk-hidden--visually\" id=\"sk-estimator-id-1\" type=\"checkbox\" checked><label for=\"sk-estimator-id-1\" class=\"sk-toggleable__label sk-toggleable__label-arrow\">KNeighborsClassifier</label><div class=\"sk-toggleable__content\"><pre>KNeighborsClassifier(n_neighbors=200)</pre></div></div></div></div></div>"
            ]
          },
          "metadata": {},
          "execution_count": 40
        }
      ]
    },
    {
      "cell_type": "code",
      "source": [
        "if knn.classes_[0] == 0:\n",
        "    zero_index = 0\n",
        "else:\n",
        "    zero_index = 1\n",
        "preds = knn.predict_proba(X3_test)[:,zero_index]"
      ],
      "metadata": {
        "id": "FuPLOdrS_Mhc"
      },
      "execution_count": 41,
      "outputs": []
    },
    {
      "cell_type": "code",
      "source": [
        "isofor = IsolationForest()\n",
        "isofor.fit(X3)\n",
        "out_labels = isofor.predict(X3_test)\n",
        "for i, val in enumerate(out_labels):\n",
        "  if val == -1:\n",
        "    preds[i] = 0"
      ],
      "metadata": {
        "id": "HIH6xyb__oZ1"
      },
      "execution_count": 42,
      "outputs": []
    },
    {
      "cell_type": "code",
      "source": [
        "ranking = np.argsort(preds)\n",
        "selected = ranking[0:1000] + np.ones(1000)"
      ],
      "metadata": {
        "id": "x8oMAVa0__mr"
      },
      "execution_count": 45,
      "outputs": []
    },
    {
      "cell_type": "code",
      "source": [
        "print(selected[0:100])\n",
        "print(selected[100:200])\n",
        "print(selected[200:300])\n",
        "print(selected[300:400])\n",
        "print(selected[400:500])\n",
        "print(selected[500:600])\n",
        "print(selected[600:700])\n",
        "print(selected[700:800])\n",
        "print(selected[800:900])\n",
        "print(selected[900:1000])\n"
      ],
      "metadata": {
        "colab": {
          "base_uri": "https://localhost:8080/"
        },
        "id": "LJSwtSA4AQXL",
        "outputId": "328edc58-887e-49ee-f997-193965d3dbee"
      },
      "execution_count": 47,
      "outputs": [
        {
          "output_type": "stream",
          "name": "stdout",
          "text": [
            "[2500. 2871. 1373. 4252. 2874. 1365. 1362. 4254. 1360. 1359. 3410. 2877.\n",
            " 4256. 3408. 1351. 1350. 1349. 1348. 2880. 2883. 4243. 1336. 2869. 4241.\n",
            " 4209. 2862. 4210. 4211. 4217. 4218. 4219. 3418. 4221. 4226. 2866. 4230.\n",
            " 4233. 4235. 2867. 1394. 1390. 1385. 1383. 1381. 4266. 1334. 4269. 4314.\n",
            " 1262. 1261. 4315. 1256. 4323. 4325. 1251. 1249. 1248. 1245. 1244. 1236.\n",
            " 1235. 4334. 4336. 4337. 4342. 1212. 2905. 4311. 4310. 1273. 2884. 1330.\n",
            " 1324. 4279. 1320. 1318. 4280. 1312. 1311. 4208. 1310. 4285. 4286. 4288.\n",
            " 4292. 3386. 1287. 1286. 2899. 2902. 1309. 1209. 2858. 4202. 1591. 4113.\n",
            " 1583. 1582. 1578. 3442.]\n",
            "[1569. 1564. 4115. 1557. 4122. 1555. 4124. 4125. 1551. 1548. 1545. 1544.\n",
            " 2827. 1597. 4131. 1600. 1602. 1648. 1642. 1641. 4080. 4081. 1636. 1628.\n",
            " 4090. 1623. 1620. 4091. 1617. 2814. 1615. 4094. 1612. 4096. 1608. 1605.\n",
            " 1601. 2828. 1536. 4132. 1471. 2849. 4177. 4178. 3424. 4179. 1457. 1448.\n",
            " 4189. 1442. 4194. 1439. 4197. 1436. 1435. 1433. 4198. 4199. 4201. 4173.\n",
            " 4172. 4162. 3427. 4135. 1530. 4138. 2831. 1523. 1521. 4143. 3436. 4145.\n",
            " 1425. 1517. 1514. 1510. 1507. 1500. 1499. 1497. 1493. 1488. 4160. 1516.\n",
            " 1203. 4348. 1201. 3349. 2988.  895.  893. 4532.  886.  885. 4535. 4536.\n",
            " 4537.  880. 3346. 4539.]\n",
            "[4547.  869.  862. 4551. 3343.  858.  903. 4552.  904. 2978.  971.  967.\n",
            " 4487.  959.  958.  952. 2972. 2973.  948.  947. 2974.  942. 2976. 4505.\n",
            "  935.  931.  927. 4507.  923. 4526. 4553.  852. 2996.  792. 3334. 3022.\n",
            " 4591.  785. 3023.  780.  779. 4595.  777.  775.  774. 4596.  767. 3029.\n",
            "  761. 4600.  757.  755. 4589. 3019. 3335. 4583.  843. 4567.  840. 3338.\n",
            " 3002.  826.  823.  822. 3004. 4480. 4574.  817. 4575. 4579. 4580. 3336.\n",
            "  805. 3015. 4581. 3016. 3005. 3357. 4479.  977. 1133. 4377. 2935. 4379.\n",
            " 2937. 1118. 1117. 1116. 1114. 2938. 1111. 1110. 4393. 1104. 2942. 2943.\n",
            " 4404. 4407. 1093. 1138.]\n",
            "[2932. 1142. 1143. 1195. 3372. 1193. 1188. 2922. 2923. 3369. 1175. 3368.\n",
            " 4408. 1168. 2926. 1164. 4368. 1157. 1156. 4369. 4370. 1152. 4371. 4367.\n",
            " 1651. 1090. 1082. 1022. 4453. 4454. 1016. 1008. 4461. 4463. 1005. 2964.\n",
            " 1001.  997. 4468. 2968. 4469.  988.  986.  984.  981. 4475. 4451. 1025.\n",
            " 1027. 1031. 1078. 4414. 4415. 1072. 1070. 1069. 1068. 4417. 4418. 1086.\n",
            " 1063. 1060. 1056. 2956. 1049. 1042. 1040. 1036. 4439. 4440. 1062.  750.\n",
            " 3456. 4072. 2670. 3724. 2245. 3727. 2672. 2235. 2230. 2674. 2228. 3735.\n",
            " 3737. 2224. 2223. 2218. 2679. 2680. 2210. 3742. 3744. 3515. 2205. 3721.\n",
            " 3719. 2319. 2316. 2315.]\n",
            "[3687. 3690. 3691. 2655. 2304. 2303. 2658. 2659. 2289. 2286. 2661. 2283.\n",
            " 3709. 3715. 2267. 3717. 3720. 3752. 3756. 3508. 3800. 2127. 2118. 2708.\n",
            " 2110. 3808. 2714. 3812. 3813. 2715. 2094. 2093. 2088. 2087. 2086. 3822.\n",
            " 3823. 2080. 2078. 2130. 3792. 2701. 3788. 3762. 2193. 3764. 3507. 2187.\n",
            " 3765. 2183. 2686. 3769. 2320. 2687. 2688. 3775. 3506. 2691. 3777. 2162.\n",
            " 2153. 2152. 2150. 2174. 2075. 2324. 3681. 2522. 3587. 2516. 2510. 3590.\n",
            " 2603. 2505. 3591. 2604. 3594. 2499. 2497. 2610. 3596. 2493. 3597. 2490.\n",
            " 2489. 2483. 2523. 3598. 2526. 2534. 2584. 2579. 3553. 2576. 3557. 2586.\n",
            " 2570. 2569. 3545. 3563.]\n",
            "[3565. 3567. 2561. 2555. 2554. 2548. 2545. 3580. 2594. 2528. 2479. 3603.\n",
            " 2613. 2393. 2392. 2389. 2388. 2387. 2385. 3649. 3654. 3657. 3658. 2373.\n",
            " 3661. 3662. 2359. 2352. 2351. 2651. 3676. 2652. 2638. 2635. 2412. 2634.\n",
            " 2615. 3533. 3606. 3607. 3608. 2459. 3530. 2454. 3617. 2326. 2448. 2439.\n",
            " 2437. 3635. 3638. 2430. 2626. 3526. 2629. 2417. 2621. 2073. 2071. 2721.\n",
            " 1792. 1787. 2778. 2779. 3984. 3986. 2780. 3994. 3995. 3996. 3997. 4000.\n",
            " 4001. 4002. 1752. 4003. 2787. 4006. 1745. 2776. 1741. 3473. 3476. 1840.\n",
            " 3944. 2770. 1834. 3951. 1829. 1828. 2771. 1825. 1824. 1822. 1819. 1817.\n",
            " 3962. 3965. 1806. 3966.]\n",
            "[3968. 3972. 3975. 2791. 2792. 1735. 4053. 1690. 1689. 4054. 1685. 4055.\n",
            " 1683. 1680. 1679. 1677. 4059. 4062. 3461. 2804. 3459. 1665. 1663. 4065.\n",
            " 4067. 4052. 2801. 1698. 4043. 1733. 1732. 4016. 1727. 1726. 1725. 3464.\n",
            " 1723. 2795. 3942. 1719. 1717. 4028. 1713. 4034. 1709. 4037. 1706. 4038.\n",
            " 4039. 2796. 2767. 3932. 1858. 2737. 1998. 1995. 1994. 3864. 1992. 3868.\n",
            " 1988. 1985. 3871. 1982. 1981. 3880. 3881. 1969. 1967. 1964. 3885. 1960.\n",
            " 3860. 3857. 2009. 2012. 2065. 2063. 3830. 3834. 2046. 3844. 2038. 3847.\n",
            " 3848. 1956. 2034. 2031. 2730. 2029. 2733. 2735. 3852. 2016. 3853. 2013.\n",
            " 2729. 3457. 3887. 3896.]\n",
            "[1893. 1892. 1891. 3920. 1888. 3922. 1881. 1880. 1879. 3924. 3481. 2763.\n",
            " 1871. 1870. 1869. 1868. 1867. 1863. 3928. 3918. 3917. 1898. 2757. 1946.\n",
            " 3486. 1941. 3485. 2749. 3901. 1932. 3903. 1928. 3895. 1927. 2751. 1920.\n",
            " 3909. 1913. 1910. 1909. 1908. 2754. 2756. 1925. 4607. 1291.  646.  432.\n",
            " 3062. 4649.   81.  655.  121.  426.   82. 4922. 3100. 4709.   79.  657.\n",
            " 4753.  658. 3061.  424. 4711. 4747. 4745. 4884. 3291.  642. 3173.  587.\n",
            "  184. 4653. 3063. 3198. 3115. 4907.   84. 3172. 3171.  232.  649.  650.\n",
            "  183.  588.  418.  237.  251.  252. 4919. 3202.   65. 4706.  673. 4761.\n",
            " 4763.  255.  256. 3254.]\n",
            "[ 258.  397.  261.   61. 4723.  670. 3186.  249.   78.  238. 3060.  662.\n",
            "  515. 4890. 4758. 4647. 3252. 4759.  126.   73.  412. 3122. 3163.  179.\n",
            "  405.  417.  263.  641.  187.  613.  614. 4729.  476. 3075. 4936.  617.\n",
            " 3311. 3070.  619.  101.  100.  473.  620.  201.  471. 3181. 3182.  112.\n",
            "  197.  603. 4668. 4932.  489. 3106.  486. 4933.  606. 4722.  485.  607.\n",
            "  190.  189.  484. 4878.  196. 4726. 3248. 3292. 4938.   96.  501. 3102.\n",
            " 4862.  115.  634.  219. 4658.  591. 4712.  445. 3193.   89.  222.  589.\n",
            "  444. 4860. 3176.  630. 4943. 4868. 4736. 4870. 4738. 3250.  464.  463.\n",
            " 4927. 3308.  208.  457.]\n",
            "[3294.  455.  626.  453.  452.  628. 4942. 3109.  519.  575.  265. 4803.\n",
            " 3229.  716. 4837.  335.  334. 3278. 3082.  311.  330.   19.  558. 3275.\n",
            "  327.  326.  724. 4987. 4838. 3330. 3041. 4798. 3217.  354.  352.  132.\n",
            "  350.  349.   26. 4629.   16. 4978. 3328. 4625. 4792.  345.  713. 3088.\n",
            " 4793. 3258.  287. 4631. 4811.  159.  555.    6.  551. 3332.  154. 4826.\n",
            "  313.  742. 3227.  312. 4912. 3302.  150. 4998. 4611. 4825. 3032. 4997.\n",
            " 4996. 3261. 4994. 4692. 4989. 3141. 3086. 3149.  547. 4832. 4831.  542.\n",
            " 4617.  321. 3148. 3242. 3144.  317.  303.  737. 3303. 3036.  285.  351.\n",
            "  358.  684.  276. 3052.]\n"
          ]
        }
      ]
    },
    {
      "cell_type": "code",
      "source": [
        "selected = selected.astype(int)\n",
        "with open(\"obs.txt\", 'w') as writer:\n",
        "  for i in range(1000):\n",
        "    writer.write(str(selected[i]))\n",
        "    writer.write(\"\\n\")"
      ],
      "metadata": {
        "id": "MJe57YUiBfPp"
      },
      "execution_count": 49,
      "outputs": []
    }
  ],
  "metadata": {
    "colab": {
      "collapsed_sections": [
        "c2nR3aXT9Ngt"
      ],
      "provenance": []
    },
    "kernelspec": {
      "display_name": "Python 3",
      "name": "python3"
    },
    "language_info": {
      "name": "python"
    }
  },
  "nbformat": 4,
  "nbformat_minor": 0
}