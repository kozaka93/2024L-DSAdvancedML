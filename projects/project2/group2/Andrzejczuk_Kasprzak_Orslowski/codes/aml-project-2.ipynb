{
 "cells":[
  {
   "cell_type":"code",
   "source":[
    "from typing import List, Optional, Literal, Iterator\n",
    "\n",
    "import numpy as np\n",
    "import pandas as pd\n",
    "\n",
    "from sklearn.metrics import brier_score_loss\n",
    "\n",
    "from tqdm import tqdm\n",
    "\n",
    "import os"
   ],
   "execution_count":45,
   "outputs":[],
   "metadata":{
    "datalore":{
     "node_id":"BBAzKQlspPZfRqkgnikMHK",
     "type":"CODE",
     "hide_input_from_viewers":true,
     "hide_output_from_viewers":true
    }
   }
  },
  {
   "cell_type":"code",
   "source":[
    "x_train = pd.read_csv('data\/x_train.txt', sep='\\s+', header=None)\n",
    "y_train = pd.read_csv('data\/y_train.txt', header=None)[0]\n",
    "x_test = pd.read_csv('data\/x_test.txt', sep='\\s+', header=None)"
   ],
   "execution_count":46,
   "outputs":[],
   "metadata":{
    "datalore":{
     "node_id":"TxmXTsm7tzIbq0xl4j483U",
     "type":"CODE",
     "hide_input_from_viewers":true,
     "hide_output_from_viewers":true
    }
   }
  },
  {
   "cell_type":"code",
   "source":[
    "x_train.info()"
   ],
   "execution_count":47,
   "outputs":[
    {
     "name":"stdout",
     "text":[
      "<class 'pandas.core.frame.DataFrame'>\n",
      "RangeIndex: 5000 entries, 0 to 4999\n",
      "Columns: 500 entries, 0 to 499\n",
      "dtypes: float64(500)\n",
      "memory usage: 19.1 MB\n"
     ],
     "output_type":"stream"
    }
   ],
   "metadata":{
    "datalore":{
     "node_id":"BHgW0IkPEFa1y0cM0fpOuZ",
     "type":"CODE",
     "hide_input_from_viewers":true,
     "hide_output_from_viewers":true
    }
   }
  },
  {
   "cell_type":"code",
   "source":[
    "y_train.info()"
   ],
   "execution_count":48,
   "outputs":[
    {
     "name":"stdout",
     "text":[
      "<class 'pandas.core.series.Series'>\n",
      "RangeIndex: 5000 entries, 0 to 4999\n",
      "Series name: 0\n",
      "Non-Null Count  Dtype\n",
      "--------------  -----\n",
      "5000 non-null   int64\n",
      "dtypes: int64(1)\n",
      "memory usage: 39.2 KB\n"
     ],
     "output_type":"stream"
    }
   ],
   "metadata":{
    "datalore":{
     "node_id":"NyN9EMkj8O9h8XDNwYwR7G",
     "type":"CODE",
     "hide_input_from_viewers":true,
     "hide_output_from_viewers":true
    }
   }
  },
  {
   "cell_type":"code",
   "source":[
    "y_train.value_counts()"
   ],
   "execution_count":49,
   "outputs":[
    {
     "data":{
      "text\/html":[
       "<pre>0    2504\n",
       "1    2496\n",
       "Name: 0, dtype: int64<\/pre>"
      ]
     },
     "metadata":{},
     "output_type":"display_data"
    }
   ],
   "metadata":{
    "datalore":{
     "node_id":"MzlPPQW8Yr7V2bqj6sZuGr",
     "type":"CODE",
     "hide_input_from_viewers":true,
     "hide_output_from_viewers":true
    }
   }
  },
  {
   "cell_type":"code",
   "source":[
    "x_test.shape"
   ],
   "execution_count":50,
   "outputs":[
    {
     "data":{
      "text\/plain":[
       "(5000, 500)"
      ]
     },
     "metadata":{},
     "output_type":"display_data"
    }
   ],
   "metadata":{
    "datalore":{
     "node_id":"RGpeysQ9b0jyYHpDKe7RJh",
     "type":"CODE",
     "hide_input_from_viewers":true,
     "hide_output_from_viewers":true
    }
   }
  },
  {
   "cell_type":"markdown",
   "source":[
    "# Functions related to customer selection"
   ],
   "attachments":{},
   "metadata":{
    "datalore":{
     "node_id":"JDxNIsQsIu9D4enGsn8tuM",
     "type":"MD",
     "hide_input_from_viewers":true,
     "hide_output_from_viewers":true
    }
   }
  },
  {
   "cell_type":"code",
   "source":[
    "def select_customers(y_pred_proba, n_customers=1000) -> List[int]:\n",
    "    \"\"\"\n",
    "    Selects n customers that are most likely to use the offer\n",
    "    \"\"\"\n",
    "    customers_preds = pd.DataFrame({\n",
    "        'customer_id': np.arange(len(y_pred_proba)),\n",
    "        'pred': y_pred_proba[:, 1],\n",
    "    })\n",
    "    customers_preds = customers_preds.sort_values('pred', ascending=False)\n",
    "    selected_customers = customers_preds.iloc[:n_customers, 0].tolist()\n",
    "    return selected_customers"
   ],
   "execution_count":51,
   "outputs":[],
   "metadata":{
    "datalore":{
     "node_id":"2TcpArD4yojItKSjtuM7HB",
     "type":"CODE",
     "hide_input_from_viewers":true,
     "hide_output_from_viewers":true
    }
   }
  },
  {
   "cell_type":"code",
   "source":[
    "def save_solution(y_pred_proba_test, variables_used: List[int]) -> None:\n",
    "    \"\"\"\n",
    "    Save selected customers to a file like specified in the task description\n",
    "    \"\"\"    \n",
    "    selected_customers = select_customers(y_pred_proba_test, n_customers=1000)\n",
    "        \n",
    "    first_student_id = '313467'\n",
    "            \n",
    "    # save customers\n",
    "    with open(f'{first_student_id}_obs.txt', 'w') as file:\n",
    "        for customer_id in selected_customers:\n",
    "            file.write(f'{customer_id + 1}\\n')\n",
    "\n",
    "    # save variables\n",
    "    with open(f'{first_student_id}_vars.txt', 'w') as file:\n",
    "        for var_name in variables_used:\n",
    "            file.write(f'{var_name + 1}\\n')"
   ],
   "execution_count":52,
   "outputs":[],
   "metadata":{
    "datalore":{
     "node_id":"wlYuOFjkN70Afaamg4L6GO",
     "type":"CODE",
     "hide_input_from_viewers":true,
     "hide_output_from_viewers":true
    }
   }
  },
  {
   "cell_type":"code",
   "source":[
    "def calculate_score(y_true, y_pred_proba, n_vars_used: int, n_customers=1000) -> int:\n",
    "    \"\"\"\n",
    "    Calculates score in € as specified in the task description.\n",
    "    \"\"\"\n",
    "    selected = select_customers(y_pred_proba, n_customers)\n",
    "    true_for_selected = np.ravel(y_true)[selected]\n",
    "    successful_selections = np.sum(true_for_selected)\n",
    "    \n",
    "    earnings = successful_selections * 10\n",
    "    cost = n_vars_used * 200\n",
    "    return int(earnings - cost)"
   ],
   "execution_count":53,
   "outputs":[],
   "metadata":{
    "datalore":{
     "node_id":"7onGbl8aZeebLPxaetNza9",
     "type":"CODE",
     "hide_input_from_viewers":true,
     "hide_output_from_viewers":true
    }
   }
  },
  {
   "cell_type":"code",
   "source":[
    "def calculate_score_adaptive(y_true, y_pred_proba, n_vars_used: int) -> int:\n",
    "    \"\"\"\n",
    "    Calculates an approximation of the result in € using Brier score. This function tries to\n",
    "    adapt the formula specified in the task description to different sized datasets by assuming\n",
    "    the following\n",
    "    - company can send offers to max 20% of the customers\n",
    "    - for each customer that used the offer the profit is equal to €10000 \/ n_customers\n",
    "\n",
    "    Note:\n",
    "        For a dataset of size 5000, this gives an exact formula.\n",
    "    \"\"\"\n",
    "    n_customers = len(y_true) \/\/ 5\n",
    "    profit_per_customer = 10000 \/ n_customers\n",
    "\n",
    "    selected = select_customers(y_pred_proba, n_customers)\n",
    "    true_for_selected = np.ravel(y_true)[selected]\n",
    "    successful_selections = np.sum(true_for_selected)\n",
    "    \n",
    "    earnings = successful_selections * profit_per_customer\n",
    "    cost = n_vars_used * 200\n",
    "    return int(earnings - cost)"
   ],
   "execution_count":54,
   "outputs":[],
   "metadata":{
    "datalore":{
     "node_id":"HP2umknXyf7hOkfekhNLfu",
     "type":"CODE",
     "hide_input_from_viewers":true,
     "hide_output_from_viewers":true
    }
   }
  },
  {
   "cell_type":"code",
   "source":[
    "def calculate_score_brier(y_true, y_pred_proba, n_vars_used: int) -> int:\n",
    "    \"\"\"\n",
    "    Calculates an approximation of the result in € using Brier score.\n",
    "    \"\"\"\n",
    "    brier = 1 - brier_score_loss(y_true, y_pred_proba[:, 1]).__round__(4)\n",
    "    return int(brier * 10 * 1000 - 200 * n_vars_used)"
   ],
   "execution_count":55,
   "outputs":[],
   "metadata":{
    "datalore":{
     "node_id":"D1eul35iX3lTHFYFCtSHB4",
     "type":"CODE",
     "hide_input_from_viewers":true,
     "hide_output_from_viewers":true
    }
   }
  },
  {
   "cell_type":"markdown",
   "source":[
    "# Utility functions"
   ],
   "attachments":{},
   "metadata":{
    "datalore":{
     "node_id":"Xtf28CWItZgi5QOpV2Dz1S",
     "type":"MD",
     "hide_input_from_viewers":true,
     "hide_output_from_viewers":true
    }
   }
  },
  {
   "cell_type":"code",
   "source":[
    "def generate_cv_data(x: pd.DataFrame, y: pd.Series, \n",
    "                     n_folds: int = 5, random_state: Optional[int] = None\n",
    "                     ) -> Iterator:\n",
    "    \"\"\"\n",
    "    Generates train and test datasets for cross-validation.\n",
    "    Parameters:\n",
    "    - df: pandas DataFrame, input DataFrame to be divided.\n",
    "    - n_folds: int, number of folds to generate.\n",
    "    - random_state: int, random seed to be set allowing for reproducibility of results.\n",
    "    \"\"\"\n",
    "    if random_state is not None: \n",
    "        np.random.seed(random_state)\n",
    "    idx = np.random.permutation(x.index)\n",
    "    n = len(x)\n",
    "    for i in range(n_folds):\n",
    "        mask = np.zeros(n, dtype=bool)\n",
    "        mask[i::n_folds] = True\n",
    "        x_train = x.loc[idx[~mask]]\n",
    "        x_test = x.loc[idx[mask]]\n",
    "        y_train = y[idx[~mask]]\n",
    "        y_test = y[idx[mask]]\n",
    "        yield x_train, x_test, y_train, y_test"
   ],
   "execution_count":56,
   "outputs":[],
   "metadata":{
    "datalore":{
     "node_id":"LcZAzIhGrebmDxLpMcYg6n",
     "type":"CODE",
     "hide_input_from_viewers":true,
     "hide_output_from_viewers":true
    }
   }
  },
  {
   "cell_type":"markdown",
   "source":[
    "# Functions that select features"
   ],
   "attachments":{},
   "metadata":{
    "datalore":{
     "node_id":"1Kwp7ElWgHT7J1MZFmG2nn",
     "type":"MD",
     "hide_input_from_viewers":true,
     "hide_output_from_viewers":true
    }
   }
  },
  {
   "cell_type":"markdown",
   "source":[
    "## 1. Correlation"
   ],
   "attachments":{},
   "metadata":{
    "datalore":{
     "node_id":"EXcZ2sIHueAEluhCgjoss9",
     "type":"MD",
     "hide_input_from_viewers":true,
     "hide_output_from_viewers":true
    }
   }
  },
  {
   "cell_type":"code",
   "source":[
    "from scipy.stats import kendalltau"
   ],
   "execution_count":57,
   "outputs":[],
   "metadata":{
    "datalore":{
     "node_id":"PpGfYMfAiBsaRn7DlTmkf4",
     "type":"CODE",
     "hide_input_from_viewers":true,
     "hide_output_from_viewers":true
    }
   }
  },
  {
   "cell_type":"code",
   "source":[
    "def select_vars_correlation(x: pd.DataFrame, y: pd.Series, corr_threshold=0.8) -> List[int]:\n",
    "    \"\"\"\n",
    "    Finds highly correlated pairs of variables and removes one of them, based on\n",
    "    which one is less correlated with the target variable.\n",
    "\n",
    "    Uses Spearman correlation for finding pairs and Kendall for picking the one\n",
    "    to be removed.\n",
    "\n",
    "    Returns:\n",
    "        A list of columns to be kept\n",
    "    \"\"\"\n",
    "    corr_matrix = x.corr(method='spearman').abs()\n",
    "    highly_correlated_flags = (corr_matrix > corr_threshold).to_numpy()\n",
    "    n_vars = len(x.columns)\n",
    "    to_drop = set()\n",
    "\n",
    "    for i in range(n_vars - 1):\n",
    "        for j in range(i + 1, n_vars):\n",
    "\n",
    "            if not highly_correlated_flags[i][j]:\n",
    "                continue\n",
    "                \n",
    "            if i in to_drop or j in to_drop:\n",
    "                continue\n",
    "\n",
    "            x_i = x.iloc[:, i]\n",
    "            x_j = x.iloc[:, j]\n",
    "            corr_xi_y = kendalltau(x_i, y)\n",
    "            corr_xj_y = kendalltau(x_j, y)\n",
    "            if corr_xi_y > corr_xj_y:\n",
    "                to_drop.add(j)\n",
    "            else:\n",
    "                to_drop.add(i)\n",
    "\n",
    "    to_keep = set(x.columns) - to_drop\n",
    "    return list(to_keep)"
   ],
   "execution_count":58,
   "outputs":[],
   "metadata":{
    "datalore":{
     "node_id":"Lmj9YlKlgylJDbRSKdscvG",
     "type":"CODE",
     "hide_input_from_viewers":true,
     "hide_output_from_viewers":true
    }
   }
  },
  {
   "cell_type":"markdown",
   "source":[
    "## 2. ANOVA"
   ],
   "attachments":{},
   "metadata":{
    "datalore":{
     "node_id":"dsjpOlmoAhi4t1G9vwRucl",
     "type":"MD",
     "hide_input_from_viewers":true,
     "hide_output_from_viewers":true
    }
   }
  },
  {
   "cell_type":"code",
   "source":[
    "from sklearn.feature_selection import SelectKBest, f_classif"
   ],
   "execution_count":59,
   "outputs":[],
   "metadata":{
    "datalore":{
     "node_id":"ZsBptKxmi3AbL9IRWcvQjM",
     "type":"CODE",
     "hide_input_from_viewers":true,
     "hide_output_from_viewers":true
    }
   }
  },
  {
   "cell_type":"code",
   "source":[
    "def select_vars_anova(\n",
    "        x: pd.DataFrame, \n",
    "        y: pd.Series, \n",
    "        top_n: int,\n",
    "    ) -> List[int]:\n",
    "    \"\"\"\n",
    "    Selects the top `top_n` variables using ANOVA F-statistics.\n",
    "\n",
    "    Applies `SelectKBest` with `f_classif` to identify the most important \n",
    "    features in `x` with respect to `y`.\n",
    "\n",
    "    Args:\n",
    "        x: DataFrame with features.\n",
    "        y: 1D array or Series with target values.\n",
    "        top_n: Number of top features to select.\n",
    "    \n",
    "    Returns:\n",
    "        A list of top `top_n` features based on ANOVA F-statistics.\n",
    "    \"\"\"\n",
    "    \n",
    "    # Convert y to a 1D numpy array\n",
    "    y = np.array(y).flatten()\n",
    "\n",
    "    # Select the top `k` features using ANOVA F-statistics\n",
    "    selector = SelectKBest(f_classif, k=top_n)\n",
    "    selector.fit(x, y)\n",
    "    selected_features = x.columns[selector.get_support()]\n",
    "\n",
    "    return selected_features.tolist()"
   ],
   "execution_count":60,
   "outputs":[],
   "metadata":{
    "datalore":{
     "node_id":"78VdFyGsBaiPwdaGvY5RVB",
     "type":"CODE",
     "hide_input_from_viewers":true,
     "hide_output_from_viewers":true
    }
   }
  },
  {
   "cell_type":"markdown",
   "source":[
    "## 3. Forward selection"
   ],
   "attachments":{},
   "metadata":{
    "datalore":{
     "node_id":"ZW1KCU5z8irV7as4tasHRx",
     "type":"MD",
     "hide_input_from_viewers":true,
     "hide_output_from_viewers":true
    }
   }
  },
  {
   "cell_type":"code",
   "source":[
    "from sklearn.model_selection import KFold, cross_val_score"
   ],
   "execution_count":61,
   "outputs":[],
   "metadata":{
    "datalore":{
     "node_id":"VzRcWCbcig18uVkDTc1hrv",
     "type":"CODE",
     "hide_input_from_viewers":true,
     "hide_output_from_viewers":true
    }
   }
  },
  {
   "cell_type":"code",
   "source":[
    "def train_cv(model, x, y, n_splits, score: callable, **fit_params):\n",
    "    scores = []\n",
    "    n_vars = x.shape[1]\n",
    "    cv = KFold(n_splits=n_splits)\n",
    "    for train, test in cv.split(x):\n",
    "        model.fit(x.iloc[train], y[train], **fit_params)\n",
    "        y_pred = model.predict_proba(x.iloc[test])\n",
    "        scores.append(score(y[test], y_pred, n_vars))\n",
    "    return np.array(scores).mean()"
   ],
   "execution_count":62,
   "outputs":[],
   "metadata":{
    "datalore":{
     "node_id":"3PLJk1Xfcaz04Ic2VVxDMK",
     "type":"CODE",
     "hide_input_from_viewers":true,
     "hide_output_from_viewers":true
    }
   }
  },
  {
   "cell_type":"code",
   "source":[
    "def forward_selection(\n",
    "        x: pd.DataFrame, \n",
    "        y: pd.Series, \n",
    "        model, \n",
    "        n_features: int, \n",
    "        score: callable) -> List[int]:\n",
    "    \"\"\"\n",
    "    Iteratively selects the best variables one-by-one, starting with no variables\n",
    "    \"\"\"\n",
    "\n",
    "    y = np.ravel(y)\n",
    "    selected_features = []\n",
    "\n",
    "    for _ in tqdm(range(n_features)):\n",
    "        best_feature = None\n",
    "        best_score = 0\n",
    "\n",
    "        for feature in x.columns:\n",
    "            if feature not in selected_features:\n",
    "                features_to_test = selected_features + [feature]\n",
    "\n",
    "                avg_score = train_cv(model, x[features_to_test], y, 5, score)\n",
    "\n",
    "                if avg_score > best_score:\n",
    "                    best_feature = feature\n",
    "                    best_score = avg_score\n",
    "\n",
    "        selected_features.append(best_feature)\n",
    "\n",
    "    return selected_features"
   ],
   "execution_count":63,
   "outputs":[],
   "metadata":{
    "datalore":{
     "node_id":"JCcwkKp325KghY6dZKRAOH",
     "type":"CODE",
     "hide_input_from_viewers":true,
     "hide_output_from_viewers":true
    }
   }
  },
  {
   "cell_type":"markdown",
   "source":[
    "## 4. Backward elimination"
   ],
   "attachments":{},
   "metadata":{
    "datalore":{
     "node_id":"pHcpX76nUtxkWLTdQTdI0v",
     "type":"MD",
     "hide_input_from_viewers":true,
     "hide_output_from_viewers":true
    }
   }
  },
  {
   "cell_type":"code",
   "source":[
    "def backward_elimination(x: pd.DataFrame, y: pd.Series, model, n_features: int) -> List[int]:\n",
    "    \"\"\"\n",
    "    Starts with all variables and iteratively selects the worst variables \n",
    "    one-by-one which are removed in next iterations.\n",
    "\n",
    "    Returns features to keep in order of importance\n",
    "    \"\"\"\n",
    "    y = np.ravel(y)\n",
    "\n",
    "    remaining_features = list(x.columns)\n",
    "\n",
    "    features_to_keep = []\n",
    "\n",
    "    for _ in tqdm(range(len(x.columns) - 1)):\n",
    "        worst_feature = None\n",
    "        worst_score = float('inf')\n",
    "\n",
    "        for feature in remaining_features:\n",
    "            features_to_test = [f for f in remaining_features if f != feature]\n",
    "\n",
    "            scores = cross_val_score(model, x[features_to_test], y, cv=5, scoring='accuracy')\n",
    "            avg_score = scores.mean()\n",
    "\n",
    "            if avg_score < worst_score:\n",
    "                worst_feature = feature\n",
    "                worst_score = avg_score\n",
    "\n",
    "        remaining_features.remove(worst_feature)\n",
    "\n",
    "        # keep going to return the remaining features in order of importance\n",
    "        if len(remaining_features) < n_features:\n",
    "            features_to_keep.append(worst_feature)\n",
    "\n",
    "    features_to_keep.append(remaining_features[0])\n",
    "    features_to_keep.reverse()\n",
    "    \n",
    "    return features_to_keep"
   ],
   "execution_count":64,
   "outputs":[],
   "metadata":{
    "datalore":{
     "node_id":"EusfOCNWFDWvnnF5l08IRm",
     "type":"CODE",
     "hide_input_from_viewers":true,
     "hide_output_from_viewers":true
    }
   }
  },
  {
   "cell_type":"markdown",
   "source":[
    "## 5. Permutation-based importance"
   ],
   "attachments":{},
   "metadata":{
    "datalore":{
     "node_id":"YJtW6PPe7FYHqE69T0cFre",
     "type":"MD",
     "hide_input_from_viewers":true,
     "hide_output_from_viewers":true
    }
   }
  },
  {
   "cell_type":"code",
   "source":[
    "from sklearn.metrics import accuracy_score"
   ],
   "execution_count":65,
   "outputs":[],
   "metadata":{
    "datalore":{
     "node_id":"oOIYmt3U8a5ZfdnaYiV5Ob",
     "type":"CODE",
     "hide_input_from_viewers":true,
     "hide_output_from_viewers":true
    }
   }
  },
  {
   "cell_type":"code",
   "source":[
    "def select_vars_permutation(\n",
    "        x: pd.DataFrame, \n",
    "        y: pd.Series, \n",
    "        model, \n",
    "        top_n: int, \n",
    "        random_state: Optional[int] = None) -> List[int]:\n",
    "    \"\"\"\n",
    "    Calculates permutation-based feature importance for every variable \n",
    "    and selects the ``top_n`` most important variables (in order of importance). \n",
    "\n",
    "    Feature importance is calculated by for each variable by calculating accuracy \n",
    "    difference between predictions on the original data and the data where the \n",
    "    variable values are permuted.\n",
    "\n",
    "    Args:\n",
    "        x: Dataframe with features\n",
    "        y: Series with the target variable values\n",
    "        model: A classifier which implements .fit() and .predict() methods\n",
    "        top_n: How many important variables to return\n",
    "        random_state: Seed for the random number generator\n",
    "\n",
    "    Returns:\n",
    "        A list of columns to be kept\n",
    "    \"\"\"\n",
    "    rng = np.random.default_rng(random_state)\n",
    "    n_vars = len(x.columns)\n",
    "    model.fit(x, np.ravel(y))\n",
    "\n",
    "    accuracy_original = accuracy_score(y, model.predict(x))\n",
    "    acc_diffs = np.zeros(n_vars)\n",
    "\n",
    "    for i, col in enumerate(x.columns):\n",
    "        x_shuffled_i = x.copy()\n",
    "        # permute values of x_i\n",
    "        x_shuffled_i[col] = x_shuffled_i[col]\\\n",
    "            .sample(frac=1, random_state=rng.integers(999999))\\\n",
    "            .values\n",
    "        accuracy_shuffled_i = accuracy_score(y, model.predict(x_shuffled_i))\n",
    "        acc_diffs[i] = accuracy_original - accuracy_shuffled_i\n",
    "\n",
    "    vi_df = pd.DataFrame({\n",
    "        'column': x.columns,\n",
    "        'acc_diff': acc_diffs\n",
    "    })\n",
    "    vi_df = vi_df.sort_values('acc_diff', ascending=False)\n",
    "\n",
    "    to_keep = vi_df.iloc[:top_n, 0].tolist()\n",
    "    return to_keep"
   ],
   "execution_count":66,
   "outputs":[],
   "metadata":{
    "datalore":{
     "node_id":"vzGYvYWpJSz88R1KQvOvOH",
     "type":"CODE",
     "hide_input_from_viewers":true,
     "hide_output_from_viewers":true
    }
   }
  },
  {
   "cell_type":"markdown",
   "source":[
    "# Evaluating feature selection strategies"
   ],
   "attachments":{},
   "metadata":{
    "datalore":{
     "node_id":"G4mHuqL8w17Z3bXcgsjBQ6",
     "type":"MD",
     "hide_input_from_viewers":true,
     "hide_output_from_viewers":true
    }
   }
  },
  {
   "cell_type":"code",
   "source":[
    "import matplotlib.pyplot as plt\n",
    "import seaborn as sns\n",
    "\n",
    "from xgboost import XGBClassifier\n",
    "from sklearn.ensemble import RandomForestClassifier\n",
    "from sklearn.linear_model import LogisticRegression\n",
    "from sklearn.naive_bayes import GaussianNB"
   ],
   "execution_count":67,
   "outputs":[],
   "metadata":{
    "datalore":{
     "node_id":"hcsGCkV7mz8S306PP2sK6Q",
     "type":"CODE",
     "hide_input_from_viewers":true,
     "hide_output_from_viewers":true
    }
   }
  },
  {
   "cell_type":"code",
   "source":[
    "def run_experiment(models: dict, selection_strategy: callable, n_vars_values: List[int]) -> pd.DataFrame:\n",
    "    \"\"\"\n",
    "    Selection strategy should return variable list for each n_vars and accept as arguments:\n",
    "    - list of n_vars\n",
    "    - x\n",
    "    - y\n",
    "    - model\n",
    "    \"\"\"\n",
    "    results_df = pd.DataFrame(\n",
    "        columns=['Model', 'Number of variables', 'fold_no',\n",
    "                 'Score (Brier)', 'Score (adaptive)']\n",
    "    )\n",
    "\n",
    "    for model_name, model in models.items():\n",
    "\n",
    "        print(f'Running {model_name}...')\n",
    "\n",
    "        vars_for_each_n = selection_strategy(\n",
    "            n_vars_values, x_train, y_train, model\n",
    "        )\n",
    "        for selected_vars in vars_for_each_n:\n",
    "\n",
    "            n_vars = len(selected_vars)\n",
    "            # select variables\n",
    "            x_train_selected = x_train[selected_vars]\n",
    "\n",
    "            for fold_no, (x_train_cv, x_valid_cv, y_train_cv, y_valid_cv) \\\n",
    "                    in enumerate(generate_cv_data(x_train_selected, y_train, n_folds=5)):\n",
    "\n",
    "                model.fit(x_train_cv, y_train_cv)\n",
    "\n",
    "                pred_proba = model.predict_proba(x_valid_cv)\n",
    "\n",
    "                score_brier = calculate_score_brier(y_valid_cv, pred_proba, n_vars_used=n_vars)\n",
    "                score_adaptive = calculate_score_adaptive(y_valid_cv, pred_proba, n_vars_used=n_vars)\n",
    "\n",
    "                results_df.loc[len(results_df)] = [\n",
    "                    model_name, n_vars, fold_no, score_brier, score_adaptive]\n",
    "    \n",
    "    return results_df"
   ],
   "execution_count":68,
   "outputs":[],
   "metadata":{
    "datalore":{
     "node_id":"bXQK7qY7mN7aVWOFGaymaM",
     "type":"CODE",
     "hide_input_from_viewers":true,
     "hide_output_from_viewers":true
    }
   }
  },
  {
   "cell_type":"code",
   "source":[
    "def visualise_results(results: pd.DataFrame, title: str,\n",
    "                      score: Literal['brier', 'adaptive'] = 'adaptive',\n",
    "                      save_name: Optional[str] = None):\n",
    "    if score == 'brier':\n",
    "        score_name = 'Score (Brier)'\n",
    "    elif score == 'adaptive':\n",
    "        score_name = 'Score (adaptive)'\n",
    "    else:\n",
    "        raise ValueError(f'Invalid score \"{score}\"')\n",
    "\n",
    "    plt.figure(figsize=(10, 6), dpi=100)\n",
    "    sns.boxplot(\n",
    "        data=results,\n",
    "        hue='Model',\n",
    "        x='Number of variables',\n",
    "        y=score_name,\n",
    "        palette='colorblind',\n",
    "    )\n",
    "    plt.grid(axis='y')\n",
    "    plt.title(title)\n",
    "    if save_name is not None:\n",
    "        plt.savefig(f'plots\/{save_name}.png')\n",
    "    plt.show()"
   ],
   "execution_count":69,
   "outputs":[],
   "metadata":{
    "datalore":{
     "node_id":"rZKvipuAk1GrkatKrFguQ3",
     "type":"CODE",
     "hide_input_from_viewers":true,
     "hide_output_from_viewers":true
    }
   }
  },
  {
   "cell_type":"markdown",
   "source":[
    "## 1. ANOVA"
   ],
   "attachments":{},
   "metadata":{
    "datalore":{
     "node_id":"KJYMAwpx8v1HosdVtEO4Kl",
     "type":"MD",
     "hide_input_from_viewers":true,
     "hide_output_from_viewers":true
    }
   }
  },
  {
   "cell_type":"code",
   "source":[
    "def selection_strategy_anova(n_vars_values, x, y, model):\n",
    "    vars_for_each_n = []\n",
    "\n",
    "    for n in n_vars_values:\n",
    "        selected_vars = select_vars_anova(x, y, n)\n",
    "        vars_for_each_n.append(selected_vars)\n",
    "\n",
    "    return vars_for_each_n"
   ],
   "execution_count":26,
   "outputs":[],
   "metadata":{
    "datalore":{
     "node_id":"2vQWNZAQwjrexeIrXGhUqt",
     "type":"CODE",
     "hide_input_from_viewers":true,
     "hide_output_from_viewers":true
    }
   }
  },
  {
   "cell_type":"code",
   "source":[
    "results_anova = run_experiment(\n",
    "    models={\n",
    "        'Logistic Regression': LogisticRegression(random_state=28),\n",
    "        'Naive Bayes': GaussianNB(),\n",
    "        'Random Forest': RandomForestClassifier(random_state=24, max_depth=7),\n",
    "        'XGBoost': XGBClassifier(random_state=26),\n",
    "    },\n",
    "    selection_strategy=selection_strategy_anova,\n",
    "    n_vars_values=[2, 3, 4, 5, 6, 7, 8, 9]\n",
    ")\n",
    "results_anova.to_csv('results\/1_anova.csv')"
   ],
   "execution_count":27,
   "outputs":[],
   "metadata":{
    "datalore":{
     "node_id":"RFNcb0OTXGbEOWAQSk6kTb",
     "type":"CODE",
     "hide_input_from_viewers":true,
     "hide_output_from_viewers":true
    }
   }
  },
  {
   "cell_type":"code",
   "source":[
    "results_anova = pd.read_csv('results\/1_anova.csv')"
   ],
   "execution_count":31,
   "outputs":[],
   "metadata":{
    "datalore":{
     "node_id":"5FuBZxhO9MLwNcKrHAO9bj",
     "type":"CODE",
     "hide_input_from_viewers":true,
     "hide_output_from_viewers":true
    }
   }
  },
  {
   "cell_type":"markdown",
   "source":[
    "Score in € (adaptive)"
   ],
   "attachments":{},
   "metadata":{
    "datalore":{
     "node_id":"aCl6IR5Z7dFRLgl2bv0VvB",
     "type":"MD",
     "hide_input_from_viewers":true,
     "hide_output_from_viewers":true
    }
   }
  },
  {
   "cell_type":"code",
   "source":[
    "visualise_results(\n",
    "    results_anova, \n",
    "    title='ANOVA',\n",
    "    score='adaptive',\n",
    "    save_name='1_anova',\n",
    ")"
   ],
   "execution_count":32,
   "outputs":[
    {
     "data":{
      "image\/png":"[encoded data removed]"
     },
     "metadata":{
      "image\/png":{}
     },
     "output_type":"display_data"
    }
   ],
   "metadata":{
    "datalore":{
     "node_id":"4atFUXteY619bGucWGyuMO",
     "type":"CODE",
     "hide_input_from_viewers":true,
     "hide_output_from_viewers":true
    }
   }
  },
  {
   "cell_type":"markdown",
   "source":[
    "## 2. Correlation + ANOVA"
   ],
   "attachments":{},
   "metadata":{
    "datalore":{
     "node_id":"ogy25qonCY0pe3CmTwoNL5",
     "type":"MD",
     "hide_input_from_viewers":true,
     "hide_output_from_viewers":true
    }
   }
  },
  {
   "cell_type":"code",
   "source":[
    "def selection_strategy_corr_anova(n_vars_values, x, y, model):\n",
    "    vars_for_each_n = []\n",
    "\n",
    "    vars_nocorr = select_vars_correlation(x, y)\n",
    "    \n",
    "    for n in n_vars_values:\n",
    "        selected_vars = select_vars_anova(x[vars_nocorr], y, n)\n",
    "        vars_for_each_n.append(selected_vars)\n",
    "\n",
    "    return vars_for_each_n"
   ],
   "execution_count":27,
   "outputs":[],
   "metadata":{
    "datalore":{
     "node_id":"nBxqt1YdV1D9HtwWzEntyf",
     "type":"CODE",
     "hide_input_from_viewers":true,
     "hide_output_from_viewers":true
    }
   }
  },
  {
   "cell_type":"code",
   "source":[
    "results_corr_anova = run_experiment(\n",
    "    models={\n",
    "        'Logistic Regression': LogisticRegression(random_state=28),\n",
    "        'Naive Bayes': GaussianNB(),\n",
    "        'Random Forest': RandomForestClassifier(random_state=24, max_depth=7),\n",
    "        'XGBoost': XGBClassifier(random_state=26),\n",
    "    },\n",
    "    selection_strategy=selection_strategy_corr_anova,\n",
    "    n_vars_values=[2, 3, 4, 5, 6, 7, 8, 9]\n",
    ")\n",
    "results_corr_anova.to_csv('results\/2_corr_anova.csv')"
   ],
   "execution_count":null,
   "outputs":[],
   "metadata":{
    "datalore":{
     "node_id":"VKdaXWcapEJPg3B0pzuJzC",
     "type":"CODE",
     "hide_input_from_viewers":true,
     "hide_output_from_viewers":true
    }
   }
  },
  {
   "cell_type":"code",
   "source":[
    "results_corr_anova = pd.read_csv('results\/2_corr_anova.csv')"
   ],
   "execution_count":33,
   "outputs":[],
   "metadata":{
    "datalore":{
     "node_id":"cyOSNF0YvH6LbrsMMOF6qa",
     "type":"CODE",
     "hide_input_from_viewers":true,
     "hide_output_from_viewers":true
    }
   }
  },
  {
   "cell_type":"markdown",
   "source":[
    "Score in € (adaptive)"
   ],
   "attachments":{},
   "metadata":{
    "datalore":{
     "node_id":"sAxHmrcrpGqyfLNCGXp8J4",
     "type":"MD",
     "hide_input_from_viewers":true,
     "hide_output_from_viewers":true
    }
   }
  },
  {
   "cell_type":"code",
   "source":[
    "visualise_results(\n",
    "    results_corr_anova,\n",
    "    title='Correlation + ANOVA',\n",
    "    score='adaptive',\n",
    "    save_name='2_corr_anova',\n",
    ")"
   ],
   "execution_count":34,
   "outputs":[
    {
     "data":{
      "image\/png":"[encoded data removed]"
     },
     "metadata":{
      "image\/png":{}
     },
     "output_type":"display_data"
    }
   ],
   "metadata":{
    "datalore":{
     "node_id":"3avNDpgk94jZlszwNe9Zx2",
     "type":"CODE",
     "hide_input_from_viewers":true,
     "hide_output_from_viewers":true
    }
   }
  },
  {
   "cell_type":"markdown",
   "source":[
    "## 3. Correlation + ANOVA + Forward Selection\n",
    "\n",
    "Steps:\n",
    "1. Remove highly correlated variables\n",
    "2. Select top 15 variables using ANOVA\n",
    "3. Select the best variables using forward selection"
   ],
   "attachments":{},
   "metadata":{
    "datalore":{
     "node_id":"6WbMFchdPvBBqGyZHdEX4b",
     "type":"MD",
     "hide_input_from_viewers":true,
     "hide_output_from_viewers":true
    }
   }
  },
  {
   "cell_type":"code",
   "source":[
    "def selection_strategy_corr_anova_forward(n_vars_values, x, y, model):\n",
    "    vars_for_each_n = []\n",
    "\n",
    "    # step 1\n",
    "    vars_nocorr = select_vars_correlation(x, y)\n",
    "    # step 2\n",
    "    vars_anova = select_vars_anova(x[vars_nocorr], y, top_n=15)\n",
    "    # step 3\n",
    "    vars_for_largest_n = forward_selection(\n",
    "        x[vars_anova], y, model, np.max(n_vars_values), calculate_score_adaptive\n",
    "    )\n",
    "    \n",
    "    for n in n_vars_values:\n",
    "        vars_for_each_n.append(vars_for_largest_n[:n])\n",
    "\n",
    "    return vars_for_each_n"
   ],
   "execution_count":28,
   "outputs":[],
   "metadata":{
    "datalore":{
     "node_id":"H0dq02f3nBb3vqJkV6qs4N",
     "type":"CODE",
     "hide_input_from_viewers":true,
     "hide_output_from_viewers":true
    }
   }
  },
  {
   "cell_type":"code",
   "source":[
    "results_corr_anova_forward = run_experiment(\n",
    "    models={\n",
    "        'Logistic Regression': LogisticRegression(random_state=28),\n",
    "        'Naive Bayes': GaussianNB(),\n",
    "        'Random Forest': RandomForestClassifier(random_state=24, max_depth=7),\n",
    "        'XGBoost': XGBClassifier(random_state=26),\n",
    "    },\n",
    "    selection_strategy=selection_strategy_corr_anova_forward,\n",
    "    n_vars_values=[2, 3, 4, 5, 6]\n",
    ")\n",
    "results_corr_anova_forward.to_csv('results\/3_corr_anova_forward.csv')"
   ],
   "execution_count":null,
   "outputs":[],
   "metadata":{
    "datalore":{
     "node_id":"kRJREM7lAD7hZF3C3lcptf",
     "type":"CODE",
     "hide_input_from_viewers":true,
     "hide_output_from_viewers":true
    }
   }
  },
  {
   "cell_type":"code",
   "source":[
    "results_corr_anova_forward = pd.read_csv('results\/3_corr_anova_forward.csv')"
   ],
   "execution_count":35,
   "outputs":[],
   "metadata":{
    "datalore":{
     "node_id":"vjiARhHc2l9VJG4epZ4Syw",
     "type":"CODE",
     "hide_input_from_viewers":true,
     "hide_output_from_viewers":true
    }
   }
  },
  {
   "cell_type":"markdown",
   "source":[
    "Score in € (adaptive)"
   ],
   "attachments":{},
   "metadata":{
    "datalore":{
     "node_id":"1hhGanMcIRGa5sQm1eVdNO",
     "type":"MD",
     "hide_input_from_viewers":true,
     "hide_output_from_viewers":true
    }
   }
  },
  {
   "cell_type":"code",
   "source":[
    "visualise_results(\n",
    "    results_corr_anova_forward, \n",
    "    title='Correlation + ANOVA + Forward Selection',\n",
    "    save_name='3_corr_anova_forward',\n",
    ")"
   ],
   "execution_count":36,
   "outputs":[
    {
     "data":{
      "image\/png":"[encoded data removed]"
     },
     "metadata":{
      "image\/png":{}
     },
     "output_type":"display_data"
    }
   ],
   "metadata":{
    "datalore":{
     "node_id":"0b6aOf3jNUYkWg3naaccCS",
     "type":"CODE",
     "hide_input_from_viewers":true,
     "hide_output_from_viewers":true
    }
   }
  },
  {
   "cell_type":"markdown",
   "source":[
    "## 4. Correlation + ANOVA + Backward Elimination\n",
    "\n",
    "Steps:\n",
    "1. Remove highly correlated variables\n",
    "2. Select top 15 variables using ANOVA\n",
    "3. Select the best variables using backward elimination"
   ],
   "attachments":{},
   "metadata":{
    "datalore":{
     "node_id":"dYQhrhvYeZoIAXW5nmVsD7",
     "type":"MD",
     "hide_input_from_viewers":true,
     "hide_output_from_viewers":true
    }
   }
  },
  {
   "cell_type":"code",
   "source":[
    "def selection_strategy_corr_anova_backward(n_vars_values, x, y, model):\n",
    "    vars_for_each_n = []\n",
    "\n",
    "    # step 1\n",
    "    vars_nocorr = select_vars_correlation(x, y)\n",
    "    # step 2\n",
    "    vars_anova = select_vars_anova(x[vars_nocorr], y, top_n=15)\n",
    "    # step 3\n",
    "    vars_for_largest_n = backward_elimination(\n",
    "        x[vars_anova], y, model, np.max(n_vars_values)\n",
    "    )\n",
    "    \n",
    "    for n in n_vars_values:\n",
    "        vars_for_each_n.append(vars_for_largest_n[:n])\n",
    "\n",
    "    return vars_for_each_n"
   ],
   "execution_count":29,
   "outputs":[],
   "metadata":{
    "datalore":{
     "node_id":"OqhtbaDy1zMVRYtvuaVLpZ",
     "type":"CODE",
     "hide_input_from_viewers":true,
     "hide_output_from_viewers":true
    }
   }
  },
  {
   "cell_type":"code",
   "source":[
    "results_corr_anova_backward = run_experiment(\n",
    "    models={\n",
    "        'Naive Bayes': GaussianNB(),\n",
    "        'Random Forest': RandomForestClassifier(random_state=24, max_depth=7),\n",
    "        'XGBoost': XGBClassifier(random_state=26),\n",
    "    },\n",
    "    selection_strategy=selection_strategy_corr_anova_backward,\n",
    "    n_vars_values=[2, 3, 4, 5, 6]\n",
    ")\n",
    "results_corr_anova_backward.to_csv('results\/4_corr_anova_backward.csv')"
   ],
   "execution_count":null,
   "outputs":[],
   "metadata":{
    "datalore":{
     "node_id":"eNp5KIpdjrIdFP3vu4F8To",
     "type":"CODE",
     "hide_input_from_viewers":true,
     "hide_output_from_viewers":true
    }
   }
  },
  {
   "cell_type":"code",
   "source":[
    "results_corr_anova_backward = pd.read_csv('results\/4_corr_anova_backward.csv')"
   ],
   "execution_count":37,
   "outputs":[],
   "metadata":{
    "datalore":{
     "node_id":"BvyoGn03hNl6k4g6SNBzfc",
     "type":"CODE",
     "hide_input_from_viewers":true,
     "hide_output_from_viewers":true
    }
   }
  },
  {
   "cell_type":"markdown",
   "source":[
    "Score in € (adaptive)"
   ],
   "attachments":{},
   "metadata":{
    "datalore":{
     "node_id":"XiA7aPuKRAHaBIUBTB2LDh",
     "type":"MD",
     "hide_input_from_viewers":true,
     "hide_output_from_viewers":true
    }
   }
  },
  {
   "cell_type":"code",
   "source":[
    "visualise_results(\n",
    "    results_corr_anova_backward, \n",
    "    title='Correlation + ANOVA + Backward Elimination',\n",
    "    save_name='4_corr_anova_backward',\n",
    ")"
   ],
   "execution_count":38,
   "outputs":[
    {
     "data":{
      "image\/png":"[encoded data removed]"
     },
     "metadata":{
      "image\/png":{}
     },
     "output_type":"display_data"
    }
   ],
   "metadata":{
    "datalore":{
     "node_id":"VQu6nATz41UUjNacw09ebH",
     "type":"CODE",
     "hide_input_from_viewers":true,
     "hide_output_from_viewers":true
    }
   }
  },
  {
   "cell_type":"markdown",
   "source":[
    "## 5. Permutation VI"
   ],
   "attachments":{},
   "metadata":{
    "datalore":{
     "node_id":"GQCHJAIPp0TlRDhEsGg23c",
     "type":"MD",
     "hide_input_from_viewers":true,
     "hide_output_from_viewers":true
    }
   }
  },
  {
   "cell_type":"code",
   "source":[
    "def selection_strategy_permutation(n_vars_values, x, y, model):\n",
    "    vars_for_each_n = []\n",
    "\n",
    "    vars_for_largest_n = select_vars_permutation(\n",
    "        x, y, model, top_n=np.max(n_vars_values), random_state=3)\n",
    "    \n",
    "    for n in n_vars_values:\n",
    "        vars_for_each_n.append(vars_for_largest_n[:n])\n",
    "\n",
    "    return vars_for_each_n"
   ],
   "execution_count":30,
   "outputs":[],
   "metadata":{
    "datalore":{
     "node_id":"UlKxsrGnmC1pKXLPUBEToS",
     "type":"CODE",
     "hide_input_from_viewers":true,
     "hide_output_from_viewers":true
    }
   }
  },
  {
   "cell_type":"code",
   "source":[
    "results_permutation = run_experiment(\n",
    "    models={\n",
    "        'Naive Bayes': GaussianNB(),\n",
    "        'Random Forest': RandomForestClassifier(random_state=24, max_depth=7),\n",
    "        'XGBoost': XGBClassifier(random_state=26),\n",
    "    },\n",
    "    selection_strategy=selection_strategy_permutation,\n",
    "    n_vars_values=[2, 3, 4, 5, 6, 7, 8, 9]\n",
    ")\n",
    "results_permutation.to_csv('results\/5_permutation.csv')"
   ],
   "execution_count":42,
   "outputs":[],
   "metadata":{
    "datalore":{
     "node_id":"srNB5Do4eKfGUNznEAT1LU",
     "type":"CODE",
     "hide_input_from_viewers":true,
     "hide_output_from_viewers":true
    }
   }
  },
  {
   "cell_type":"code",
   "source":[
    "results_permutation = pd.read_csv('results\/5_permutation.csv')"
   ],
   "execution_count":39,
   "outputs":[],
   "metadata":{
    "datalore":{
     "node_id":"NFyAwIKb6vCAYgmsEvAZP2",
     "type":"CODE",
     "hide_input_from_viewers":true,
     "hide_output_from_viewers":true
    }
   }
  },
  {
   "cell_type":"markdown",
   "source":[
    "Score in € (adaptive)"
   ],
   "attachments":{},
   "metadata":{
    "datalore":{
     "node_id":"i0fvBc67rxGhvOM4znqPl1",
     "type":"MD",
     "hide_input_from_viewers":true,
     "hide_output_from_viewers":true
    }
   }
  },
  {
   "cell_type":"code",
   "source":[
    "visualise_results(\n",
    "    results_permutation, \n",
    "    title='Permutation VI',\n",
    "    score='adaptive',\n",
    "    save_name='5_permutation',\n",
    ")"
   ],
   "execution_count":40,
   "outputs":[
    {
     "data":{
      "image\/png":"[encoded data removed]"
     },
     "metadata":{
      "image\/png":{}
     },
     "output_type":"display_data"
    }
   ],
   "metadata":{
    "datalore":{
     "node_id":"P4NSYOPZemy8KeW8m6IE41",
     "type":"CODE",
     "hide_input_from_viewers":true,
     "hide_output_from_viewers":true
    }
   }
  },
  {
   "cell_type":"markdown",
   "source":[
    "## 6. Correlation + Permutation VI"
   ],
   "attachments":{},
   "metadata":{
    "datalore":{
     "node_id":"0YoXbo9KU81a1C3bLOQIYC",
     "type":"MD",
     "hide_input_from_viewers":true,
     "hide_output_from_viewers":true
    }
   }
  },
  {
   "cell_type":"code",
   "source":[
    "def selection_strategy_corr_permutation(n_vars_values, x, y, model):\n",
    "    vars_for_each_n = []\n",
    "\n",
    "    vars_nocorr = select_vars_correlation(x, y)\n",
    "    vars_for_largest_n = select_vars_permutation(\n",
    "        x[vars_nocorr], y, model, top_n=np.max(n_vars_values), random_state=3)\n",
    "    \n",
    "    for n in n_vars_values:\n",
    "        vars_for_each_n.append(vars_for_largest_n[:n])\n",
    "\n",
    "    return vars_for_each_n"
   ],
   "execution_count":31,
   "outputs":[],
   "metadata":{
    "datalore":{
     "node_id":"kZe8MWOVurQ5u239dcss3W",
     "type":"CODE",
     "hide_input_from_viewers":true,
     "hide_output_from_viewers":true
    }
   }
  },
  {
   "cell_type":"code",
   "source":[
    "results_corr_permutation = run_experiment(\n",
    "    models={\n",
    "        'Naive Bayes': GaussianNB(),\n",
    "        'Random Forest': RandomForestClassifier(random_state=24, max_depth=7),\n",
    "        'XGBoost': XGBClassifier(random_state=26),\n",
    "    },\n",
    "    selection_strategy=selection_strategy_corr_permutation,\n",
    "    n_vars_values=[2, 3, 4, 5, 6, 7, 8, 9]\n",
    ")\n",
    "results_corr_permutation.to_csv('results\/6_corr_permutation.csv')"
   ],
   "execution_count":null,
   "outputs":[],
   "metadata":{
    "datalore":{
     "node_id":"mcjYDzcSw6VcaOZsAjURcR",
     "type":"CODE",
     "hide_input_from_viewers":true,
     "hide_output_from_viewers":true
    }
   }
  },
  {
   "cell_type":"code",
   "source":[
    "results_corr_permutation = pd.read_csv('results\/6_corr_permutation.csv')"
   ],
   "execution_count":41,
   "outputs":[],
   "metadata":{
    "datalore":{
     "node_id":"3Zn2zFMSquM2deBy79OalJ",
     "type":"CODE",
     "hide_input_from_viewers":true,
     "hide_output_from_viewers":true
    }
   }
  },
  {
   "cell_type":"markdown",
   "source":[
    "Score in € (adaptive)"
   ],
   "attachments":{},
   "metadata":{
    "datalore":{
     "node_id":"SxsvMvIC0J2rM95HLFH87o",
     "type":"MD",
     "hide_input_from_viewers":true,
     "hide_output_from_viewers":true
    }
   }
  },
  {
   "cell_type":"code",
   "source":[
    "visualise_results(\n",
    "    results_corr_permutation, \n",
    "    title='Correlation + Permutation VI',\n",
    "    score='adaptive',\n",
    "    save_name='6_corr_permutation',\n",
    ")"
   ],
   "execution_count":42,
   "outputs":[
    {
     "data":{
      "image\/png":"[encoded data removed]"
     },
     "metadata":{
      "image\/png":{}
     },
     "output_type":"display_data"
    }
   ],
   "metadata":{
    "datalore":{
     "node_id":"bZw8fFa6UqGgAt1YQVd56y",
     "type":"CODE",
     "hide_input_from_viewers":true,
     "hide_output_from_viewers":true
    }
   }
  },
  {
   "cell_type":"markdown",
   "source":[
    "## 7. Correlation + Permutation VI + Forward Selection\n",
    "\n",
    "Steps:\n",
    "1. Remove highly correlated variables\n",
    "2. Select top 15 variables using Permutation VI\n",
    "3. Select the best variables using forward selection"
   ],
   "attachments":{},
   "metadata":{
    "datalore":{
     "node_id":"zICWiXjeTNKdRjkB4nTVdO",
     "type":"MD",
     "hide_input_from_viewers":true,
     "hide_output_from_viewers":true
    }
   }
  },
  {
   "cell_type":"code",
   "source":[
    "def selection_strategy_corr_permutation_forward(n_vars_values, x, y, model):\n",
    "    vars_for_each_n = []\n",
    "\n",
    "    # step 1\n",
    "    vars_nocorr = select_vars_correlation(x, y)\n",
    "    # step 2\n",
    "    vars_rfvi = select_vars_permutation(\n",
    "        x[vars_nocorr], y, model, top_n=15, random_state=3)\n",
    "    # step 3\n",
    "    vars_for_largest_n = forward_selection(\n",
    "        x[vars_rfvi], y, model, np.max(n_vars_values), calculate_score_adaptive\n",
    "    )\n",
    "    \n",
    "    for n in n_vars_values:\n",
    "        vars_for_each_n.append(vars_for_largest_n[:n])\n",
    "\n",
    "    return vars_for_each_n"
   ],
   "execution_count":32,
   "outputs":[],
   "metadata":{
    "datalore":{
     "node_id":"lEYFy3zp50Jlx4rCQOq8tT",
     "type":"CODE",
     "hide_input_from_viewers":true,
     "hide_output_from_viewers":true
    }
   }
  },
  {
   "cell_type":"code",
   "source":[
    "results_corr_permutation_forward = run_experiment(\n",
    "    models={\n",
    "        'Naive Bayes': GaussianNB(),\n",
    "        'Random Forest': RandomForestClassifier(random_state=24, max_depth=7),\n",
    "        'XGBoost': XGBClassifier(random_state=26),\n",
    "    },\n",
    "    selection_strategy=selection_strategy_corr_permutation_forward,\n",
    "    n_vars_values=[2, 3, 4, 5, 6, 7, 8]\n",
    ")\n",
    "results_corr_permutation_forward.to_csv('results\/7_corr_permutation_forward.csv')"
   ],
   "execution_count":null,
   "outputs":[],
   "metadata":{
    "datalore":{
     "node_id":"CmrDCpq93niAndURPkVlIp",
     "type":"CODE",
     "hide_input_from_viewers":true,
     "hide_output_from_viewers":true
    }
   }
  },
  {
   "cell_type":"code",
   "source":[
    "results_corr_permutation_forward = pd.read_csv('results\/7_corr_permutation_forward.csv')"
   ],
   "execution_count":43,
   "outputs":[],
   "metadata":{
    "datalore":{
     "node_id":"N5qXFtv18416VvRMfM1UZ1",
     "type":"CODE",
     "hide_input_from_viewers":true,
     "hide_output_from_viewers":true
    }
   }
  },
  {
   "cell_type":"markdown",
   "source":[
    "Score in € (adaptive)"
   ],
   "attachments":{},
   "metadata":{
    "datalore":{
     "node_id":"nnSNcUBwtb0BydDFtR3oSj",
     "type":"MD",
     "hide_input_from_viewers":true,
     "hide_output_from_viewers":true
    }
   }
  },
  {
   "cell_type":"code",
   "source":[
    "visualise_results(\n",
    "    results_corr_permutation_forward, \n",
    "    title='Correlation + Permutation VI + Forward Selection',\n",
    "    save_name='7_corr_permutation_forward',\n",
    ")"
   ],
   "execution_count":44,
   "outputs":[
    {
     "data":{
      "image\/png":"[encoded data removed]"
     },
     "metadata":{
      "image\/png":{}
     },
     "output_type":"display_data"
    }
   ],
   "metadata":{
    "datalore":{
     "node_id":"eyD17S0rlDJ0m3TIGIR53H",
     "type":"CODE",
     "hide_input_from_viewers":true,
     "hide_output_from_viewers":true
    }
   }
  },
  {
   "cell_type":"markdown",
   "source":[
    "## 8. Correlation + Permutation VI + Backward Elimination\n",
    "\n",
    "Steps:\n",
    "1. Remove highly correlated variables\n",
    "2. Select top 15 variables using Permutation VI\n",
    "3. Select the best variables using backward elimination"
   ],
   "attachments":{},
   "metadata":{
    "datalore":{
     "node_id":"SCQm3iHmPSFAETwNMi6fo4",
     "type":"MD",
     "hide_input_from_viewers":true,
     "hide_output_from_viewers":true
    }
   }
  },
  {
   "cell_type":"code",
   "source":[
    "def selection_strategy_corr_permutation_backward(n_vars_values, x, y, model):\n",
    "    vars_for_each_n = []\n",
    "\n",
    "    # step 1\n",
    "    vars_nocorr = select_vars_correlation(x, y)\n",
    "    # step 2\n",
    "    vars_rfvi = select_vars_permutation(\n",
    "        x[vars_nocorr], y, model, top_n=15, random_state=3)\n",
    "    # step 3\n",
    "    vars_for_largest_n = backward_elimination(\n",
    "        x[vars_rfvi], y, model, np.max(n_vars_values)\n",
    "    )\n",
    "    \n",
    "    for n in n_vars_values:\n",
    "        vars_for_each_n.append(vars_for_largest_n[:n])\n",
    "\n",
    "    return vars_for_each_n"
   ],
   "execution_count":33,
   "outputs":[],
   "metadata":{
    "datalore":{
     "node_id":"0Hey4oOV1C7SLTczcFgHMn",
     "type":"CODE",
     "hide_input_from_viewers":true,
     "hide_output_from_viewers":true
    }
   }
  },
  {
   "cell_type":"code",
   "source":[
    "results_corr_permutation_backward = run_experiment(\n",
    "    models={\n",
    "        'Naive Bayes': GaussianNB(),\n",
    "        'Random Forest': RandomForestClassifier(random_state=24, max_depth=7),\n",
    "        'XGBoost': XGBClassifier(random_state=26),\n",
    "    },\n",
    "    selection_strategy=selection_strategy_corr_permutation_backward,\n",
    "    n_vars_values=[2, 3, 4, 5, 6, 7, 8]\n",
    ")\n",
    "results_corr_permutation_backward.to_csv('results\/8_corr_permutation_backward.csv')"
   ],
   "execution_count":null,
   "outputs":[],
   "metadata":{
    "datalore":{
     "node_id":"gPjD5l4l1ZoX8DkgWMiK4E",
     "type":"CODE",
     "hide_input_from_viewers":true,
     "hide_output_from_viewers":true
    }
   }
  },
  {
   "cell_type":"code",
   "source":[
    "results_corr_permutation_backward = pd.read_csv('results\/8_corr_permutation_backward.csv')"
   ],
   "execution_count":45,
   "outputs":[],
   "metadata":{
    "datalore":{
     "node_id":"VP8QFhJdCYbl4mPkUBs6rt",
     "type":"CODE",
     "hide_input_from_viewers":true,
     "hide_output_from_viewers":true
    }
   }
  },
  {
   "cell_type":"markdown",
   "source":[
    "Score in € (adaptive)"
   ],
   "attachments":{},
   "metadata":{
    "datalore":{
     "node_id":"cpUZXuuuuIuKBzoQj5meVl",
     "type":"MD",
     "hide_input_from_viewers":true,
     "hide_output_from_viewers":true
    }
   }
  },
  {
   "cell_type":"code",
   "source":[
    "visualise_results(\n",
    "    results_corr_permutation_backward, \n",
    "    title='Correlation + Permutation VI + Backward Elimination',\n",
    "    save_name='8_corr_permutation_backward',\n",
    ")"
   ],
   "execution_count":46,
   "outputs":[
    {
     "data":{
      "image\/png":"[encoded data removed]"
     },
     "metadata":{
      "image\/png":{}
     },
     "output_type":"display_data"
    }
   ],
   "metadata":{
    "datalore":{
     "node_id":"NFBDtgzVMc5uy86UFX426N",
     "type":"CODE",
     "hide_input_from_viewers":true,
     "hide_output_from_viewers":true
    }
   }
  },
  {
   "cell_type":"markdown",
   "source":[
    "### Choosing the best strategies for each model"
   ],
   "attachments":{},
   "metadata":{
    "datalore":{
     "node_id":"FtXLcpJNz5UjDXOjIW66Ke",
     "type":"MD",
     "hide_input_from_viewers":true,
     "hide_output_from_viewers":true
    }
   }
  },
  {
   "cell_type":"code",
   "source":[
    "result_files = os.listdir('results')\n",
    "\n",
    "results_full = pd.DataFrame(columns=['Model', 'Number of variables', 'Score', 'Strategy'])\n",
    "\n",
    "for file_name in result_files:\n",
    "    file = pd.read_csv('results\/'+file_name)[['Model', 'Number of variables', 'Score (adaptive)']]\n",
    "    file.columns = ['Model','Number of variables','Score']\n",
    "    file['Strategy'] = file_name\n",
    "    results_full = pd.concat([file, results_full])\n",
    "\n",
    "# average scores across CV splits\n",
    "results_full = results_full\\\n",
    "    .groupby(['Model', 'Number of variables', 'Strategy'])\\\n",
    "    .mean()\\\n",
    "    .reset_index()"
   ],
   "execution_count":47,
   "outputs":[],
   "metadata":{
    "datalore":{
     "node_id":"8AOGiBdBH69XL7NbAkrOlK",
     "type":"CODE",
     "hide_input_from_viewers":true,
     "hide_output_from_viewers":true
    }
   }
  },
  {
   "cell_type":"code",
   "source":[
    "results_full"
   ],
   "execution_count":48,
   "outputs":[
    {
     "data":{
      "text\/html":[
       "<div>\n",
       "<style scoped>\n",
       "    .dataframe tbody tr th:only-of-type {\n",
       "        vertical-align: middle;\n",
       "    }\n",
       "\n",
       "    .dataframe tbody tr th {\n",
       "        vertical-align: top;\n",
       "    }\n",
       "\n",
       "    .dataframe thead th {\n",
       "        text-align: right;\n",
       "    }\n",
       "<\/style>\n",
       "<table border=\"1\" class=\"dataframe\">\n",
       "  <thead>\n",
       "    <tr style=\"text-align: right;\">\n",
       "      <th><\/th>\n",
       "      <th>Model<\/th>\n",
       "      <th>Number of variables<\/th>\n",
       "      <th>Strategy<\/th>\n",
       "      <th>Score<\/th>\n",
       "    <\/tr>\n",
       "  <\/thead>\n",
       "  <tbody>\n",
       "    <tr>\n",
       "      <th>0<\/th>\n",
       "      <td>Logistic Regression<\/td>\n",
       "      <td>2<\/td>\n",
       "      <td>1_anova.csv<\/td>\n",
       "      <td>5090.0<\/td>\n",
       "    <\/tr>\n",
       "    <tr>\n",
       "      <th>1<\/th>\n",
       "      <td>Logistic Regression<\/td>\n",
       "      <td>2<\/td>\n",
       "      <td>2_corr_anova.csv<\/td>\n",
       "      <td>5120.0<\/td>\n",
       "    <\/tr>\n",
       "    <tr>\n",
       "      <th>2<\/th>\n",
       "      <td>Logistic Regression<\/td>\n",
       "      <td>2<\/td>\n",
       "      <td>3_corr_anova_forward.csv<\/td>\n",
       "      <td>5070.0<\/td>\n",
       "    <\/tr>\n",
       "    <tr>\n",
       "      <th>3<\/th>\n",
       "      <td>Logistic Regression<\/td>\n",
       "      <td>3<\/td>\n",
       "      <td>1_anova.csv<\/td>\n",
       "      <td>5090.0<\/td>\n",
       "    <\/tr>\n",
       "    <tr>\n",
       "      <th>4<\/th>\n",
       "      <td>Logistic Regression<\/td>\n",
       "      <td>3<\/td>\n",
       "      <td>2_corr_anova.csv<\/td>\n",
       "      <td>4960.0<\/td>\n",
       "    <\/tr>\n",
       "    <tr>\n",
       "      <th>...<\/th>\n",
       "      <td>...<\/td>\n",
       "      <td>...<\/td>\n",
       "      <td>...<\/td>\n",
       "      <td>...<\/td>\n",
       "    <\/tr>\n",
       "    <tr>\n",
       "      <th>184<\/th>\n",
       "      <td>XGBoost<\/td>\n",
       "      <td>8<\/td>\n",
       "      <td>8_corr_permutation_backward.csv<\/td>\n",
       "      <td>3190.0<\/td>\n",
       "    <\/tr>\n",
       "    <tr>\n",
       "      <th>185<\/th>\n",
       "      <td>XGBoost<\/td>\n",
       "      <td>9<\/td>\n",
       "      <td>1_anova.csv<\/td>\n",
       "      <td>3200.0<\/td>\n",
       "    <\/tr>\n",
       "    <tr>\n",
       "      <th>186<\/th>\n",
       "      <td>XGBoost<\/td>\n",
       "      <td>9<\/td>\n",
       "      <td>2_corr_anova.csv<\/td>\n",
       "      <td>3460.0<\/td>\n",
       "    <\/tr>\n",
       "    <tr>\n",
       "      <th>187<\/th>\n",
       "      <td>XGBoost<\/td>\n",
       "      <td>9<\/td>\n",
       "      <td>5_permutation.csv<\/td>\n",
       "      <td>5550.0<\/td>\n",
       "    <\/tr>\n",
       "    <tr>\n",
       "      <th>188<\/th>\n",
       "      <td>XGBoost<\/td>\n",
       "      <td>9<\/td>\n",
       "      <td>6_corr_permutation.csv<\/td>\n",
       "      <td>5640.0<\/td>\n",
       "    <\/tr>\n",
       "  <\/tbody>\n",
       "<\/table>\n",
       "<p>189 rows × 4 columns<\/p>\n",
       "<\/div>"
      ]
     },
     "metadata":{},
     "output_type":"display_data"
    }
   ],
   "metadata":{
    "datalore":{
     "node_id":"2L0aKsvRon8C7FWZE8ZPxE",
     "type":"CODE",
     "hide_input_from_viewers":true,
     "hide_output_from_viewers":true
    }
   }
  },
  {
   "cell_type":"code",
   "source":[
    "def show_results_for_model(model_name: str, save_name: Optional[str] = None):\n",
    "\n",
    "    results_model = results_full[results_full['Model'] == model_name]\n",
    "    strategies_ids = results_model['Strategy'].map(lambda s: s[0])\n",
    "\n",
    "    plt.figure(figsize=(8, 6))\n",
    "    sns.boxplot(results_model, x=strategies_ids, y='Score')\n",
    "    plt.xlabel('Strategy ID')\n",
    "    plt.grid(axis='y')\n",
    "\n",
    "    if save_name is not None:\n",
    "        plt.savefig(f'plots\/{save_name}.png')\n",
    "    plt.show()"
   ],
   "execution_count":54,
   "outputs":[],
   "metadata":{
    "datalore":{
     "node_id":"DnVIyTKjZ0RQFuVbeOfYJf",
     "type":"CODE",
     "hide_input_from_viewers":true,
     "hide_output_from_viewers":true
    }
   }
  },
  {
   "cell_type":"code",
   "source":[
    "show_results_for_model('Logistic Regression', save_name='strategies_lr')"
   ],
   "execution_count":55,
   "outputs":[
    {
     "data":{
      "image\/png":"[encoded data removed]"
     },
     "metadata":{
      "image\/png":{}
     },
     "output_type":"display_data"
    }
   ],
   "metadata":{
    "datalore":{
     "node_id":"5lV4VwFrXHkpkbXMiyz8Ja",
     "type":"CODE",
     "hide_input_from_viewers":true,
     "hide_output_from_viewers":true
    }
   }
  },
  {
   "cell_type":"code",
   "source":[
    "show_results_for_model('Naive Bayes', save_name='strategies_nb')"
   ],
   "execution_count":56,
   "outputs":[
    {
     "data":{
      "image\/png":"[encoded data removed]"
     },
     "metadata":{
      "image\/png":{}
     },
     "output_type":"display_data"
    }
   ],
   "metadata":{
    "datalore":{
     "node_id":"NFW79aleb3ouzxK2VuQEE0",
     "type":"CODE",
     "hide_input_from_viewers":true,
     "hide_output_from_viewers":true
    }
   }
  },
  {
   "cell_type":"code",
   "source":[
    "show_results_for_model('Random Forest', save_name='strategies_rf')"
   ],
   "execution_count":57,
   "outputs":[
    {
     "data":{
      "image\/png":"[encoded data removed]"
     },
     "metadata":{
      "image\/png":{}
     },
     "output_type":"display_data"
    }
   ],
   "metadata":{
    "datalore":{
     "node_id":"1hAUCaIO7aD4BqSOwH7TYK",
     "type":"CODE",
     "hide_input_from_viewers":true,
     "hide_output_from_viewers":true
    }
   }
  },
  {
   "cell_type":"code",
   "source":[
    "show_results_for_model('XGBoost', save_name='strategies_xgb')"
   ],
   "execution_count":58,
   "outputs":[
    {
     "data":{
      "image\/png":"[encoded data removed]"
     },
     "metadata":{
      "image\/png":{}
     },
     "output_type":"display_data"
    }
   ],
   "metadata":{
    "datalore":{
     "node_id":"LFpHsdB7I2Es95aImDPuB5",
     "type":"CODE",
     "hide_input_from_viewers":true,
     "hide_output_from_viewers":true
    }
   }
  },
  {
   "cell_type":"markdown",
   "source":[
    "## Bayesian Optimization for best models"
   ],
   "attachments":{},
   "metadata":{
    "datalore":{
     "node_id":"BVjVpC4SSWqACgKmHMlBZB",
     "type":"MD",
     "hide_input_from_viewers":true,
     "hide_output_from_viewers":true
    }
   }
  },
  {
   "cell_type":"code",
   "source":[
    "from sklearn.model_selection import train_test_split\n",
    "from bayes_opt import BayesianOptimization"
   ],
   "execution_count":31,
   "outputs":[],
   "metadata":{
    "datalore":{
     "node_id":"335s9SUiO7vB4a2xVUpIzC",
     "type":"CODE",
     "hide_input_from_viewers":true,
     "hide_output_from_viewers":true
    }
   }
  },
  {
   "cell_type":"markdown",
   "source":[
    "### Logistic Regresion + Correlation + ANOVA"
   ],
   "attachments":{},
   "metadata":{
    "datalore":{
     "node_id":"f1McsSHCvV7E3nxwohVniH",
     "type":"MD",
     "hide_input_from_viewers":true,
     "hide_output_from_viewers":true
    }
   }
  },
  {
   "cell_type":"code",
   "source":[
    "X_train = x_train.copy()\n",
    "Y_train = y_train.copy()\n",
    "\n",
    "def objective_function_LR(n, C):\n",
    "    n = int(n)\n",
    "    vars_nocorr = select_vars_correlation(X_train, Y_train)\n",
    "    selected_vars = select_vars_anova(X_train[vars_nocorr], Y_train, n)\n",
    "    model = LogisticRegression(random_state=28, C=C)\n",
    "    score_adaptive = train_cv(model, X_train[selected_vars], Y_train, 5, calculate_score_adaptive)\n",
    "    return score_adaptive\n",
    "\n",
    "pbounds = {\n",
    "    'n': (1, 10),  \n",
    "    'C': (0.0000000001, 100)\n",
    "}\n",
    "optimizer = BayesianOptimization(\n",
    "    f=objective_function_LR,\n",
    "    pbounds=pbounds,\n",
    "    random_state=42\n",
    ")\n",
    "optimizer.maximize(\n",
    "    init_points=10,\n",
    "    n_iter=100\n",
    "\n",
    ")\n",
    "\n",
    "best_hyperparams_lr = optimizer.max['params']\n",
    "accuracy_lr = optimizer.max['target']"
   ],
   "execution_count":27,
   "outputs":[
    {
     "name":"stdout",
     "text":[
      "|   iter    |  target   |     C     |     n     |\n",
      "-------------------------------------------------\n",
      "| \u001b[0m1        \u001b[0m | \u001b[0m3.82e+03 \u001b[0m | \u001b[0m37.45    \u001b[0m | \u001b[0m9.556    \u001b[0m |\n",
      "| \u001b[95m2        \u001b[0m | \u001b[95m4.44e+03 \u001b[0m | \u001b[95m73.2     \u001b[0m | \u001b[95m6.388    \u001b[0m |\n",
      "| \u001b[95m3        \u001b[0m | \u001b[95m5.14e+03 \u001b[0m | \u001b[95m15.6     \u001b[0m | \u001b[95m2.404    \u001b[0m |\n",
      "| \u001b[0m4        \u001b[0m | \u001b[0m4.12e+03 \u001b[0m | \u001b[0m5.808    \u001b[0m | \u001b[0m8.796    \u001b[0m |\n",
      "| \u001b[0m5        \u001b[0m | \u001b[0m4.34e+03 \u001b[0m | \u001b[0m60.11    \u001b[0m | \u001b[0m7.373    \u001b[0m |\n",
      "| \u001b[0m6        \u001b[0m | \u001b[0m3.82e+03 \u001b[0m | \u001b[0m2.058    \u001b[0m | \u001b[0m9.729    \u001b[0m |\n",
      "| \u001b[0m7        \u001b[0m | \u001b[0m5.14e+03 \u001b[0m | \u001b[0m83.24    \u001b[0m | \u001b[0m2.911    \u001b[0m |\n",
      "| \u001b[0m8        \u001b[0m | \u001b[0m5.14e+03 \u001b[0m | \u001b[0m18.18    \u001b[0m | \u001b[0m2.651    \u001b[0m |\n",
      "| \u001b[0m9        \u001b[0m | \u001b[0m4.56e+03 \u001b[0m | \u001b[0m30.42    \u001b[0m | \u001b[0m5.723    \u001b[0m |\n",
      "| \u001b[0m10       \u001b[0m | \u001b[0m4.98e+03 \u001b[0m | \u001b[0m43.19    \u001b[0m | \u001b[0m3.621    \u001b[0m |\n",
      "| \u001b[0m11       \u001b[0m | \u001b[0m5e+03    \u001b[0m | \u001b[0m88.97    \u001b[0m | \u001b[0m1.0      \u001b[0m |\n",
      "| \u001b[0m12       \u001b[0m | \u001b[0m3.82e+03 \u001b[0m | \u001b[0m87.21    \u001b[0m | \u001b[0m9.162    \u001b[0m |\n",
      "| \u001b[0m13       \u001b[0m | \u001b[0m4.34e+03 \u001b[0m | \u001b[0m16.73    \u001b[0m | \u001b[0m7.137    \u001b[0m |\n",
      "| \u001b[0m14       \u001b[0m | \u001b[0m5e+03    \u001b[0m | \u001b[0m80.17    \u001b[0m | \u001b[0m1.0      \u001b[0m |\n",
      "| \u001b[0m15       \u001b[0m | \u001b[0m5e+03    \u001b[0m | \u001b[0m47.53    \u001b[0m | \u001b[0m1.0      \u001b[0m |\n",
      "| \u001b[0m16       \u001b[0m | \u001b[0m5e+03    \u001b[0m | \u001b[0m23.41    \u001b[0m | \u001b[0m1.059    \u001b[0m |\n",
      "| \u001b[0m17       \u001b[0m | \u001b[0m4.35e+03 \u001b[0m | \u001b[0m49.05    \u001b[0m | \u001b[0m7.101    \u001b[0m |\n",
      "| \u001b[0m18       \u001b[0m | \u001b[0m5e+03    \u001b[0m | \u001b[0m96.62    \u001b[0m | \u001b[0m1.0      \u001b[0m |\n",
      "| \u001b[0m19       \u001b[0m | \u001b[0m4.44e+03 \u001b[0m | \u001b[0m100.0    \u001b[0m | \u001b[0m6.388    \u001b[0m |\n",
      "| \u001b[0m20       \u001b[0m | \u001b[0m5e+03    \u001b[0m | \u001b[0m10.52    \u001b[0m | \u001b[0m1.0      \u001b[0m |\n",
      "| \u001b[0m21       \u001b[0m | \u001b[0m5e+03    \u001b[0m | \u001b[0m39.26    \u001b[0m | \u001b[0m1.0      \u001b[0m |\n",
      "| \u001b[0m22       \u001b[0m | \u001b[0m5e+03    \u001b[0m | \u001b[0m84.57    \u001b[0m | \u001b[0m1.018    \u001b[0m |\n",
      "| \u001b[0m23       \u001b[0m | \u001b[0m5e+03    \u001b[0m | \u001b[0m54.56    \u001b[0m | \u001b[0m1.0      \u001b[0m |\n",
      "| \u001b[0m24       \u001b[0m | \u001b[0m5e+03    \u001b[0m | \u001b[0m65.24    \u001b[0m | \u001b[0m1.0      \u001b[0m |\n",
      "| \u001b[0m25       \u001b[0m | \u001b[0m5e+03    \u001b[0m | \u001b[0m59.9     \u001b[0m | \u001b[0m1.114    \u001b[0m |\n",
      "| \u001b[0m26       \u001b[0m | \u001b[0m5e+03    \u001b[0m | \u001b[0m1e-10    \u001b[0m | \u001b[0m1.0      \u001b[0m |\n",
      "| \u001b[0m27       \u001b[0m | \u001b[0m5e+03    \u001b[0m | \u001b[0m5.154    \u001b[0m | \u001b[0m1.217    \u001b[0m |\n",
      "| \u001b[0m28       \u001b[0m | \u001b[0m3.55e+03 \u001b[0m | \u001b[0m24.84    \u001b[0m | \u001b[0m10.0     \u001b[0m |\n",
      "| \u001b[0m29       \u001b[0m | \u001b[0m5e+03    \u001b[0m | \u001b[0m31.78    \u001b[0m | \u001b[0m1.0      \u001b[0m |\n",
      "| \u001b[0m30       \u001b[0m | \u001b[0m5e+03    \u001b[0m | \u001b[0m17.76    \u001b[0m | \u001b[0m1.0      \u001b[0m |\n",
      "| \u001b[0m31       \u001b[0m | \u001b[0m5e+03    \u001b[0m | \u001b[0m70.15    \u001b[0m | \u001b[0m1.05     \u001b[0m |\n",
      "| \u001b[0m32       \u001b[0m | \u001b[0m4.56e+03 \u001b[0m | \u001b[0m79.89    \u001b[0m | \u001b[0m5.765    \u001b[0m |\n",
      "| \u001b[0m33       \u001b[0m | \u001b[0m5e+03    \u001b[0m | \u001b[0m93.23    \u001b[0m | \u001b[0m1.3      \u001b[0m |\n",
      "| \u001b[0m34       \u001b[0m | \u001b[0m5e+03    \u001b[0m | \u001b[0m27.72    \u001b[0m | \u001b[0m1.0      \u001b[0m |\n",
      "| \u001b[0m35       \u001b[0m | \u001b[0m5e+03    \u001b[0m | \u001b[0m43.42    \u001b[0m | \u001b[0m1.0      \u001b[0m |\n",
      "| \u001b[0m36       \u001b[0m | \u001b[0m3.82e+03 \u001b[0m | \u001b[0m67.25    \u001b[0m | \u001b[0m9.867    \u001b[0m |\n",
      "| \u001b[0m37       \u001b[0m | \u001b[0m5e+03    \u001b[0m | \u001b[0m74.62    \u001b[0m | \u001b[0m1.126    \u001b[0m |\n",
      "| \u001b[0m38       \u001b[0m | \u001b[0m5e+03    \u001b[0m | \u001b[0m100.0    \u001b[0m | \u001b[0m1.0      \u001b[0m |\n",
      "| \u001b[0m39       \u001b[0m | \u001b[0m4.75e+03 \u001b[0m | \u001b[0m11.5     \u001b[0m | \u001b[0m4.246    \u001b[0m |\n",
      "| \u001b[0m40       \u001b[0m | \u001b[0m5e+03    \u001b[0m | \u001b[0m35.52    \u001b[0m | \u001b[0m1.0      \u001b[0m |\n",
      "| \u001b[0m41       \u001b[0m | \u001b[0m5e+03    \u001b[0m | \u001b[0m51.04    \u001b[0m | \u001b[0m1.066    \u001b[0m |\n",
      "| \u001b[0m42       \u001b[0m | \u001b[0m5e+03    \u001b[0m | \u001b[0m13.62    \u001b[0m | \u001b[0m1.0      \u001b[0m |\n",
      "| \u001b[0m43       \u001b[0m | \u001b[0m4.98e+03 \u001b[0m | \u001b[0m85.9     \u001b[0m | \u001b[0m3.278    \u001b[0m |\n",
      "| \u001b[0m44       \u001b[0m | \u001b[0m4.97e+03 \u001b[0m | \u001b[0m20.96    \u001b[0m | \u001b[0m3.015    \u001b[0m |\n",
      "| \u001b[0m45       \u001b[0m | \u001b[0m5e+03    \u001b[0m | \u001b[0m7.684    \u001b[0m | \u001b[0m1.0      \u001b[0m |\n",
      "| \u001b[0m46       \u001b[0m | \u001b[0m5e+03    \u001b[0m | \u001b[0m2.396    \u001b[0m | \u001b[0m1.0      \u001b[0m |\n",
      "| \u001b[0m47       \u001b[0m | \u001b[0m5e+03    \u001b[0m | \u001b[0m62.54    \u001b[0m | \u001b[0m1.0      \u001b[0m |\n",
      "| \u001b[0m48       \u001b[0m | \u001b[0m4.97e+03 \u001b[0m | \u001b[0m16.81    \u001b[0m | \u001b[0m3.236    \u001b[0m |\n",
      "| \u001b[0m49       \u001b[0m | \u001b[0m4.56e+03 \u001b[0m | \u001b[0m93.83    \u001b[0m | \u001b[0m5.052    \u001b[0m |\n",
      "| \u001b[0m50       \u001b[0m | \u001b[0m4.75e+03 \u001b[0m | \u001b[0m54.93    \u001b[0m | \u001b[0m4.315    \u001b[0m |\n",
      "| \u001b[0m51       \u001b[0m | \u001b[0m3.55e+03 \u001b[0m | \u001b[0m54.67    \u001b[0m | \u001b[0m10.0     \u001b[0m |\n",
      "| \u001b[0m52       \u001b[0m | \u001b[0m4.62e+03 \u001b[0m | \u001b[0m1e-10    \u001b[0m | \u001b[0m3.802    \u001b[0m |\n",
      "| \u001b[0m53       \u001b[0m | \u001b[0m4.98e+03 \u001b[0m | \u001b[0m46.25    \u001b[0m | \u001b[0m3.476    \u001b[0m |\n",
      "| \u001b[0m54       \u001b[0m | \u001b[0m4.98e+03 \u001b[0m | \u001b[0m63.81    \u001b[0m | \u001b[0m3.628    \u001b[0m |\n",
      "| \u001b[0m55       \u001b[0m | \u001b[0m4.98e+03 \u001b[0m | \u001b[0m67.83    \u001b[0m | \u001b[0m3.358    \u001b[0m |\n",
      "| \u001b[0m56       \u001b[0m | \u001b[0m5e+03    \u001b[0m | \u001b[0m20.25    \u001b[0m | \u001b[0m1.19     \u001b[0m |\n",
      "| \u001b[0m57       \u001b[0m | \u001b[0m4.98e+03 \u001b[0m | \u001b[0m37.46    \u001b[0m | \u001b[0m3.384    \u001b[0m |\n",
      "| \u001b[0m58       \u001b[0m | \u001b[0m4.97e+03 \u001b[0m | \u001b[0m33.88    \u001b[0m | \u001b[0m3.303    \u001b[0m |\n",
      "| \u001b[0m59       \u001b[0m | \u001b[0m5e+03    \u001b[0m | \u001b[0m77.25    \u001b[0m | \u001b[0m1.0      \u001b[0m |\n",
      "| \u001b[0m60       \u001b[0m | \u001b[0m5e+03    \u001b[0m | \u001b[0m57.17    \u001b[0m | \u001b[0m1.0      \u001b[0m |\n",
      "| \u001b[0m61       \u001b[0m | \u001b[0m4.98e+03 \u001b[0m | \u001b[0m59.71    \u001b[0m | \u001b[0m3.386    \u001b[0m |\n",
      "| \u001b[0m62       \u001b[0m | \u001b[0m5e+03    \u001b[0m | \u001b[0m67.65    \u001b[0m | \u001b[0m1.015    \u001b[0m |\n",
      "| \u001b[0m63       \u001b[0m | \u001b[0m4.98e+03 \u001b[0m | \u001b[0m40.44    \u001b[0m | \u001b[0m3.032    \u001b[0m |\n",
      "| \u001b[0m64       \u001b[0m | \u001b[0m5.14e+03 \u001b[0m | \u001b[0m81.63    \u001b[0m | \u001b[0m2.772    \u001b[0m |\n",
      "| \u001b[0m65       \u001b[0m | \u001b[0m5e+03    \u001b[0m | \u001b[0m82.47    \u001b[0m | \u001b[0m1.875    \u001b[0m |\n",
      "| \u001b[0m66       \u001b[0m | \u001b[0m4.75e+03 \u001b[0m | \u001b[0m82.86    \u001b[0m | \u001b[0m4.325    \u001b[0m |\n",
      "| \u001b[0m67       \u001b[0m | \u001b[0m4.98e+03 \u001b[0m | \u001b[0m78.62    \u001b[0m | \u001b[0m3.044    \u001b[0m |\n",
      "| \u001b[0m68       \u001b[0m | \u001b[0m3.55e+03 \u001b[0m | \u001b[0m44.45    \u001b[0m | \u001b[0m10.0     \u001b[0m |\n",
      "| \u001b[0m69       \u001b[0m | \u001b[0m3.55e+03 \u001b[0m | \u001b[0m96.07    \u001b[0m | \u001b[0m10.0     \u001b[0m |\n",
      "| \u001b[0m70       \u001b[0m | \u001b[0m3.83e+03 \u001b[0m | \u001b[0m11.24    \u001b[0m | \u001b[0m9.953    \u001b[0m |\n",
      "| \u001b[0m71       \u001b[0m | \u001b[0m4.98e+03 \u001b[0m | \u001b[0m49.96    \u001b[0m | \u001b[0m3.187    \u001b[0m |\n",
      "| \u001b[0m72       \u001b[0m | \u001b[0m4.97e+03 \u001b[0m | \u001b[0m6.918    \u001b[0m | \u001b[0m3.596    \u001b[0m |\n",
      "| \u001b[0m73       \u001b[0m | \u001b[0m5.14e+03 \u001b[0m | \u001b[0m25.77    \u001b[0m | \u001b[0m2.968    \u001b[0m |\n",
      "| \u001b[0m74       \u001b[0m | \u001b[0m4.97e+03 \u001b[0m | \u001b[0m28.14    \u001b[0m | \u001b[0m3.159    \u001b[0m |\n",
      "| \u001b[0m75       \u001b[0m | \u001b[0m3.55e+03 \u001b[0m | \u001b[0m76.81    \u001b[0m | \u001b[0m10.0     \u001b[0m |\n",
      "| \u001b[0m76       \u001b[0m | \u001b[0m4.98e+03 \u001b[0m | \u001b[0m71.88    \u001b[0m | \u001b[0m3.035    \u001b[0m |\n",
      "| \u001b[0m77       \u001b[0m | \u001b[0m4.98e+03 \u001b[0m | \u001b[0m90.48    \u001b[0m | \u001b[0m3.042    \u001b[0m |\n",
      "| \u001b[0m78       \u001b[0m | \u001b[0m5e+03    \u001b[0m | \u001b[0m25.71    \u001b[0m | \u001b[0m1.112    \u001b[0m |\n",
      "| \u001b[0m79       \u001b[0m | \u001b[0m5.14e+03 \u001b[0m | \u001b[0m98.4     \u001b[0m | \u001b[0m2.823    \u001b[0m |\n",
      "| \u001b[0m80       \u001b[0m | \u001b[0m4.98e+03 \u001b[0m | \u001b[0m99.97    \u001b[0m | \u001b[0m3.177    \u001b[0m |\n",
      "| \u001b[0m81       \u001b[0m | \u001b[0m4.97e+03 \u001b[0m | \u001b[0m24.27    \u001b[0m | \u001b[0m3.86     \u001b[0m |\n",
      "| \u001b[0m82       \u001b[0m | \u001b[0m5.14e+03 \u001b[0m | \u001b[0m96.51    \u001b[0m | \u001b[0m2.964    \u001b[0m |\n",
      "| \u001b[0m83       \u001b[0m | \u001b[0m5e+03    \u001b[0m | \u001b[0m86.62    \u001b[0m | \u001b[0m1.48     \u001b[0m |\n",
      "| \u001b[0m84       \u001b[0m | \u001b[0m5.14e+03 \u001b[0m | \u001b[0m14.16    \u001b[0m | \u001b[0m2.74     \u001b[0m |\n",
      "| \u001b[0m85       \u001b[0m | \u001b[0m5e+03    \u001b[0m | \u001b[0m91.14    \u001b[0m | \u001b[0m1.0      \u001b[0m |\n",
      "| \u001b[0m86       \u001b[0m | \u001b[0m4.99e+03 \u001b[0m | \u001b[0m4.129    \u001b[0m | \u001b[0m3.356    \u001b[0m |\n",
      "| \u001b[0m87       \u001b[0m | \u001b[0m5e+03    \u001b[0m | \u001b[0m72.45    \u001b[0m | \u001b[0m1.0      \u001b[0m |\n",
      "| \u001b[0m88       \u001b[0m | \u001b[0m5.14e+03 \u001b[0m | \u001b[0m52.64    \u001b[0m | \u001b[0m2.526    \u001b[0m |\n",
      "| \u001b[0m89       \u001b[0m | \u001b[0m5e+03    \u001b[0m | \u001b[0m45.44    \u001b[0m | \u001b[0m1.831    \u001b[0m |\n",
      "| \u001b[0m90       \u001b[0m | \u001b[0m5.14e+03 \u001b[0m | \u001b[0m84.46    \u001b[0m | \u001b[0m2.46     \u001b[0m |\n",
      "| \u001b[0m91       \u001b[0m | \u001b[0m5.14e+03 \u001b[0m | \u001b[0m80.31    \u001b[0m | \u001b[0m2.778    \u001b[0m |\n",
      "| \u001b[0m92       \u001b[0m | \u001b[0m4.98e+03 \u001b[0m | \u001b[0m97.49    \u001b[0m | \u001b[0m3.685    \u001b[0m |\n",
      "| \u001b[0m93       \u001b[0m | \u001b[0m5.14e+03 \u001b[0m | \u001b[0m97.71    \u001b[0m | \u001b[0m2.058    \u001b[0m |\n",
      "| \u001b[0m94       \u001b[0m | \u001b[0m5.14e+03 \u001b[0m | \u001b[0m94.98    \u001b[0m | \u001b[0m2.406    \u001b[0m |\n",
      "| \u001b[0m95       \u001b[0m | \u001b[0m5.14e+03 \u001b[0m | \u001b[0m61.8     \u001b[0m | \u001b[0m2.841    \u001b[0m |\n",
      "| \u001b[0m96       \u001b[0m | \u001b[0m4.98e+03 \u001b[0m | \u001b[0m52.25    \u001b[0m | \u001b[0m3.738    \u001b[0m |\n",
      "| \u001b[0m97       \u001b[0m | \u001b[0m5.14e+03 \u001b[0m | \u001b[0m24.58    \u001b[0m | \u001b[0m2.481    \u001b[0m |\n",
      "| \u001b[0m98       \u001b[0m | \u001b[0m5.14e+03 \u001b[0m | \u001b[0m19.13    \u001b[0m | \u001b[0m2.163    \u001b[0m |\n",
      "| \u001b[0m99       \u001b[0m | \u001b[0m5e+03    \u001b[0m | \u001b[0m41.35    \u001b[0m | \u001b[0m1.0      \u001b[0m |\n",
      "| \u001b[0m100      \u001b[0m | \u001b[0m5e+03    \u001b[0m | \u001b[0m14.86    \u001b[0m | \u001b[0m1.86     \u001b[0m |\n",
      "| \u001b[0m101      \u001b[0m | \u001b[0m5.14e+03 \u001b[0m | \u001b[0m12.36    \u001b[0m | \u001b[0m2.101    \u001b[0m |\n",
      "| \u001b[0m102      \u001b[0m | \u001b[0m4.98e+03 \u001b[0m | \u001b[0m75.18    \u001b[0m | \u001b[0m3.128    \u001b[0m |\n",
      "| \u001b[0m103      \u001b[0m | \u001b[0m5.14e+03 \u001b[0m | \u001b[0m30.75    \u001b[0m | \u001b[0m2.58     \u001b[0m |\n",
      "| \u001b[0m104      \u001b[0m | \u001b[0m5e+03    \u001b[0m | \u001b[0m29.63    \u001b[0m | \u001b[0m1.324    \u001b[0m |\n",
      "| \u001b[0m105      \u001b[0m | \u001b[0m5.14e+03 \u001b[0m | \u001b[0m32.03    \u001b[0m | \u001b[0m2.838    \u001b[0m |\n",
      "| \u001b[0m106      \u001b[0m | \u001b[0m4.75e+03 \u001b[0m | \u001b[0m61.85    \u001b[0m | \u001b[0m4.23     \u001b[0m |\n",
      "| \u001b[0m107      \u001b[0m | \u001b[0m5.14e+03 \u001b[0m | \u001b[0m65.69    \u001b[0m | \u001b[0m2.359    \u001b[0m |\n",
      "| \u001b[0m108      \u001b[0m | \u001b[0m5.14e+03 \u001b[0m | \u001b[0m63.64    \u001b[0m | \u001b[0m2.289    \u001b[0m |\n",
      "| \u001b[0m109      \u001b[0m | \u001b[0m5.14e+03 \u001b[0m | \u001b[0m57.08    \u001b[0m | \u001b[0m2.636    \u001b[0m |\n",
      "| \u001b[0m110      \u001b[0m | \u001b[0m5.14e+03 \u001b[0m | \u001b[0m55.65    \u001b[0m | \u001b[0m2.352    \u001b[0m |\n",
      "=================================================\n"
     ],
     "output_type":"stream"
    }
   ],
   "metadata":{
    "datalore":{
     "node_id":"XrVmSbUmFfRWUQyJkeuW3E",
     "type":"CODE",
     "hide_input_from_viewers":true,
     "hide_output_from_viewers":true
    }
   }
  },
  {
   "cell_type":"code",
   "source":[
    "print(f'best_hyperparams_lr : {best_hyperparams_lr}, accuracy_lr : {accuracy_lr}')"
   ],
   "execution_count":28,
   "outputs":[
    {
     "name":"stdout",
     "text":[
      "best_hyperparams_lr : {'C': 15.60186404432805, 'n': 2.403950683025824}, accuracy_lr : 5140.0\n"
     ],
     "output_type":"stream"
    }
   ],
   "metadata":{
    "datalore":{
     "node_id":"fdA9kOsagvQeixaD9iktwZ",
     "type":"CODE",
     "hide_input_from_viewers":true,
     "hide_output_from_viewers":true
    }
   }
  },
  {
   "cell_type":"markdown",
   "source":[
    "### Logistic Regresion + Correlation + ANOVA + Forward"
   ],
   "attachments":{},
   "metadata":{
    "datalore":{
     "node_id":"t3QjoBkhjfa81PjWRyAxeG",
     "type":"MD",
     "hide_input_from_viewers":true,
     "hide_output_from_viewers":true
    }
   }
  },
  {
   "cell_type":"code",
   "source":[
    "from sklearn.model_selection import train_test_split\n",
    "from bayes_opt import BayesianOptimization\n",
    "\n",
    "X_train = x_train.copy()\n",
    "Y_train = y_train.copy()\n",
    "\n",
    "def objective_function_LR(n, C):\n",
    "    n = int(n)\n",
    "    vars_nocorr = select_vars_correlation(X_train, Y_train)\n",
    "    selected_vars = select_vars_anova(X_train[vars_nocorr], Y_train, 15)\n",
    "\n",
    "    model_forward = LogisticRegression(random_state=28, C=C)\n",
    "    vars_for_n = forward_selection(\n",
    "        X_train[selected_vars], Y_train, model_forward, n, calculate_score_adaptive\n",
    "    )\n",
    "\n",
    "    model = LogisticRegression(random_state=28, C=C)\n",
    "    score_adaptive = train_cv(model, X_train[selected_vars], Y_train, 5, calculate_score_adaptive)\n",
    "    return score_adaptive\n",
    "\n",
    "pbounds = {\n",
    "    'n': (1, 10),  \n",
    "    'C': (0.0000000001, 100)\n",
    "}\n",
    "optimizer = BayesianOptimization(\n",
    "    f=objective_function_LR,\n",
    "    pbounds=pbounds,\n",
    "    random_state=42\n",
    ")\n",
    "optimizer.maximize(\n",
    "    init_points=4,\n",
    "    n_iter=20\n",
    "\n",
    ")\n",
    "\n",
    "best_hyperparams_lr_2 = optimizer.max['params']\n",
    "accuracy_lr_2 = optimizer.max['target']"
   ],
   "execution_count":38,
   "outputs":[
    {
     "name":"stdout",
     "text":[
      "|   iter    |  target   |     C     |     n     |\n",
      "-------------------------------------------------\n",
      "| \u001b[0m1        \u001b[0m | \u001b[0m2.91e+03 \u001b[0m | \u001b[0m37.45    \u001b[0m | \u001b[0m9.556    \u001b[0m |\n",
      "| \u001b[0m2        \u001b[0m | \u001b[0m2.89e+03 \u001b[0m | \u001b[0m73.2     \u001b[0m | \u001b[0m6.388    \u001b[0m |\n",
      "| \u001b[0m3        \u001b[0m | \u001b[0m2.9e+03  \u001b[0m | \u001b[0m15.6     \u001b[0m | \u001b[0m2.404    \u001b[0m |\n",
      "| \u001b[0m4        \u001b[0m | \u001b[0m2.9e+03  \u001b[0m | \u001b[0m5.808    \u001b[0m | \u001b[0m8.796    \u001b[0m |\n",
      "| \u001b[0m5        \u001b[0m | \u001b[0m2.9e+03  \u001b[0m | \u001b[0m44.03    \u001b[0m | \u001b[0m1.0      \u001b[0m |\n",
      "| \u001b[0m6        \u001b[0m | \u001b[0m2.9e+03  \u001b[0m | \u001b[0m36.48    \u001b[0m | \u001b[0m9.844    \u001b[0m |\n",
      "| \u001b[0m7        \u001b[0m | \u001b[0m2.91e+03 \u001b[0m | \u001b[0m10.14    \u001b[0m | \u001b[0m5.695    \u001b[0m |\n",
      "| \u001b[0m8        \u001b[0m | \u001b[0m2.89e+03 \u001b[0m | \u001b[0m0.5644   \u001b[0m | \u001b[0m5.174    \u001b[0m |\n",
      "| \u001b[0m9        \u001b[0m | \u001b[0m2.91e+03 \u001b[0m | \u001b[0m66.75    \u001b[0m | \u001b[0m6.78     \u001b[0m |\n",
      "| \u001b[0m10       \u001b[0m | \u001b[0m2.9e+03  \u001b[0m | \u001b[0m3.247    \u001b[0m | \u001b[0m2.937    \u001b[0m |\n",
      "| \u001b[0m11       \u001b[0m | \u001b[0m2.91e+03 \u001b[0m | \u001b[0m44.18    \u001b[0m | \u001b[0m8.419    \u001b[0m |\n",
      "| \u001b[0m12       \u001b[0m | \u001b[0m2.89e+03 \u001b[0m | \u001b[0m1.862    \u001b[0m | \u001b[0m4.945    \u001b[0m |\n",
      "| \u001b[0m13       \u001b[0m | \u001b[0m2.89e+03 \u001b[0m | \u001b[0m38.74    \u001b[0m | \u001b[0m9.185    \u001b[0m |\n",
      "| \u001b[0m14       \u001b[0m | \u001b[0m2.89e+03 \u001b[0m | \u001b[0m66.63    \u001b[0m | \u001b[0m6.792    \u001b[0m |\n",
      "| \u001b[0m15       \u001b[0m | \u001b[0m2.9e+03  \u001b[0m | \u001b[0m60.41    \u001b[0m | \u001b[0m2.365    \u001b[0m |\n",
      "| \u001b[0m16       \u001b[0m | \u001b[0m2.9e+03  \u001b[0m | \u001b[0m79.28    \u001b[0m | \u001b[0m8.955    \u001b[0m |\n",
      "| \u001b[95m17       \u001b[0m | \u001b[95m2.92e+03 \u001b[0m | \u001b[95m41.94    \u001b[0m | \u001b[95m2.489    \u001b[0m |\n",
      "| \u001b[0m18       \u001b[0m | \u001b[0m2.91e+03 \u001b[0m | \u001b[0m11.5     \u001b[0m | \u001b[0m2.786    \u001b[0m |\n",
      "| \u001b[0m19       \u001b[0m | \u001b[0m2.91e+03 \u001b[0m | \u001b[0m95.55    \u001b[0m | \u001b[0m3.353    \u001b[0m |\n",
      "| \u001b[0m20       \u001b[0m | \u001b[0m2.9e+03  \u001b[0m | \u001b[0m81.36    \u001b[0m | \u001b[0m8.22     \u001b[0m |\n",
      "| \u001b[0m21       \u001b[0m | \u001b[0m2.9e+03  \u001b[0m | \u001b[0m20.83    \u001b[0m | \u001b[0m7.975    \u001b[0m |\n",
      "| \u001b[0m22       \u001b[0m | \u001b[0m2.9e+03  \u001b[0m | \u001b[0m81.92    \u001b[0m | \u001b[0m7.127    \u001b[0m |\n",
      "| \u001b[0m23       \u001b[0m | \u001b[0m2.91e+03 \u001b[0m | \u001b[0m50.21    \u001b[0m | \u001b[0m7.047    \u001b[0m |\n",
      "| \u001b[0m24       \u001b[0m | \u001b[0m2.9e+03  \u001b[0m | \u001b[0m63.47    \u001b[0m | \u001b[0m7.888    \u001b[0m |\n",
      "=================================================\n"
     ],
     "output_type":"stream"
    },
    {
     "name":"stderr",
     "text":[
      "\r  0%|          | 0\/9 [00:00<?, ?it\/s]\r 11%|█         | 1\/9 [00:00<00:04,  1.65it\/s]\r 22%|██▏       | 2\/9 [00:01<00:04,  1.55it\/s]\r 33%|███▎      | 3\/9 [00:02<00:04,  1.28it\/s]\r 44%|████▍     | 4\/9 [00:03<00:04,  1.15it\/s]\r 56%|█████▌    | 5\/9 [00:04<00:03,  1.10it\/s]\r 67%|██████▋   | 6\/9 [00:05<00:02,  1.08it\/s]\r 78%|███████▊  | 7\/9 [00:06<00:01,  1.06it\/s]\r 89%|████████▉ | 8\/9 [00:07<00:00,  1.08it\/s]\r100%|██████████| 9\/9 [00:07<00:00,  1.07it\/s]\r100%|██████████| 9\/9 [00:07<00:00,  1.13it\/s]\n",
      "\r  0%|          | 0\/6 [00:00<?, ?it\/s]\r 17%|█▋        | 1\/6 [00:00<00:03,  1.66it\/s]\r 33%|███▎      | 2\/6 [00:01<00:02,  1.53it\/s]\r 50%|█████     | 3\/6 [00:02<00:02,  1.26it\/s]\r 67%|██████▋   | 4\/6 [00:03<00:01,  1.14it\/s]\r 83%|████████▎ | 5\/6 [00:04<00:00,  1.08it\/s]\r100%|██████████| 6\/6 [00:05<00:00,  1.07it\/s]\r100%|██████████| 6\/6 [00:05<00:00,  1.15it\/s]\n",
      "\r  0%|          | 0\/2 [00:00<?, ?it\/s]\r 50%|█████     | 1\/2 [00:00<00:00,  1.69it\/s]\r100%|██████████| 2\/2 [00:01<00:00,  1.53it\/s]\r100%|██████████| 2\/2 [00:01<00:00,  1.55it\/s]\n",
      "\r  0%|          | 0\/8 [00:00<?, ?it\/s]\r 12%|█▎        | 1\/8 [00:00<00:04,  1.61it\/s]\r 25%|██▌       | 2\/8 [00:01<00:03,  1.52it\/s]\r 38%|███▊      | 3\/8 [00:02<00:03,  1.27it\/s]\r 50%|█████     | 4\/8 [00:03<00:03,  1.15it\/s]\r 62%|██████▎   | 5\/8 [00:04<00:02,  1.09it\/s]\r 75%|███████▌  | 6\/8 [00:05<00:01,  1.07it\/s]\r 88%|████████▊ | 7\/8 [00:06<00:00,  1.06it\/s]\r100%|██████████| 8\/8 [00:07<00:00,  1.08it\/s]\r100%|██████████| 8\/8 [00:07<00:00,  1.13it\/s]\n",
      "\/opt\/python\/envs\/default\/lib\/python3.8\/site-packages\/sklearn\/linear_model\/_logistic.py:458: ConvergenceWarning: lbfgs failed to converge (status=1):\n",
      "STOP: TOTAL NO. of ITERATIONS REACHED LIMIT.\n",
      "\n",
      "Increase the number of iterations (max_iter) or scale the data as shown in:\n",
      "    https:\/\/scikit-learn.org\/stable\/modules\/preprocessing.html\n",
      "Please also refer to the documentation for alternative solver options:\n",
      "    https:\/\/scikit-learn.org\/stable\/modules\/linear_model.html#logistic-regression\n",
      "  n_iter_i = _check_optimize_result(\n",
      "\r  0%|          | 0\/1 [00:00<?, ?it\/s]\r100%|██████████| 1\/1 [00:00<00:00,  1.62it\/s]\r100%|██████████| 1\/1 [00:00<00:00,  1.61it\/s]\n",
      "\r  0%|          | 0\/9 [00:00<?, ?it\/s]\r 11%|█         | 1\/9 [00:00<00:04,  1.60it\/s]\r 22%|██▏       | 2\/9 [00:01<00:04,  1.50it\/s]\r 33%|███▎      | 3\/9 [00:02<00:04,  1.25it\/s]\r 44%|████▍     | 4\/9 [00:03<00:04,  1.14it\/s]\r 56%|█████▌    | 5\/9 [00:04<00:03,  1.08it\/s]\r 67%|██████▋   | 6\/9 [00:05<00:02,  1.06it\/s]\r 78%|███████▊  | 7\/9 [00:06<00:01,  1.06it\/s]\r 89%|████████▉ | 8\/9 [00:07<00:00,  1.08it\/s]\r100%|██████████| 9\/9 [00:08<00:00,  1.07it\/s]\r100%|██████████| 9\/9 [00:08<00:00,  1.12it\/s]\n",
      "\/opt\/python\/envs\/default\/lib\/python3.8\/site-packages\/sklearn\/linear_model\/_logistic.py:458: ConvergenceWarning: lbfgs failed to converge (status=1):\n",
      "STOP: TOTAL NO. of ITERATIONS REACHED LIMIT.\n",
      "\n",
      "Increase the number of iterations (max_iter) or scale the data as shown in:\n",
      "    https:\/\/scikit-learn.org\/stable\/modules\/preprocessing.html\n",
      "Please also refer to the documentation for alternative solver options:\n",
      "    https:\/\/scikit-learn.org\/stable\/modules\/linear_model.html#logistic-regression\n",
      "  n_iter_i = _check_optimize_result(\n",
      "\r  0%|          | 0\/5 [00:00<?, ?it\/s]\r 20%|██        | 1\/5 [00:00<00:02,  1.67it\/s]\r 40%|████      | 2\/5 [00:01<00:01,  1.52it\/s]\r 60%|██████    | 3\/5 [00:02<00:01,  1.25it\/s]\r 80%|████████  | 4\/5 [00:03<00:00,  1.12it\/s]\r100%|██████████| 5\/5 [00:04<00:00,  1.07it\/s]\r100%|██████████| 5\/5 [00:04<00:00,  1.16it\/s]\n",
      "\r  0%|          | 0\/5 [00:00<?, ?it\/s]\r 20%|██        | 1\/5 [00:00<00:02,  1.65it\/s]\r 40%|████      | 2\/5 [00:01<00:01,  1.54it\/s]\r 60%|██████    | 3\/5 [00:02<00:01,  1.25it\/s]\r 80%|████████  | 4\/5 [00:03<00:00,  1.13it\/s]\r100%|██████████| 5\/5 [00:04<00:00,  1.08it\/s]\r100%|██████████| 5\/5 [00:04<00:00,  1.17it\/s]\n",
      "\/opt\/python\/envs\/default\/lib\/python3.8\/site-packages\/sklearn\/linear_model\/_logistic.py:458: ConvergenceWarning: lbfgs failed to converge (status=1):\n",
      "STOP: TOTAL NO. of ITERATIONS REACHED LIMIT.\n",
      "\n",
      "Increase the number of iterations (max_iter) or scale the data as shown in:\n",
      "    https:\/\/scikit-learn.org\/stable\/modules\/preprocessing.html\n",
      "Please also refer to the documentation for alternative solver options:\n",
      "    https:\/\/scikit-learn.org\/stable\/modules\/linear_model.html#logistic-regression\n",
      "  n_iter_i = _check_optimize_result(\n",
      "\r  0%|          | 0\/6 [00:00<?, ?it\/s]\r 17%|█▋        | 1\/6 [00:00<00:03,  1.59it\/s]\r 33%|███▎      | 2\/6 [00:01<00:02,  1.49it\/s]\r 50%|█████     | 3\/6 [00:02<00:02,  1.23it\/s]\r 67%|██████▋   | 4\/6 [00:03<00:01,  1.12it\/s]\r 83%|████████▎ | 5\/6 [00:04<00:00,  1.07it\/s]\r100%|██████████| 6\/6 [00:05<00:00,  1.05it\/s]\r100%|██████████| 6\/6 [00:05<00:00,  1.13it\/s]\n",
      "\r  0%|          | 0\/2 [00:00<?, ?it\/s]\r 50%|█████     | 1\/2 [00:00<00:00,  1.57it\/s]\r100%|██████████| 2\/2 [00:01<00:00,  1.49it\/s]\r100%|██████████| 2\/2 [00:01<00:00,  1.50it\/s]\n",
      "\r  0%|          | 0\/8 [00:00<?, ?it\/s]\r 12%|█▎        | 1\/8 [00:00<00:04,  1.56it\/s]\r 25%|██▌       | 2\/8 [00:01<00:04,  1.46it\/s]\r 38%|███▊      | 3\/8 [00:02<00:04,  1.21it\/s]\r 50%|█████     | 4\/8 [00:03<00:03,  1.10it\/s]\r 62%|██████▎   | 5\/8 [00:04<00:02,  1.05it\/s]\r 75%|███████▌  | 6\/8 [00:05<00:01,  1.03it\/s]\r 88%|████████▊ | 7\/8 [00:06<00:00,  1.02it\/s]\r100%|██████████| 8\/8 [00:07<00:00,  1.04it\/s]\r100%|██████████| 8\/8 [00:07<00:00,  1.09it\/s]\n",
      "\r  0%|          | 0\/4 [00:00<?, ?it\/s]\r 25%|██▌       | 1\/4 [00:00<00:01,  1.56it\/s]\r 50%|█████     | 2\/4 [00:01<00:01,  1.48it\/s]\r 75%|███████▌  | 3\/4 [00:02<00:00,  1.23it\/s]\r100%|██████████| 4\/4 [00:03<00:00,  1.11it\/s]\r100%|██████████| 4\/4 [00:03<00:00,  1.19it\/s]\n",
      "\r  0%|          | 0\/9 [00:00<?, ?it\/s]\r 11%|█         | 1\/9 [00:00<00:05,  1.58it\/s]\r 22%|██▏       | 2\/9 [00:01<00:04,  1.48it\/s]\r 33%|███▎      | 3\/9 [00:02<00:04,  1.22it\/s]\r 44%|████▍     | 4\/9 [00:03<00:04,  1.10it\/s]\r 56%|█████▌    | 5\/9 [00:04<00:03,  1.05it\/s]\r 67%|██████▋   | 6\/9 [00:05<00:02,  1.04it\/s]\r 78%|███████▊  | 7\/9 [00:06<00:01,  1.03it\/s]\r 89%|████████▉ | 8\/9 [00:07<00:00,  1.05it\/s]\r100%|██████████| 9\/9 [00:08<00:00,  1.05it\/s]\r100%|██████████| 9\/9 [00:08<00:00,  1.09it\/s]\n",
      "\/opt\/python\/envs\/default\/lib\/python3.8\/site-packages\/sklearn\/linear_model\/_logistic.py:458: ConvergenceWarning: lbfgs failed to converge (status=1):\n",
      "STOP: TOTAL NO. of ITERATIONS REACHED LIMIT.\n",
      "\n",
      "Increase the number of iterations (max_iter) or scale the data as shown in:\n",
      "    https:\/\/scikit-learn.org\/stable\/modules\/preprocessing.html\n",
      "Please also refer to the documentation for alternative solver options:\n",
      "    https:\/\/scikit-learn.org\/stable\/modules\/linear_model.html#logistic-regression\n",
      "  n_iter_i = _check_optimize_result(\n",
      "\r  0%|          | 0\/6 [00:00<?, ?it\/s]\r 17%|█▋        | 1\/6 [00:00<00:03,  1.57it\/s]\r 33%|███▎      | 2\/6 [00:01<00:02,  1.51it\/s]\r 50%|█████     | 3\/6 [00:02<00:02,  1.24it\/s]\r 67%|██████▋   | 4\/6 [00:03<00:01,  1.12it\/s]\r 83%|████████▎ | 5\/6 [00:04<00:00,  1.06it\/s]\r100%|██████████| 6\/6 [00:05<00:00,  1.05it\/s]\r100%|██████████| 6\/6 [00:05<00:00,  1.13it\/s]\n",
      "\r  0%|          | 0\/2 [00:00<?, ?it\/s]\r 50%|█████     | 1\/2 [00:00<00:00,  1.61it\/s]\r100%|██████████| 2\/2 [00:01<00:00,  1.50it\/s]\r100%|██████████| 2\/2 [00:01<00:00,  1.52it\/s]\n",
      "\r  0%|          | 0\/8 [00:00<?, ?it\/s]\r 12%|█▎        | 1\/8 [00:00<00:04,  1.57it\/s]\r 25%|██▌       | 2\/8 [00:01<00:04,  1.47it\/s]\r 38%|███▊      | 3\/8 [00:02<00:04,  1.21it\/s]\r 50%|█████     | 4\/8 [00:03<00:03,  1.10it\/s]\r 62%|██████▎   | 5\/8 [00:04<00:02,  1.05it\/s]\r 75%|███████▌  | 6\/8 [00:05<00:01,  1.04it\/s]\r 88%|████████▊ | 7\/8 [00:06<00:00,  1.03it\/s]\r100%|██████████| 8\/8 [00:07<00:00,  1.05it\/s]\r100%|██████████| 8\/8 [00:07<00:00,  1.10it\/s]\n",
      "\/opt\/python\/envs\/default\/lib\/python3.8\/site-packages\/sklearn\/linear_model\/_logistic.py:458: ConvergenceWarning: lbfgs failed to converge (status=1):\n",
      "STOP: TOTAL NO. of ITERATIONS REACHED LIMIT.\n",
      "\n",
      "Increase the number of iterations (max_iter) or scale the data as shown in:\n",
      "    https:\/\/scikit-learn.org\/stable\/modules\/preprocessing.html\n",
      "Please also refer to the documentation for alternative solver options:\n",
      "    https:\/\/scikit-learn.org\/stable\/modules\/linear_model.html#logistic-regression\n",
      "  n_iter_i = _check_optimize_result(\n",
      "\r  0%|          | 0\/2 [00:00<?, ?it\/s]\r 50%|█████     | 1\/2 [00:00<00:00,  1.63it\/s]\r100%|██████████| 2\/2 [00:01<00:00,  1.52it\/s]\r100%|██████████| 2\/2 [00:01<00:00,  1.54it\/s]\n",
      "\/opt\/python\/envs\/default\/lib\/python3.8\/site-packages\/sklearn\/linear_model\/_logistic.py:458: ConvergenceWarning: lbfgs failed to converge (status=1):\n",
      "STOP: TOTAL NO. of ITERATIONS REACHED LIMIT.\n",
      "\n",
      "Increase the number of iterations (max_iter) or scale the data as shown in:\n",
      "    https:\/\/scikit-learn.org\/stable\/modules\/preprocessing.html\n",
      "Please also refer to the documentation for alternative solver options:\n",
      "    https:\/\/scikit-learn.org\/stable\/modules\/linear_model.html#logistic-regression\n",
      "  n_iter_i = _check_optimize_result(\n",
      "\r  0%|          | 0\/2 [00:00<?, ?it\/s]\r 50%|█████     | 1\/2 [00:00<00:00,  1.59it\/s]\r100%|██████████| 2\/2 [00:01<00:00,  1.52it\/s]\r100%|██████████| 2\/2 [00:01<00:00,  1.53it\/s]\n",
      "\/opt\/python\/envs\/default\/lib\/python3.8\/site-packages\/sklearn\/linear_model\/_logistic.py:458: ConvergenceWarning: lbfgs failed to converge (status=1):\n",
      "STOP: TOTAL NO. of ITERATIONS REACHED LIMIT.\n",
      "\n",
      "Increase the number of iterations (max_iter) or scale the data as shown in:\n",
      "    https:\/\/scikit-learn.org\/stable\/modules\/preprocessing.html\n",
      "Please also refer to the documentation for alternative solver options:\n",
      "    https:\/\/scikit-learn.org\/stable\/modules\/linear_model.html#logistic-regression\n",
      "  n_iter_i = _check_optimize_result(\n",
      "\r  0%|          | 0\/3 [00:00<?, ?it\/s]\r 33%|███▎      | 1\/3 [00:00<00:01,  1.63it\/s]\r 67%|██████▋   | 2\/3 [00:01<00:00,  1.50it\/s]\r100%|██████████| 3\/3 [00:02<00:00,  1.25it\/s]\r100%|██████████| 3\/3 [00:02<00:00,  1.32it\/s]\n",
      "\r  0%|          | 0\/8 [00:00<?, ?it\/s]\r 12%|█▎        | 1\/8 [00:00<00:04,  1.59it\/s]\r 25%|██▌       | 2\/8 [00:01<00:04,  1.49it\/s]\r 38%|███▊      | 3\/8 [00:02<00:04,  1.24it\/s]\r 50%|█████     | 4\/8 [00:03<00:03,  1.13it\/s]\r 62%|██████▎   | 5\/8 [00:04<00:02,  1.08it\/s]\r 75%|███████▌  | 6\/8 [00:05<00:01,  1.01it\/s]\r 88%|████████▊ | 7\/8 [00:06<00:00,  1.02it\/s]\r100%|██████████| 8\/8 [00:07<00:00,  1.07it\/s]\r100%|██████████| 8\/8 [00:07<00:00,  1.11it\/s]\n",
      "\/opt\/python\/envs\/default\/lib\/python3.8\/site-packages\/sklearn\/linear_model\/_logistic.py:458: ConvergenceWarning: lbfgs failed to converge (status=1):\n",
      "STOP: TOTAL NO. of ITERATIONS REACHED LIMIT.\n",
      "\n",
      "Increase the number of iterations (max_iter) or scale the data as shown in:\n",
      "    https:\/\/scikit-learn.org\/stable\/modules\/preprocessing.html\n",
      "Please also refer to the documentation for alternative solver options:\n",
      "    https:\/\/scikit-learn.org\/stable\/modules\/linear_model.html#logistic-regression\n",
      "  n_iter_i = _check_optimize_result(\n",
      "\/opt\/python\/envs\/default\/lib\/python3.8\/site-packages\/sklearn\/linear_model\/_logistic.py:458: ConvergenceWarning: lbfgs failed to converge (status=1):\n",
      "STOP: TOTAL NO. of ITERATIONS REACHED LIMIT.\n",
      "\n",
      "Increase the number of iterations (max_iter) or scale the data as shown in:\n",
      "    https:\/\/scikit-learn.org\/stable\/modules\/preprocessing.html\n",
      "Please also refer to the documentation for alternative solver options:\n",
      "    https:\/\/scikit-learn.org\/stable\/modules\/linear_model.html#logistic-regression\n",
      "  n_iter_i = _check_optimize_result(\n",
      "\r  0%|          | 0\/7 [00:00<?, ?it\/s]\r 14%|█▍        | 1\/7 [00:00<00:03,  1.67it\/s]\r 29%|██▊       | 2\/7 [00:01<00:03,  1.52it\/s]\r 43%|████▎     | 3\/7 [00:02<00:03,  1.25it\/s]\r 57%|█████▋    | 4\/7 [00:03<00:02,  1.12it\/s]\r 71%|███████▏  | 5\/7 [00:04<00:01,  1.06it\/s]\r 86%|████████▌ | 6\/7 [00:05<00:00,  1.04it\/s]\r100%|██████████| 7\/7 [00:06<00:00,  1.04it\/s]\r100%|██████████| 7\/7 [00:06<00:00,  1.12it\/s]\n",
      "\/opt\/python\/envs\/default\/lib\/python3.8\/site-packages\/sklearn\/linear_model\/_logistic.py:458: ConvergenceWarning: lbfgs failed to converge (status=1):\n",
      "STOP: TOTAL NO. of ITERATIONS REACHED LIMIT.\n",
      "\n",
      "Increase the number of iterations (max_iter) or scale the data as shown in:\n",
      "    https:\/\/scikit-learn.org\/stable\/modules\/preprocessing.html\n",
      "Please also refer to the documentation for alternative solver options:\n",
      "    https:\/\/scikit-learn.org\/stable\/modules\/linear_model.html#logistic-regression\n",
      "  n_iter_i = _check_optimize_result(\n",
      "\r  0%|          | 0\/7 [00:00<?, ?it\/s]\r 14%|█▍        | 1\/7 [00:00<00:03,  1.65it\/s]\r 29%|██▊       | 2\/7 [00:01<00:03,  1.54it\/s]\r 43%|████▎     | 3\/7 [00:02<00:03,  1.27it\/s]\r 57%|█████▋    | 4\/7 [00:03<00:02,  1.13it\/s]\r 71%|███████▏  | 5\/7 [00:04<00:02,  1.13s\/it]\r 86%|████████▌ | 6\/7 [00:06<00:01,  1.23s\/it]\r100%|██████████| 7\/7 [00:07<00:00,  1.32s\/it]\r100%|██████████| 7\/7 [00:07<00:00,  1.11s\/it]\n",
      "\/opt\/python\/envs\/default\/lib\/python3.8\/site-packages\/sklearn\/linear_model\/_logistic.py:458: ConvergenceWarning: lbfgs failed to converge (status=1):\n",
      "STOP: TOTAL NO. of ITERATIONS REACHED LIMIT.\n",
      "\n",
      "Increase the number of iterations (max_iter) or scale the data as shown in:\n",
      "    https:\/\/scikit-learn.org\/stable\/modules\/preprocessing.html\n",
      "Please also refer to the documentation for alternative solver options:\n",
      "    https:\/\/scikit-learn.org\/stable\/modules\/linear_model.html#logistic-regression\n",
      "  n_iter_i = _check_optimize_result(\n",
      "\r  0%|          | 0\/7 [00:00<?, ?it\/s]\r 14%|█▍        | 1\/7 [00:00<00:03,  1.58it\/s]\r 29%|██▊       | 2\/7 [00:01<00:03,  1.43it\/s]\r 43%|████▎     | 3\/7 [00:09<00:15,  3.95s\/it]\r 57%|█████▋    | 4\/7 [00:25<00:26,  8.96s\/it]\r 71%|███████▏  | 5\/7 [00:37<00:19,  9.84s\/it]\r 86%|████████▌ | 6\/7 [00:48<00:10, 10.32s\/it]\r100%|██████████| 7\/7 [00:56<00:00,  9.61s\/it]\r100%|██████████| 7\/7 [00:56<00:00,  8.09s\/it]\n",
      "\/opt\/python\/envs\/default\/lib\/python3.8\/site-packages\/sklearn\/linear_model\/_logistic.py:458: ConvergenceWarning: lbfgs failed to converge (status=1):\n",
      "STOP: TOTAL NO. of ITERATIONS REACHED LIMIT.\n",
      "\n",
      "Increase the number of iterations (max_iter) or scale the data as shown in:\n",
      "    https:\/\/scikit-learn.org\/stable\/modules\/preprocessing.html\n",
      "Please also refer to the documentation for alternative solver options:\n",
      "    https:\/\/scikit-learn.org\/stable\/modules\/linear_model.html#logistic-regression\n",
      "  n_iter_i = _check_optimize_result(\n",
      "\r  0%|          | 0\/7 [00:00<?, ?it\/s]\r 14%|█▍        | 1\/7 [00:01<00:09,  1.63s\/it]\r 29%|██▊       | 2\/7 [00:03<00:08,  1.75s\/it]\r 43%|████▎     | 3\/7 [00:22<00:37,  9.47s\/it]\r 57%|█████▋    | 4\/7 [00:30<00:27,  9.16s\/it]\r 71%|███████▏  | 5\/7 [00:37<00:16,  8.41s\/it]\r 86%|████████▌ | 6\/7 [00:48<00:09,  9.03s\/it]\r100%|██████████| 7\/7 [00:57<00:00,  9.18s\/it]\r100%|██████████| 7\/7 [00:57<00:00,  8.23s\/it]\n",
      "\/opt\/python\/envs\/default\/lib\/python3.8\/site-packages\/sklearn\/linear_model\/_logistic.py:458: ConvergenceWarning: lbfgs failed to converge (status=1):\n",
      "STOP: TOTAL NO. of ITERATIONS REACHED LIMIT.\n",
      "\n",
      "Increase the number of iterations (max_iter) or scale the data as shown in:\n",
      "    https:\/\/scikit-learn.org\/stable\/modules\/preprocessing.html\n",
      "Please also refer to the documentation for alternative solver options:\n",
      "    https:\/\/scikit-learn.org\/stable\/modules\/linear_model.html#logistic-regression\n",
      "  n_iter_i = _check_optimize_result(\n"
     ],
     "output_type":"stream"
    }
   ],
   "metadata":{
    "datalore":{
     "node_id":"XLtZW3U4PTLN6VWsMVT0Kd",
     "type":"CODE",
     "hide_input_from_viewers":true,
     "hide_output_from_viewers":true
    }
   }
  },
  {
   "cell_type":"code",
   "source":[
    "print(f'best_hyperparams_lr_2 : {best_hyperparams_lr_2}, accuracy_lr_2 : {accuracy_lr_2}')"
   ],
   "execution_count":39,
   "outputs":[
    {
     "name":"stdout",
     "text":[
      "best_hyperparams_lr_2 : {'C': 41.94048279276871, 'n': 2.4889779400115497}, accuracy_lr_2 : 2920.0\n"
     ],
     "output_type":"stream"
    }
   ],
   "metadata":{
    "datalore":{
     "node_id":"g85WZdQfrJFVbRWvafWoOw",
     "type":"CODE",
     "hide_input_from_viewers":true,
     "hide_output_from_viewers":true
    }
   }
  },
  {
   "cell_type":"markdown",
   "source":[
    "### Naive Bayes + correlation + permutation"
   ],
   "attachments":{},
   "metadata":{
    "datalore":{
     "node_id":"j9nNpbNQU73lZGxyaL27tp",
     "type":"MD",
     "hide_input_from_viewers":true,
     "hide_output_from_viewers":true
    }
   }
  },
  {
   "cell_type":"code",
   "source":[
    "from sklearn.model_selection import train_test_split\n",
    "from bayes_opt import BayesianOptimization\n",
    "\n",
    "X_train = x_train.copy()\n",
    "Y_train = y_train.copy()\n",
    "\n",
    "def objective_function_NB(n, var_smoothing):\n",
    "    \n",
    "    n = int(n)\n",
    "    model_permutation = GaussianNB(var_smoothing=var_smoothing)\n",
    "    vars_nocorr = select_vars_correlation(X_train, Y_train)\n",
    "    selected_vars = select_vars_permutation(\n",
    "        X_train[vars_nocorr], Y_train, model_permutation, top_n=n, random_state=3)\n",
    "    \n",
    "    model = GaussianNB(var_smoothing=var_smoothing)\n",
    "    score_adaptive = train_cv(model, X_train[selected_vars], Y_train, 5, calculate_score_adaptive)\n",
    "    return score_adaptive\n",
    "\n",
    "pbounds = {\n",
    "    'n': (1, 10),  \n",
    "    'var_smoothing': (1e-12, 1e-8) \n",
    "}\n",
    "optimizer = BayesianOptimization(\n",
    "    f=objective_function_NB,\n",
    "    pbounds=pbounds,\n",
    "    random_state=42\n",
    ")\n",
    "optimizer.maximize(\n",
    "    init_points=4,\n",
    "    n_iter=20\n",
    "\n",
    ")\n",
    "\n",
    "best_hyperparams_nb = optimizer.max['params']\n",
    "accuracy_nb = optimizer.max['target']"
   ],
   "execution_count":32,
   "outputs":[
    {
     "name":"stdout",
     "text":[
      "|   iter    |  target   |     n     | var_sm... |\n",
      "-------------------------------------------------\n",
      "| \u001b[0m1        \u001b[0m | \u001b[0m6.84e+03 \u001b[0m | \u001b[0m4.371    \u001b[0m | \u001b[0m9.507e-09\u001b[0m |\n",
      "| \u001b[0m2        \u001b[0m | \u001b[0m6.35e+03 \u001b[0m | \u001b[0m7.588    \u001b[0m | \u001b[0m5.987e-09\u001b[0m |\n",
      "| \u001b[0m3        \u001b[0m | \u001b[0m6.78e+03 \u001b[0m | \u001b[0m2.404    \u001b[0m | \u001b[0m1.561e-09\u001b[0m |\n",
      "| \u001b[0m4        \u001b[0m | \u001b[0m6.46e+03 \u001b[0m | \u001b[0m1.523    \u001b[0m | \u001b[0m8.662e-09\u001b[0m |\n",
      "| \u001b[0m5        \u001b[0m | \u001b[0m6.35e+03 \u001b[0m | \u001b[0m7.057    \u001b[0m | \u001b[0m5.309e-09\u001b[0m |\n",
      "| \u001b[95m6        \u001b[0m | \u001b[95m6.89e+03 \u001b[0m | \u001b[95m3.414    \u001b[0m | \u001b[95m6.386e-09\u001b[0m |\n",
      "| \u001b[0m7        \u001b[0m | \u001b[0m5.81e+03 \u001b[0m | \u001b[0m10.0     \u001b[0m | \u001b[0m1e-12    \u001b[0m |\n",
      "| \u001b[0m8        \u001b[0m | \u001b[0m6.89e+03 \u001b[0m | \u001b[0m3.861    \u001b[0m | \u001b[0m4.743e-09\u001b[0m |\n",
      "| \u001b[0m9        \u001b[0m | \u001b[0m6.89e+03 \u001b[0m | \u001b[0m3.021    \u001b[0m | \u001b[0m7.851e-09\u001b[0m |\n",
      "| \u001b[0m10       \u001b[0m | \u001b[0m6.89e+03 \u001b[0m | \u001b[0m3.663    \u001b[0m | \u001b[0m1e-12    \u001b[0m |\n",
      "| \u001b[0m11       \u001b[0m | \u001b[0m6.89e+03 \u001b[0m | \u001b[0m3.188    \u001b[0m | \u001b[0m6.168e-09\u001b[0m |\n",
      "| \u001b[0m12       \u001b[0m | \u001b[0m6.89e+03 \u001b[0m | \u001b[0m3.772    \u001b[0m | \u001b[0m1e-08    \u001b[0m |\n",
      "| \u001b[0m13       \u001b[0m | \u001b[0m6.89e+03 \u001b[0m | \u001b[0m3.534    \u001b[0m | \u001b[0m1e-08    \u001b[0m |\n",
      "| \u001b[0m14       \u001b[0m | \u001b[0m6.89e+03 \u001b[0m | \u001b[0m3.096    \u001b[0m | \u001b[0m7.323e-09\u001b[0m |\n",
      "| \u001b[0m15       \u001b[0m | \u001b[0m6.89e+03 \u001b[0m | \u001b[0m3.305    \u001b[0m | \u001b[0m9.596e-09\u001b[0m |\n",
      "| \u001b[0m16       \u001b[0m | \u001b[0m6.89e+03 \u001b[0m | \u001b[0m3.956    \u001b[0m | \u001b[0m1e-08    \u001b[0m |\n",
      "| \u001b[0m17       \u001b[0m | \u001b[0m6.89e+03 \u001b[0m | \u001b[0m3.897    \u001b[0m | \u001b[0m1e-08    \u001b[0m |\n",
      "| \u001b[0m18       \u001b[0m | \u001b[0m6.78e+03 \u001b[0m | \u001b[0m2.955    \u001b[0m | \u001b[0m3.251e-09\u001b[0m |\n",
      "| \u001b[0m19       \u001b[0m | \u001b[0m6.89e+03 \u001b[0m | \u001b[0m3.854    \u001b[0m | \u001b[0m6.169e-09\u001b[0m |\n",
      "| \u001b[0m20       \u001b[0m | \u001b[0m6.82e+03 \u001b[0m | \u001b[0m5.151    \u001b[0m | \u001b[0m1e-12    \u001b[0m |\n",
      "| \u001b[0m21       \u001b[0m | \u001b[0m6.82e+03 \u001b[0m | \u001b[0m5.82     \u001b[0m | \u001b[0m1e-12    \u001b[0m |\n",
      "| \u001b[0m22       \u001b[0m | \u001b[0m6.89e+03 \u001b[0m | \u001b[0m3.021    \u001b[0m | \u001b[0m3.59e-09 \u001b[0m |\n",
      "| \u001b[0m23       \u001b[0m | \u001b[0m6.13e+03 \u001b[0m | \u001b[0m8.702    \u001b[0m | \u001b[0m4.813e-09\u001b[0m |\n",
      "| \u001b[0m24       \u001b[0m | \u001b[0m6.55e+03 \u001b[0m | \u001b[0m6.305    \u001b[0m | \u001b[0m2.316e-09\u001b[0m |\n",
      "=================================================\n"
     ],
     "output_type":"stream"
    }
   ],
   "metadata":{
    "datalore":{
     "node_id":"GKSmClHwwsVzxY7QwAG2Z5",
     "type":"CODE",
     "hide_input_from_viewers":true,
     "hide_output_from_viewers":true
    }
   }
  },
  {
   "cell_type":"code",
   "source":[
    "print(f'best_hyperparams_nb : {best_hyperparams_nb}, accuracy_nb : {accuracy_nb}')"
   ],
   "execution_count":33,
   "outputs":[
    {
     "name":"stdout",
     "text":[
      "best_hyperparams_nb : {'n': 3.4141716366341797, 'var_smoothing': 6.3863282502212275e-09}, accuracy_nb : 6890.0\n"
     ],
     "output_type":"stream"
    }
   ],
   "metadata":{
    "datalore":{
     "node_id":"T2f3gUr79lY4jZaHpTgozp",
     "type":"CODE",
     "hide_input_from_viewers":true,
     "hide_output_from_viewers":true
    }
   }
  },
  {
   "cell_type":"markdown",
   "source":[
    "### Naive Bayes + correlation + permutation + forward selection"
   ],
   "attachments":{},
   "metadata":{
    "datalore":{
     "node_id":"NNA6Sji0iGl5hRSG8R28MM",
     "type":"MD",
     "hide_input_from_viewers":true,
     "hide_output_from_viewers":true
    }
   }
  },
  {
   "cell_type":"code",
   "source":[
    "X_train = x_train.copy()\n",
    "Y_train = y_train.copy()\n",
    "\n",
    "def objective_function_NB_2(n, var_smoothing):\n",
    "    \n",
    "    n = int(n)\n",
    "    model_permutation = GaussianNB(var_smoothing=var_smoothing)\n",
    "    vars_nocorr = select_vars_correlation(X_train, Y_train)\n",
    "    selected_vars_permutation = select_vars_permutation(\n",
    "        X_train[vars_nocorr], Y_train, model_permutation, top_n=n, random_state=3)\n",
    "    selected_vars = forward_selection(\n",
    "        X_train[selected_vars_permutation], Y_train, model_permutation, n, calculate_score_adaptive)\n",
    "\n",
    "    \n",
    "    model = GaussianNB(var_smoothing=var_smoothing)\n",
    "    score_adaptive = train_cv(model, X_train[selected_vars], Y_train, 5, calculate_score_adaptive)\n",
    "    return score_adaptive\n",
    "\n",
    "pbounds = {\n",
    "    'n': (2, 8),  \n",
    "    'var_smoothing': (1e-12, 1e-8) \n",
    "}\n",
    "optimizer = BayesianOptimization(\n",
    "    f=objective_function_NB_2,\n",
    "    pbounds=pbounds,\n",
    "    random_state=42\n",
    ")\n",
    "optimizer.maximize(\n",
    "    init_points=4,\n",
    "    n_iter=20\n",
    "\n",
    ")\n",
    "\n",
    "best_hyperparams_nb_2 = optimizer.max['params']\n",
    "accuracy_nb_2 = optimizer.max['target']"
   ],
   "execution_count":52,
   "outputs":[
    {
     "name":"stdout",
     "text":[
      "|   iter    |  target   |     n     | var_sm... |\n",
      "-------------------------------------------------\n",
      "| \u001b[0m1        \u001b[0m | \u001b[0m6.84e+03 \u001b[0m | \u001b[0m4.247    \u001b[0m | \u001b[0m9.507e-09\u001b[0m |\n",
      "| \u001b[0m2        \u001b[0m | \u001b[0m6.55e+03 \u001b[0m | \u001b[0m6.392    \u001b[0m | \u001b[0m5.987e-09\u001b[0m |\n",
      "| \u001b[0m3        \u001b[0m | \u001b[0m6.78e+03 \u001b[0m | \u001b[0m2.936    \u001b[0m | \u001b[0m1.561e-09\u001b[0m |\n",
      "| \u001b[0m4        \u001b[0m | \u001b[0m6.78e+03 \u001b[0m | \u001b[0m2.349    \u001b[0m | \u001b[0m8.662e-09\u001b[0m |\n",
      "| \u001b[0m5        \u001b[0m | \u001b[0m6.13e+03 \u001b[0m | \u001b[0m8.0      \u001b[0m | \u001b[0m3.277e-09\u001b[0m |\n",
      "| \u001b[0m6        \u001b[0m | \u001b[0m6.82e+03 \u001b[0m | \u001b[0m5.03     \u001b[0m | \u001b[0m4.253e-09\u001b[0m |\n",
      "| \u001b[0m7        \u001b[0m | \u001b[0m6.84e+03 \u001b[0m | \u001b[0m4.579    \u001b[0m | \u001b[0m1e-08    \u001b[0m |\n",
      "| \u001b[0m8        \u001b[0m | \u001b[0m6.84e+03 \u001b[0m | \u001b[0m4.407    \u001b[0m | \u001b[0m6.01e-09 \u001b[0m |\n",
      "| \u001b[95m9        \u001b[0m | \u001b[95m6.89e+03 \u001b[0m | \u001b[95m3.83     \u001b[0m | \u001b[95m1e-08    \u001b[0m |\n",
      "| \u001b[0m10       \u001b[0m | \u001b[0m6.89e+03 \u001b[0m | \u001b[0m3.517    \u001b[0m | \u001b[0m1e-12    \u001b[0m |\n",
      "| \u001b[0m11       \u001b[0m | \u001b[0m6.78e+03 \u001b[0m | \u001b[0m2.0      \u001b[0m | \u001b[0m2.994e-09\u001b[0m |\n",
      "| \u001b[0m12       \u001b[0m | \u001b[0m6.89e+03 \u001b[0m | \u001b[0m3.67     \u001b[0m | \u001b[0m1e-08    \u001b[0m |\n",
      "| \u001b[0m13       \u001b[0m | \u001b[0m6.82e+03 \u001b[0m | \u001b[0m5.583    \u001b[0m | \u001b[0m1e-08    \u001b[0m |\n",
      "| \u001b[0m14       \u001b[0m | \u001b[0m6.89e+03 \u001b[0m | \u001b[0m3.384    \u001b[0m | \u001b[0m6.705e-09\u001b[0m |\n",
      "| \u001b[0m15       \u001b[0m | \u001b[0m6.89e+03 \u001b[0m | \u001b[0m3.759    \u001b[0m | \u001b[0m8.354e-09\u001b[0m |\n",
      "| \u001b[0m16       \u001b[0m | \u001b[0m6.89e+03 \u001b[0m | \u001b[0m3.441    \u001b[0m | \u001b[0m1e-08    \u001b[0m |\n",
      "| \u001b[0m17       \u001b[0m | \u001b[0m6.89e+03 \u001b[0m | \u001b[0m3.594    \u001b[0m | \u001b[0m1e-12    \u001b[0m |\n",
      "| \u001b[0m18       \u001b[0m | \u001b[0m6.89e+03 \u001b[0m | \u001b[0m3.894    \u001b[0m | \u001b[0m3.23e-09 \u001b[0m |\n",
      "| \u001b[0m19       \u001b[0m | \u001b[0m6.89e+03 \u001b[0m | \u001b[0m3.322    \u001b[0m | \u001b[0m2.508e-09\u001b[0m |\n",
      "| \u001b[0m20       \u001b[0m | \u001b[0m6.89e+03 \u001b[0m | \u001b[0m3.351    \u001b[0m | \u001b[0m1e-12    \u001b[0m |\n",
      "| \u001b[0m21       \u001b[0m | \u001b[0m6.89e+03 \u001b[0m | \u001b[0m3.863    \u001b[0m | \u001b[0m5.349e-10\u001b[0m |\n",
      "| \u001b[0m22       \u001b[0m | \u001b[0m6.89e+03 \u001b[0m | \u001b[0m3.714    \u001b[0m | \u001b[0m1e-12    \u001b[0m |\n",
      "| \u001b[0m23       \u001b[0m | \u001b[0m6.89e+03 \u001b[0m | \u001b[0m3.935    \u001b[0m | \u001b[0m8.728e-09\u001b[0m |\n",
      "| \u001b[0m24       \u001b[0m | \u001b[0m6.89e+03 \u001b[0m | \u001b[0m3.281    \u001b[0m | \u001b[0m1e-08    \u001b[0m |\n",
      "=================================================\n"
     ],
     "output_type":"stream"
    },
    {
     "name":"stderr",
     "text":[
      "\r  0%|          | 0\/4 [00:00<?, ?it\/s]\r 25%|██▌       | 1\/4 [00:00<00:00,  8.81it\/s]\r 75%|███████▌  | 3\/4 [00:00<00:00, 11.67it\/s]\r100%|██████████| 4\/4 [00:00<00:00, 13.43it\/s]\n",
      "\r  0%|          | 0\/6 [00:00<?, ?it\/s]\r 17%|█▋        | 1\/6 [00:00<00:00,  6.07it\/s]\r 33%|███▎      | 2\/6 [00:00<00:00,  6.50it\/s]\r 50%|█████     | 3\/6 [00:00<00:00,  7.23it\/s]\r 83%|████████▎ | 5\/6 [00:00<00:00,  9.70it\/s]\r100%|██████████| 6\/6 [00:00<00:00,  9.75it\/s]\n",
      "\r  0%|          | 0\/2 [00:00<?, ?it\/s]\r100%|██████████| 2\/2 [00:00<00:00, 24.13it\/s]\n",
      "\r  0%|          | 0\/2 [00:00<?, ?it\/s]\r100%|██████████| 2\/2 [00:00<00:00, 23.74it\/s]\n",
      "\r  0%|          | 0\/8 [00:00<?, ?it\/s]\r 12%|█▎        | 1\/8 [00:00<00:01,  4.61it\/s]\r 25%|██▌       | 2\/8 [00:00<00:01,  4.78it\/s]\r 38%|███▊      | 3\/8 [00:00<00:00,  5.13it\/s]\r 50%|█████     | 4\/8 [00:00<00:00,  5.65it\/s]\r 62%|██████▎   | 5\/8 [00:00<00:00,  6.36it\/s]\r 88%|████████▊ | 7\/8 [00:01<00:00,  8.59it\/s]\r100%|██████████| 8\/8 [00:01<00:00,  7.57it\/s]\n",
      "\r  0%|          | 0\/5 [00:00<?, ?it\/s]\r 20%|██        | 1\/5 [00:00<00:00,  7.35it\/s]\r 40%|████      | 2\/5 [00:00<00:00,  8.00it\/s]\r 80%|████████  | 4\/5 [00:00<00:00, 10.72it\/s]\r100%|██████████| 5\/5 [00:00<00:00, 11.52it\/s]\n",
      "\r  0%|          | 0\/4 [00:00<?, ?it\/s]\r 25%|██▌       | 1\/4 [00:00<00:00,  9.14it\/s]\r 75%|███████▌  | 3\/4 [00:00<00:00, 12.06it\/s]\r100%|██████████| 4\/4 [00:00<00:00, 13.85it\/s]\n",
      "\r  0%|          | 0\/4 [00:00<?, ?it\/s]\r 25%|██▌       | 1\/4 [00:00<00:00,  9.19it\/s]\r 75%|███████▌  | 3\/4 [00:00<00:00, 12.08it\/s]\r100%|██████████| 4\/4 [00:00<00:00, 13.89it\/s]\n",
      "\r  0%|          | 0\/3 [00:00<?, ?it\/s]\r 67%|██████▋   | 2\/3 [00:00<00:00, 13.74it\/s]\r100%|██████████| 3\/3 [00:00<00:00, 16.89it\/s]\n",
      "\r  0%|          | 0\/3 [00:00<?, ?it\/s]\r 67%|██████▋   | 2\/3 [00:00<00:00, 14.31it\/s]\r100%|██████████| 3\/3 [00:00<00:00, 17.55it\/s]\n",
      "\r  0%|          | 0\/2 [00:00<?, ?it\/s]\r100%|██████████| 2\/2 [00:00<00:00, 23.79it\/s]\n",
      "\r  0%|          | 0\/3 [00:00<?, ?it\/s]\r 67%|██████▋   | 2\/3 [00:00<00:00, 14.41it\/s]\r100%|██████████| 3\/3 [00:00<00:00, 17.69it\/s]\n",
      "\r  0%|          | 0\/5 [00:00<?, ?it\/s]\r 20%|██        | 1\/5 [00:00<00:00,  6.48it\/s]\r 40%|████      | 2\/5 [00:00<00:00,  7.18it\/s]\r 60%|██████    | 3\/5 [00:00<00:00,  8.00it\/s]\r100%|██████████| 5\/5 [00:00<00:00, 10.28it\/s]\n",
      "\r  0%|          | 0\/3 [00:00<?, ?it\/s]\r 33%|███▎      | 1\/3 [00:00<00:00,  4.34it\/s]\r 67%|██████▋   | 2\/3 [00:00<00:00,  5.13it\/s]\r100%|██████████| 3\/3 [00:00<00:00,  6.09it\/s]\n",
      "\r  0%|          | 0\/3 [00:00<?, ?it\/s]\r 67%|██████▋   | 2\/3 [00:00<00:00, 14.48it\/s]\r100%|██████████| 3\/3 [00:00<00:00, 17.73it\/s]\n",
      "\r  0%|          | 0\/3 [00:00<?, ?it\/s]\r 67%|██████▋   | 2\/3 [00:00<00:00, 14.36it\/s]\r100%|██████████| 3\/3 [00:00<00:00, 17.61it\/s]\n",
      "\r  0%|          | 0\/3 [00:00<?, ?it\/s]\r 33%|███▎      | 1\/3 [00:00<00:00,  4.17it\/s]\r 67%|██████▋   | 2\/3 [00:00<00:00,  5.18it\/s]\r100%|██████████| 3\/3 [00:00<00:00,  6.10it\/s]\n",
      "\r  0%|          | 0\/3 [00:00<?, ?it\/s]\r 33%|███▎      | 1\/3 [00:00<00:00,  4.23it\/s]\r 67%|██████▋   | 2\/3 [00:00<00:00,  5.05it\/s]\r100%|██████████| 3\/3 [00:00<00:00,  6.09it\/s]\n",
      "\r  0%|          | 0\/3 [00:00<?, ?it\/s]\r 67%|██████▋   | 2\/3 [00:00<00:00, 13.81it\/s]\r100%|██████████| 3\/3 [00:00<00:00, 16.97it\/s]\n",
      "\r  0%|          | 0\/3 [00:00<?, ?it\/s]\r 67%|██████▋   | 2\/3 [00:00<00:00, 13.89it\/s]\r100%|██████████| 3\/3 [00:00<00:00, 17.06it\/s]\n",
      "\r  0%|          | 0\/3 [00:00<?, ?it\/s]\r 33%|███▎      | 1\/3 [00:00<00:00,  4.42it\/s]\r 67%|██████▋   | 2\/3 [00:00<00:00,  5.16it\/s]\r100%|██████████| 3\/3 [00:00<00:00,  6.14it\/s]\n",
      "\r  0%|          | 0\/3 [00:00<?, ?it\/s]\r 33%|███▎      | 1\/3 [00:00<00:00,  4.53it\/s]\r 67%|██████▋   | 2\/3 [00:00<00:00,  5.43it\/s]\r100%|██████████| 3\/3 [00:00<00:00,  6.30it\/s]\n",
      "\r  0%|          | 0\/3 [00:00<?, ?it\/s]\r 33%|███▎      | 1\/3 [00:00<00:00,  4.27it\/s]\r 67%|██████▋   | 2\/3 [00:00<00:00,  5.01it\/s]\r100%|██████████| 3\/3 [00:00<00:00,  5.97it\/s]\n",
      "\r  0%|          | 0\/3 [00:00<?, ?it\/s]\r 67%|██████▋   | 2\/3 [00:00<00:00, 13.92it\/s]\r100%|██████████| 3\/3 [00:00<00:00, 17.08it\/s]\n"
     ],
     "output_type":"stream"
    }
   ],
   "metadata":{
    "datalore":{
     "node_id":"BbaEHJKrUbyLRYgoHYYMnt",
     "type":"CODE",
     "hide_input_from_viewers":true,
     "hide_output_from_viewers":true
    }
   }
  },
  {
   "cell_type":"code",
   "source":[
    "print(f'best_hyperparams_nb : {best_hyperparams_nb_2}, accuracy_nb_2 : {accuracy_nb_2}')"
   ],
   "execution_count":53,
   "outputs":[
    {
     "name":"stdout",
     "text":[
      "best_hyperparams_nb : {'n': 3.8299234636966686, 'var_smoothing': 1e-08}, accuracy_nb_2 : 6890.0\n"
     ],
     "output_type":"stream"
    }
   ],
   "metadata":{
    "datalore":{
     "node_id":"gXS9JaKk2ZkhgaWH6T4heX",
     "type":"CODE",
     "hide_input_from_viewers":true,
     "hide_output_from_viewers":true
    }
   }
  },
  {
   "cell_type":"markdown",
   "source":[
    "### Random Forest + correlation + permutation"
   ],
   "attachments":{},
   "metadata":{
    "datalore":{
     "node_id":"TFDUq0N4OSAS0WZLrDPYpo",
     "type":"MD",
     "hide_input_from_viewers":true,
     "hide_output_from_viewers":true
    }
   }
  },
  {
   "cell_type":"code",
   "source":[
    "from sklearn.model_selection import train_test_split\n",
    "from bayes_opt import BayesianOptimization\n",
    "from sklearn.ensemble import RandomForestClassifier\n",
    "\n",
    "X_train = x_train.copy()\n",
    "Y_train = y_train.copy()\n",
    "\n",
    "def objective_function_RF(n, n_estimators, max_depth, min_samples_split, min_samples_leaf):\n",
    "    \n",
    "    n = int(n)\n",
    "    n_estimators = int(n_estimators)\n",
    "    max_depth = int(max_depth)\n",
    "    min_samples_split = int(min_samples_split)\n",
    "    min_samples_leaf = int(min_samples_leaf)\n",
    "\n",
    "    model = RandomForestClassifier(n_estimators=n_estimators,\n",
    "                                   max_depth=max_depth,\n",
    "                                   min_samples_split=min_samples_split,\n",
    "                                   min_samples_leaf=min_samples_leaf,\n",
    "                                   random_state=42)\n",
    "    vars_nocorr = select_vars_correlation(X_train, Y_train)\n",
    "    selected_vars = select_vars_permutation(\n",
    "        X_train[vars_nocorr], Y_train, model, top_n=n, random_state=3)\n",
    "\n",
    "    score_adaptive = train_cv(model, X_train[selected_vars], Y_train, 5, calculate_score_adaptive)\n",
    "    return score_adaptive\n",
    "\n",
    "pbounds = {\n",
    "    'n': (2, 8),\n",
    "    'n_estimators': (1, 200),  \n",
    "    'max_depth': (5, 40),\n",
    "    'min_samples_split': (2, 20),\n",
    "    'min_samples_leaf': (1, 10)\n",
    "}\n",
    "\n",
    "optimizer = BayesianOptimization(\n",
    "    f=objective_function_RF,\n",
    "    pbounds=pbounds,\n",
    "    random_state=42\n",
    ")\n",
    "optimizer.maximize(\n",
    "    init_points=4,\n",
    "    n_iter=20\n",
    ")\n",
    "\n",
    "best_hyperparams_rf = optimizer.max['params']\n",
    "accuracy_rf = optimizer.max['target']"
   ],
   "execution_count":34,
   "outputs":[
    {
     "name":"stdout",
     "text":[
      "|   iter    |  target   | max_depth | min_sa... | min_sa... |     n     | n_esti... |\n",
      "-------------------------------------------------------------------------------------\n",
      "| \u001b[0m1        \u001b[0m | \u001b[0m6.3e+03  \u001b[0m | \u001b[0m18.11    \u001b[0m | \u001b[0m9.556    \u001b[0m | \u001b[0m15.18    \u001b[0m | \u001b[0m5.592    \u001b[0m | \u001b[0m32.05    \u001b[0m |\n",
      "| \u001b[0m2        \u001b[0m | \u001b[0m6.24e+03 \u001b[0m | \u001b[0m10.46    \u001b[0m | \u001b[0m1.523    \u001b[0m | \u001b[0m17.59    \u001b[0m | \u001b[0m5.607    \u001b[0m | \u001b[0m141.9    \u001b[0m |\n",
      "| \u001b[95m3        \u001b[0m | \u001b[95m6.42e+03 \u001b[0m | \u001b[95m5.72     \u001b[0m | \u001b[95m9.729    \u001b[0m | \u001b[95m16.98    \u001b[0m | \u001b[95m3.274    \u001b[0m | \u001b[95m37.18    \u001b[0m |\n",
      "| \u001b[95m4        \u001b[0m | \u001b[95m6.48e+03 \u001b[0m | \u001b[95m11.42    \u001b[0m | \u001b[95m3.738    \u001b[0m | \u001b[95m11.45    \u001b[0m | \u001b[95m4.592    \u001b[0m | \u001b[95m58.95    \u001b[0m |\n",
      "| \u001b[0m5        \u001b[0m | \u001b[0m6.01e+03 \u001b[0m | \u001b[0m18.55    \u001b[0m | \u001b[0m7.22     \u001b[0m | \u001b[0m6.645    \u001b[0m | \u001b[0m6.992    \u001b[0m | \u001b[0m122.4    \u001b[0m |\n",
      "| \u001b[95m6        \u001b[0m | \u001b[95m6.5e+03  \u001b[0m | \u001b[95m10.92    \u001b[0m | \u001b[95m5.336    \u001b[0m | \u001b[95m10.98    \u001b[0m | \u001b[95m4.833    \u001b[0m | \u001b[95m58.3     \u001b[0m |\n",
      "| \u001b[0m7        \u001b[0m | \u001b[0m5.8e+03  \u001b[0m | \u001b[0m5.0      \u001b[0m | \u001b[0m10.0     \u001b[0m | \u001b[0m2.0      \u001b[0m | \u001b[0m8.0      \u001b[0m | \u001b[0m71.89    \u001b[0m |\n",
      "| \u001b[95m8        \u001b[0m | \u001b[95m6.58e+03 \u001b[0m | \u001b[95m12.4     \u001b[0m | \u001b[95m8.104    \u001b[0m | \u001b[95m19.0     \u001b[0m | \u001b[95m2.0      \u001b[0m | \u001b[95m50.78    \u001b[0m |\n",
      "| \u001b[0m9        \u001b[0m | \u001b[0m6.35e+03 \u001b[0m | \u001b[0m27.11    \u001b[0m | \u001b[0m10.0     \u001b[0m | \u001b[0m11.75    \u001b[0m | \u001b[0m2.0      \u001b[0m | \u001b[0m53.68    \u001b[0m |\n",
      "| \u001b[0m10       \u001b[0m | \u001b[0m6.4e+03  \u001b[0m | \u001b[0m8.499    \u001b[0m | \u001b[0m1.083    \u001b[0m | \u001b[0m6.84     \u001b[0m | \u001b[0m3.564    \u001b[0m | \u001b[0m46.6     \u001b[0m |\n",
      "| \u001b[0m11       \u001b[0m | \u001b[0m5.68e+03 \u001b[0m | \u001b[0m5.0      \u001b[0m | \u001b[0m10.0     \u001b[0m | \u001b[0m20.0     \u001b[0m | \u001b[0m8.0      \u001b[0m | \u001b[0m54.01    \u001b[0m |\n",
      "| \u001b[0m12       \u001b[0m | \u001b[0m6.32e+03 \u001b[0m | \u001b[0m14.13    \u001b[0m | \u001b[0m5.745    \u001b[0m | \u001b[0m14.02    \u001b[0m | \u001b[0m2.0      \u001b[0m | \u001b[0m52.5     \u001b[0m |\n",
      "| \u001b[0m13       \u001b[0m | \u001b[0m6.22e+03 \u001b[0m | \u001b[0m16.51    \u001b[0m | \u001b[0m7.28     \u001b[0m | \u001b[0m19.15    \u001b[0m | \u001b[0m2.712    \u001b[0m | \u001b[0m46.81    \u001b[0m |\n",
      "| \u001b[0m14       \u001b[0m | \u001b[0m6.5e+03  \u001b[0m | \u001b[0m14.45    \u001b[0m | \u001b[0m9.185    \u001b[0m | \u001b[0m20.0     \u001b[0m | \u001b[0m2.0      \u001b[0m | \u001b[0m54.3     \u001b[0m |\n",
      "| \u001b[0m15       \u001b[0m | \u001b[0m6.58e+03 \u001b[0m | \u001b[0m13.41    \u001b[0m | \u001b[0m8.205    \u001b[0m | \u001b[0m14.36    \u001b[0m | \u001b[0m2.0      \u001b[0m | \u001b[0m60.46    \u001b[0m |\n",
      "| \u001b[0m16       \u001b[0m | \u001b[0m6.28e+03 \u001b[0m | \u001b[0m16.34    \u001b[0m | \u001b[0m8.271    \u001b[0m | \u001b[0m10.63    \u001b[0m | \u001b[0m5.055    \u001b[0m | \u001b[0m61.35    \u001b[0m |\n",
      "| \u001b[0m17       \u001b[0m | \u001b[0m6.53e+03 \u001b[0m | \u001b[0m11.99    \u001b[0m | \u001b[0m4.99     \u001b[0m | \u001b[0m17.99    \u001b[0m | \u001b[0m2.0      \u001b[0m | \u001b[0m59.21    \u001b[0m |\n",
      "| \u001b[0m18       \u001b[0m | \u001b[0m6.52e+03 \u001b[0m | \u001b[0m8.721    \u001b[0m | \u001b[0m6.612    \u001b[0m | \u001b[0m14.06    \u001b[0m | \u001b[0m2.0      \u001b[0m | \u001b[0m63.16    \u001b[0m |\n",
      "| \u001b[0m19       \u001b[0m | \u001b[0m6.41e+03 \u001b[0m | \u001b[0m11.98    \u001b[0m | \u001b[0m2.792    \u001b[0m | \u001b[0m18.78    \u001b[0m | \u001b[0m2.178    \u001b[0m | \u001b[0m66.01    \u001b[0m |\n",
      "| \u001b[95m20       \u001b[0m | \u001b[95m6.61e+03 \u001b[0m | \u001b[95m5.428    \u001b[0m | \u001b[95m3.94     \u001b[0m | \u001b[95m7.736    \u001b[0m | \u001b[95m3.255    \u001b[0m | \u001b[95m57.25    \u001b[0m |\n",
      "| \u001b[0m21       \u001b[0m | \u001b[0m6.58e+03 \u001b[0m | \u001b[0m8.525    \u001b[0m | \u001b[0m6.859    \u001b[0m | \u001b[0m2.684    \u001b[0m | \u001b[0m4.961    \u001b[0m | \u001b[0m54.2     \u001b[0m |\n",
      "| \u001b[0m22       \u001b[0m | \u001b[0m6.57e+03 \u001b[0m | \u001b[0m5.0      \u001b[0m | \u001b[0m10.0     \u001b[0m | \u001b[0m5.856    \u001b[0m | \u001b[0m2.0      \u001b[0m | \u001b[0m56.13    \u001b[0m |\n",
      "| \u001b[0m23       \u001b[0m | \u001b[0m6.49e+03 \u001b[0m | \u001b[0m5.0      \u001b[0m | \u001b[0m1.318    \u001b[0m | \u001b[0m2.0      \u001b[0m | \u001b[0m2.0      \u001b[0m | \u001b[0m55.21    \u001b[0m |\n",
      "| \u001b[0m24       \u001b[0m | \u001b[0m6.59e+03 \u001b[0m | \u001b[0m5.0      \u001b[0m | \u001b[0m10.0     \u001b[0m | \u001b[0m2.0      \u001b[0m | \u001b[0m2.0      \u001b[0m | \u001b[0m48.6     \u001b[0m |\n",
      "=====================================================================================\n"
     ],
     "output_type":"stream"
    }
   ],
   "metadata":{
    "datalore":{
     "node_id":"4gMsPnqpnsmsgZBlJhWjJr",
     "type":"CODE",
     "hide_input_from_viewers":true,
     "hide_output_from_viewers":true
    }
   }
  },
  {
   "cell_type":"code",
   "source":[
    "print(f'best_hyperparams_rf : {best_hyperparams_rf}, accuracy_rf : {accuracy_rf}')"
   ],
   "execution_count":35,
   "outputs":[
    {
     "name":"stdout",
     "text":[
      "best_hyperparams_rf : {'max_depth': 5.428314747226141, 'min_samples_leaf': 3.9396751403403734, 'min_samples_split': 7.736338347630299, 'n': 3.2552774252258088, 'n_estimators': 57.251577465650364}, accuracy_rf : 6610.0\n"
     ],
     "output_type":"stream"
    }
   ],
   "metadata":{
    "datalore":{
     "node_id":"uLxb1Mt7cjHvPAdjxf7Qoc",
     "type":"CODE",
     "hide_input_from_viewers":true,
     "hide_output_from_viewers":true
    }
   }
  },
  {
   "cell_type":"code",
   "source":[
    "X_train = x_train.copy()\n",
    "Y_train = y_train.copy()\n",
    "\n",
    "def objective_function_RF(n, n_estimators, max_depth, min_samples_split, min_samples_leaf):\n",
    "    \n",
    "    n = int(n)\n",
    "    n_estimators = int(n_estimators)\n",
    "    max_depth = int(max_depth)\n",
    "    min_samples_split = int(min_samples_split)\n",
    "    min_samples_leaf = int(min_samples_leaf)\n",
    "\n",
    "    model = RandomForestClassifier(n_estimators=n_estimators,\n",
    "                                   max_depth=max_depth,\n",
    "                                   min_samples_split=min_samples_split,\n",
    "                                   min_samples_leaf=min_samples_leaf,\n",
    "                                   random_state=42)\n",
    "    vars_nocorr = select_vars_correlation(X_train, Y_train)\n",
    "    selected_vars = select_vars_permutation(\n",
    "        X_train[vars_nocorr], Y_train, model, top_n=n, random_state=3)\n",
    "\n",
    "    score_adaptive = train_cv(model_permutation, X_train[selected_vars], Y_train, 5, calculate_score_adaptive)\n",
    "    return score_adaptive\n",
    "\n",
    "pbounds = {\n",
    "    'n': (2, 8),\n",
    "    'n_estimators': (1, 200),  \n",
    "    'max_depth': (5, 40),\n",
    "    'min_samples_split': (2, 20),\n",
    "    'min_samples_leaf': (1, 10)\n",
    "}\n",
    "\n",
    "optimizer = BayesianOptimization(\n",
    "    f=objective_function_RF,\n",
    "    pbounds=pbounds,\n",
    "    random_state=42\n",
    ")\n",
    "optimizer.maximize(\n",
    "    init_points=4,\n",
    "    n_iter=20\n",
    ")\n",
    "\n",
    "best_hyperparams_rf_cv = optimizer.max['params']\n",
    "accuracy_rf_cv = optimizer.max['target']"
   ],
   "execution_count":40,
   "outputs":[
    {
     "name":"stdout",
     "text":[
      "|   iter    |  target   | max_depth | min_sa... | min_sa... |     n     | n_esti... |\n",
      "-------------------------------------------------------------------------------------\n",
      "| \u001b[0m1        \u001b[0m | \u001b[0m6.67e+03 \u001b[0m | \u001b[0m18.11    \u001b[0m | \u001b[0m9.556    \u001b[0m | \u001b[0m15.18    \u001b[0m | \u001b[0m5.592    \u001b[0m | \u001b[0m32.05    \u001b[0m |\n",
      "| \u001b[0m2        \u001b[0m | \u001b[0m6.67e+03 \u001b[0m | \u001b[0m10.46    \u001b[0m | \u001b[0m1.523    \u001b[0m | \u001b[0m17.59    \u001b[0m | \u001b[0m5.607    \u001b[0m | \u001b[0m141.9    \u001b[0m |\n",
      "| \u001b[95m3        \u001b[0m | \u001b[95m6.86e+03 \u001b[0m | \u001b[95m5.72     \u001b[0m | \u001b[95m9.729    \u001b[0m | \u001b[95m16.98    \u001b[0m | \u001b[95m3.274    \u001b[0m | \u001b[95m37.18    \u001b[0m |\n",
      "| \u001b[0m4        \u001b[0m | \u001b[0m6.8e+03  \u001b[0m | \u001b[0m11.42    \u001b[0m | \u001b[0m3.738    \u001b[0m | \u001b[0m11.45    \u001b[0m | \u001b[0m4.592    \u001b[0m | \u001b[0m58.95    \u001b[0m |\n",
      "| \u001b[0m5        \u001b[0m | \u001b[0m6.31e+03 \u001b[0m | \u001b[0m18.55    \u001b[0m | \u001b[0m7.22     \u001b[0m | \u001b[0m6.645    \u001b[0m | \u001b[0m6.992    \u001b[0m | \u001b[0m122.4    \u001b[0m |\n",
      "| \u001b[0m6        \u001b[0m | \u001b[0m6.81e+03 \u001b[0m | \u001b[0m10.92    \u001b[0m | \u001b[0m5.336    \u001b[0m | \u001b[0m10.98    \u001b[0m | \u001b[0m4.833    \u001b[0m | \u001b[0m58.3     \u001b[0m |\n",
      "| \u001b[95m7        \u001b[0m | \u001b[95m6.89e+03 \u001b[0m | \u001b[95m5.0      \u001b[0m | \u001b[95m1.0      \u001b[0m | \u001b[95m20.0     \u001b[0m | \u001b[95m3.038    \u001b[0m | \u001b[95m178.1    \u001b[0m |\n",
      "| \u001b[0m8        \u001b[0m | \u001b[0m4.33e+03 \u001b[0m | \u001b[0m26.65    \u001b[0m | \u001b[0m1.0      \u001b[0m | \u001b[0m20.0     \u001b[0m | \u001b[0m8.0      \u001b[0m | \u001b[0m193.6    \u001b[0m |\n",
      "| \u001b[0m9        \u001b[0m | \u001b[0m6.8e+03  \u001b[0m | \u001b[0m5.011    \u001b[0m | \u001b[0m1.562    \u001b[0m | \u001b[0m2.193    \u001b[0m | \u001b[0m4.924    \u001b[0m | \u001b[0m161.7    \u001b[0m |\n",
      "| \u001b[0m10       \u001b[0m | \u001b[0m5.45e+03 \u001b[0m | \u001b[0m6.472    \u001b[0m | \u001b[0m1.702    \u001b[0m | \u001b[0m2.709    \u001b[0m | \u001b[0m7.925    \u001b[0m | \u001b[0m1.047    \u001b[0m |\n",
      "| \u001b[0m11       \u001b[0m | \u001b[0m6.55e+03 \u001b[0m | \u001b[0m40.0     \u001b[0m | \u001b[0m10.0     \u001b[0m | \u001b[0m20.0     \u001b[0m | \u001b[0m2.0      \u001b[0m | \u001b[0m60.1     \u001b[0m |\n",
      "| \u001b[0m12       \u001b[0m | \u001b[0m6.68e+03 \u001b[0m | \u001b[0m5.024    \u001b[0m | \u001b[0m9.486    \u001b[0m | \u001b[0m16.67    \u001b[0m | \u001b[0m5.939    \u001b[0m | \u001b[0m85.39    \u001b[0m |\n",
      "| \u001b[0m13       \u001b[0m | \u001b[0m6.73e+03 \u001b[0m | \u001b[0m40.0     \u001b[0m | \u001b[0m10.0     \u001b[0m | \u001b[0m2.0      \u001b[0m | \u001b[0m2.0      \u001b[0m | \u001b[0m88.1     \u001b[0m |\n",
      "| \u001b[0m14       \u001b[0m | \u001b[0m5.82e+03 \u001b[0m | \u001b[0m40.0     \u001b[0m | \u001b[0m1.0      \u001b[0m | \u001b[0m2.0      \u001b[0m | \u001b[0m2.0      \u001b[0m | \u001b[0m41.01    \u001b[0m |\n",
      "| \u001b[0m15       \u001b[0m | \u001b[0m5.45e+03 \u001b[0m | \u001b[0m30.39    \u001b[0m | \u001b[0m1.0      \u001b[0m | \u001b[0m20.0     \u001b[0m | \u001b[0m8.0      \u001b[0m | \u001b[0m86.53    \u001b[0m |\n",
      "| \u001b[0m16       \u001b[0m | \u001b[0m6.73e+03 \u001b[0m | \u001b[0m5.0      \u001b[0m | \u001b[0m9.859    \u001b[0m | \u001b[0m20.0     \u001b[0m | \u001b[0m2.0      \u001b[0m | \u001b[0m162.3    \u001b[0m |\n",
      "| \u001b[0m17       \u001b[0m | \u001b[0m6.78e+03 \u001b[0m | \u001b[0m5.0      \u001b[0m | \u001b[0m10.0     \u001b[0m | \u001b[0m2.0      \u001b[0m | \u001b[0m2.0      \u001b[0m | \u001b[0m73.61    \u001b[0m |\n",
      "| \u001b[0m18       \u001b[0m | \u001b[0m6.73e+03 \u001b[0m | \u001b[0m28.82    \u001b[0m | \u001b[0m10.0     \u001b[0m | \u001b[0m2.0      \u001b[0m | \u001b[0m2.0      \u001b[0m | \u001b[0m151.5    \u001b[0m |\n",
      "| \u001b[0m19       \u001b[0m | \u001b[0m6.27e+03 \u001b[0m | \u001b[0m40.0     \u001b[0m | \u001b[0m1.0      \u001b[0m | \u001b[0m20.0     \u001b[0m | \u001b[0m2.0      \u001b[0m | \u001b[0m142.4    \u001b[0m |\n",
      "| \u001b[0m20       \u001b[0m | \u001b[0m6.18e+03 \u001b[0m | \u001b[0m5.0      \u001b[0m | \u001b[0m1.0      \u001b[0m | \u001b[0m2.0      \u001b[0m | \u001b[0m8.0      \u001b[0m | \u001b[0m43.03    \u001b[0m |\n",
      "| \u001b[0m21       \u001b[0m | \u001b[0m6.73e+03 \u001b[0m | \u001b[0m5.0      \u001b[0m | \u001b[0m10.0     \u001b[0m | \u001b[0m2.0      \u001b[0m | \u001b[0m2.0      \u001b[0m | \u001b[0m144.2    \u001b[0m |\n",
      "| \u001b[0m22       \u001b[0m | \u001b[0m6.78e+03 \u001b[0m | \u001b[0m5.0      \u001b[0m | \u001b[0m10.0     \u001b[0m | \u001b[0m20.0     \u001b[0m | \u001b[0m2.0      \u001b[0m | \u001b[0m65.68    \u001b[0m |\n",
      "| \u001b[0m23       \u001b[0m | \u001b[0m6.78e+03 \u001b[0m | \u001b[0m5.0      \u001b[0m | \u001b[0m10.0     \u001b[0m | \u001b[0m2.0      \u001b[0m | \u001b[0m2.0      \u001b[0m | \u001b[0m99.61    \u001b[0m |\n",
      "| \u001b[0m24       \u001b[0m | \u001b[0m5.65e+03 \u001b[0m | \u001b[0m40.0     \u001b[0m | \u001b[0m10.0     \u001b[0m | \u001b[0m20.0     \u001b[0m | \u001b[0m2.0      \u001b[0m | \u001b[0m1.0      \u001b[0m |\n",
      "=====================================================================================\n"
     ],
     "output_type":"stream"
    }
   ],
   "metadata":{
    "datalore":{
     "node_id":"r26eRML0DS78gN7oK9FW1V",
     "type":"CODE",
     "hide_input_from_viewers":true,
     "hide_output_from_viewers":true
    }
   }
  },
  {
   "cell_type":"code",
   "source":[
    "print(f'best_hyperparams_rf_cv : {best_hyperparams_rf_cv}, accuracy_rf_cv : {accuracy_rf_cv}')"
   ],
   "execution_count":41,
   "outputs":[
    {
     "name":"stdout",
     "text":[
      "best_hyperparams_rf_cv : {'max_depth': 5.0, 'min_samples_leaf': 1.0, 'min_samples_split': 20.0, 'n': 3.037651383360064, 'n_estimators': 178.14560292256616}, accuracy_rf_cv : 6890.0\n"
     ],
     "output_type":"stream"
    }
   ],
   "metadata":{
    "datalore":{
     "node_id":"UPoq663SwGqOYKL6F7pRhE",
     "type":"CODE",
     "hide_input_from_viewers":true,
     "hide_output_from_viewers":true
    }
   }
  },
  {
   "cell_type":"markdown",
   "source":[
    "### Random Forest + permutation"
   ],
   "attachments":{},
   "metadata":{
    "datalore":{
     "node_id":"ruYPCMkRWaIAYWViWaEXA6",
     "type":"MD",
     "hide_input_from_viewers":true,
     "hide_output_from_viewers":true
    }
   }
  },
  {
   "cell_type":"code",
   "source":[
    "from sklearn.model_selection import train_test_split\n",
    "from bayes_opt import BayesianOptimization\n",
    "from sklearn.ensemble import RandomForestClassifier\n",
    "\n",
    "X_train = x_train.copy()\n",
    "Y_train = y_train.copy()\n",
    "\n",
    "def objective_function_RF_2(n, n_estimators, max_depth, min_samples_split, min_samples_leaf):\n",
    "    \n",
    "    n = int(n)\n",
    "    n_estimators = int(n_estimators)\n",
    "    max_depth = int(max_depth)\n",
    "    min_samples_split = int(min_samples_split)\n",
    "    min_samples_leaf = int(min_samples_leaf)\n",
    "\n",
    "    model = RandomForestClassifier(n_estimators=n_estimators,\n",
    "                                   max_depth=max_depth,\n",
    "                                   min_samples_split=min_samples_split,\n",
    "                                   min_samples_leaf=min_samples_leaf,\n",
    "                                   random_state=42)\n",
    "    selected_vars = select_vars_permutation(\n",
    "        X_train, Y_train, model, top_n=n, random_state=3)\n",
    "    score_adaptive = train_cv(model, X_train[selected_vars], Y_train, 5, calculate_score_adaptive)\n",
    "    return score_adaptive\n",
    "\n",
    "pbounds = {\n",
    "    'n': (2, 8),\n",
    "    'n_estimators': (1, 200),  \n",
    "    'max_depth': (5, 40),\n",
    "    'min_samples_split': (2, 20),\n",
    "    'min_samples_leaf': (1, 10)\n",
    "}\n",
    "optimizer = BayesianOptimization(\n",
    "    f=objective_function_RF_2,\n",
    "    pbounds=pbounds,\n",
    "    random_state=42\n",
    ")\n",
    "optimizer.maximize(\n",
    "    init_points=4,\n",
    "    n_iter=20\n",
    ")\n",
    "\n",
    "best_hyperparams_rf_2 = optimizer.max['params']\n",
    "accuracy_rf_2 = optimizer.max['target']"
   ],
   "execution_count":36,
   "outputs":[
    {
     "name":"stdout",
     "text":[
      "|   iter    |  target   | max_depth | min_sa... | min_sa... |     n     | n_esti... |\n",
      "-------------------------------------------------------------------------------------\n",
      "| \u001b[0m1        \u001b[0m | \u001b[0m6.36e+03 \u001b[0m | \u001b[0m18.11    \u001b[0m | \u001b[0m9.556    \u001b[0m | \u001b[0m15.18    \u001b[0m | \u001b[0m5.592    \u001b[0m | \u001b[0m32.05    \u001b[0m |\n",
      "| \u001b[0m2        \u001b[0m | \u001b[0m6.24e+03 \u001b[0m | \u001b[0m10.46    \u001b[0m | \u001b[0m1.523    \u001b[0m | \u001b[0m17.59    \u001b[0m | \u001b[0m5.607    \u001b[0m | \u001b[0m141.9    \u001b[0m |\n",
      "| \u001b[95m3        \u001b[0m | \u001b[95m6.74e+03 \u001b[0m | \u001b[95m5.72     \u001b[0m | \u001b[95m9.729    \u001b[0m | \u001b[95m16.98    \u001b[0m | \u001b[95m3.274    \u001b[0m | \u001b[95m37.18    \u001b[0m |\n",
      "| \u001b[0m4        \u001b[0m | \u001b[0m6.23e+03 \u001b[0m | \u001b[0m11.42    \u001b[0m | \u001b[0m3.738    \u001b[0m | \u001b[0m11.45    \u001b[0m | \u001b[0m4.592    \u001b[0m | \u001b[0m58.95    \u001b[0m |\n",
      "| \u001b[0m5        \u001b[0m | \u001b[0m6.01e+03 \u001b[0m | \u001b[0m18.55    \u001b[0m | \u001b[0m7.22     \u001b[0m | \u001b[0m6.645    \u001b[0m | \u001b[0m6.992    \u001b[0m | \u001b[0m122.4    \u001b[0m |\n",
      "| \u001b[0m6        \u001b[0m | \u001b[0m6.61e+03 \u001b[0m | \u001b[0m7.519    \u001b[0m | \u001b[0m7.839    \u001b[0m | \u001b[0m19.63    \u001b[0m | \u001b[0m3.914    \u001b[0m | \u001b[0m35.15    \u001b[0m |\n",
      "| \u001b[0m7        \u001b[0m | \u001b[0m6.71e+03 \u001b[0m | \u001b[0m5.085    \u001b[0m | \u001b[0m4.504    \u001b[0m | \u001b[0m9.901    \u001b[0m | \u001b[0m3.077    \u001b[0m | \u001b[0m35.11    \u001b[0m |\n",
      "| \u001b[0m8        \u001b[0m | \u001b[0m6.6e+03  \u001b[0m | \u001b[0m5.0      \u001b[0m | \u001b[0m10.0     \u001b[0m | \u001b[0m2.0      \u001b[0m | \u001b[0m2.0      \u001b[0m | \u001b[0m22.84    \u001b[0m |\n",
      "| \u001b[0m9        \u001b[0m | \u001b[0m5.65e+03 \u001b[0m | \u001b[0m5.0      \u001b[0m | \u001b[0m1.0      \u001b[0m | \u001b[0m2.0      \u001b[0m | \u001b[0m2.0      \u001b[0m | \u001b[0m1.0      \u001b[0m |\n",
      "| \u001b[0m10       \u001b[0m | \u001b[0m5.04e+03 \u001b[0m | \u001b[0m40.0     \u001b[0m | \u001b[0m1.0      \u001b[0m | \u001b[0m20.0     \u001b[0m | \u001b[0m2.0      \u001b[0m | \u001b[0m200.0    \u001b[0m |\n",
      "| \u001b[0m11       \u001b[0m | \u001b[0m6.45e+03 \u001b[0m | \u001b[0m40.0     \u001b[0m | \u001b[0m10.0     \u001b[0m | \u001b[0m20.0     \u001b[0m | \u001b[0m2.0      \u001b[0m | \u001b[0m87.76    \u001b[0m |\n",
      "| \u001b[0m12       \u001b[0m | \u001b[0m6.45e+03 \u001b[0m | \u001b[0m40.0     \u001b[0m | \u001b[0m10.0     \u001b[0m | \u001b[0m2.0      \u001b[0m | \u001b[0m2.0      \u001b[0m | \u001b[0m61.03    \u001b[0m |\n",
      "| \u001b[95m13       \u001b[0m | \u001b[95m6.76e+03 \u001b[0m | \u001b[95m5.0      \u001b[0m | \u001b[95m10.0     \u001b[0m | \u001b[95m20.0     \u001b[0m | \u001b[95m2.0      \u001b[0m | \u001b[95m92.49    \u001b[0m |\n",
      "| \u001b[0m14       \u001b[0m | \u001b[0m5.68e+03 \u001b[0m | \u001b[0m5.0      \u001b[0m | \u001b[0m10.0     \u001b[0m | \u001b[0m2.0      \u001b[0m | \u001b[0m8.0      \u001b[0m | \u001b[0m88.38    \u001b[0m |\n",
      "| \u001b[0m15       \u001b[0m | \u001b[0m5.47e+03 \u001b[0m | \u001b[0m19.19    \u001b[0m | \u001b[0m1.0      \u001b[0m | \u001b[0m20.0     \u001b[0m | \u001b[0m2.0      \u001b[0m | \u001b[0m96.97    \u001b[0m |\n",
      "| \u001b[0m16       \u001b[0m | \u001b[0m6.75e+03 \u001b[0m | \u001b[0m5.0      \u001b[0m | \u001b[0m10.0     \u001b[0m | \u001b[0m2.0      \u001b[0m | \u001b[0m2.0      \u001b[0m | \u001b[0m41.96    \u001b[0m |\n",
      "| \u001b[0m17       \u001b[0m | \u001b[0m5.68e+03 \u001b[0m | \u001b[0m40.0     \u001b[0m | \u001b[0m10.0     \u001b[0m | \u001b[0m20.0     \u001b[0m | \u001b[0m8.0      \u001b[0m | \u001b[0m67.69    \u001b[0m |\n",
      "| \u001b[0m18       \u001b[0m | \u001b[0m6.68e+03 \u001b[0m | \u001b[0m18.02    \u001b[0m | \u001b[0m10.0     \u001b[0m | \u001b[0m2.0      \u001b[0m | \u001b[0m2.0      \u001b[0m | \u001b[0m41.31    \u001b[0m |\n",
      "| \u001b[0m19       \u001b[0m | \u001b[0m5.49e+03 \u001b[0m | \u001b[0m35.62    \u001b[0m | \u001b[0m1.0      \u001b[0m | \u001b[0m2.0      \u001b[0m | \u001b[0m2.0      \u001b[0m | \u001b[0m41.99    \u001b[0m |\n",
      "| \u001b[0m20       \u001b[0m | \u001b[0m5.78e+03 \u001b[0m | \u001b[0m10.35    \u001b[0m | \u001b[0m10.0     \u001b[0m | \u001b[0m9.444    \u001b[0m | \u001b[0m8.0      \u001b[0m | \u001b[0m43.89    \u001b[0m |\n",
      "| \u001b[0m21       \u001b[0m | \u001b[0m6.57e+03 \u001b[0m | \u001b[0m8.909    \u001b[0m | \u001b[0m9.759    \u001b[0m | \u001b[0m2.164    \u001b[0m | \u001b[0m2.0      \u001b[0m | \u001b[0m33.67    \u001b[0m |\n",
      "| \u001b[0m22       \u001b[0m | \u001b[0m6.51e+03 \u001b[0m | \u001b[0m5.0      \u001b[0m | \u001b[0m10.0     \u001b[0m | \u001b[0m12.61    \u001b[0m | \u001b[0m2.0      \u001b[0m | \u001b[0m28.78    \u001b[0m |\n",
      "| \u001b[0m23       \u001b[0m | \u001b[0m6.49e+03 \u001b[0m | \u001b[0m5.0      \u001b[0m | \u001b[0m1.0      \u001b[0m | \u001b[0m2.0      \u001b[0m | \u001b[0m2.0      \u001b[0m | \u001b[0m39.78    \u001b[0m |\n",
      "| \u001b[0m24       \u001b[0m | \u001b[0m6.09e+03 \u001b[0m | \u001b[0m10.78    \u001b[0m | \u001b[0m1.0      \u001b[0m | \u001b[0m5.934    \u001b[0m | \u001b[0m2.0      \u001b[0m | \u001b[0m26.46    \u001b[0m |\n",
      "=====================================================================================\n"
     ],
     "output_type":"stream"
    }
   ],
   "metadata":{
    "datalore":{
     "node_id":"1RHlPtUt18D4sRExO9LM6C",
     "type":"CODE",
     "hide_input_from_viewers":true,
     "hide_output_from_viewers":true
    }
   }
  },
  {
   "cell_type":"code",
   "source":[
    "print(f'best_hyperparams_rf_2 : {best_hyperparams_rf_2}, accuracy_rf_2 : {accuracy_rf_2}')"
   ],
   "execution_count":37,
   "outputs":[
    {
     "name":"stdout",
     "text":[
      "best_hyperparams_rf_2 : {'max_depth': 5.0, 'min_samples_leaf': 10.0, 'min_samples_split': 20.0, 'n': 2.0, 'n_estimators': 92.49303810184936}, accuracy_rf_2 : 6760.0\n"
     ],
     "output_type":"stream"
    }
   ],
   "metadata":{
    "datalore":{
     "node_id":"4JZJnESXdMgBTUfho3tq9A",
     "type":"CODE",
     "hide_input_from_viewers":true,
     "hide_output_from_viewers":true
    }
   }
  },
  {
   "cell_type":"markdown",
   "source":[
    "### XGBoost + correlation + permutation"
   ],
   "attachments":{},
   "metadata":{
    "datalore":{
     "node_id":"1uROharj1xvLEMWnHsJh78",
     "type":"MD",
     "hide_input_from_viewers":true,
     "hide_output_from_viewers":true
    }
   }
  },
  {
   "cell_type":"code",
   "source":[
    "from sklearn.model_selection import train_test_split\n",
    "from bayes_opt import BayesianOptimization\n",
    "from sklearn.ensemble import RandomForestClassifier\n",
    "\n",
    "X_train = x_train.copy()\n",
    "Y_train = y_train.copy()\n",
    "\n",
    "def objective_function_xgb(n, n_estimators, learning_rate, max_depth, min_child_weight, subsample, colsample_bytree, gamma):\n",
    "    n = int(n)  # Conversion to int because n is a Bayesian optimization parameter \n",
    "\n",
    "    model = XGBClassifier(\n",
    "        n_estimators=int(n_estimators),\n",
    "        learning_rate=learning_rate,\n",
    "        max_depth=int(max_depth),\n",
    "        min_child_weight=min_child_weight,\n",
    "        subsample=subsample,\n",
    "        colsample_bytree=colsample_bytree,\n",
    "        gamma=gamma,\n",
    "        random_state=26\n",
    "    )\n",
    "\n",
    "    vars_nocorr = select_vars_correlation(X_train, Y_train)\n",
    "    selected_vars = select_vars_permutation(\n",
    "        X_train[vars_nocorr], Y_train, model, top_n=n, random_state=3)\n",
    "    \n",
    "    score_adaptive = train_cv(model, X_train[selected_vars], Y_train, 5, calculate_score_adaptive)\n",
    "    return score_adaptive\n",
    "\n",
    "pbounds = {\n",
    "    'n': (2, 8),\n",
    "    'n_estimators': (1, 200),\n",
    "    'learning_rate': (0.01, 0.3),\n",
    "    'max_depth': (3, 40),\n",
    "    'min_child_weight': (1, 10),\n",
    "    'subsample': (0.5, 1),\n",
    "    'colsample_bytree': (0.5, 1),\n",
    "    'gamma': (0, 5)\n",
    "}\n",
    "optimizer = BayesianOptimization(\n",
    "    f=objective_function_xgb,\n",
    "    pbounds=pbounds,\n",
    "    random_state=42\n",
    ")\n",
    "optimizer.maximize(\n",
    "    init_points=4,\n",
    "    n_iter=20\n",
    ")\n",
    "\n",
    "best_hyperparams_xgb = optimizer.max['params']\n",
    "accuracy_xgb = optimizer.max['target']"
   ],
   "execution_count":30,
   "outputs":[
    {
     "name":"stdout",
     "text":[
      "|   iter    |  target   | colsam... |   gamma   | learni... | max_depth | min_ch... |     n     | n_esti... | subsample |\n",
      "-------------------------------------------------------------------------------------------------------------------------\n",
      "| \u001b[0m1        \u001b[0m | \u001b[0m6.42e+03 \u001b[0m | \u001b[0m0.6873   \u001b[0m | \u001b[0m4.754    \u001b[0m | \u001b[0m0.2223   \u001b[0m | \u001b[0m25.15    \u001b[0m | \u001b[0m2.404    \u001b[0m | \u001b[0m2.936    \u001b[0m | \u001b[0m12.56    \u001b[0m | \u001b[0m0.9331   \u001b[0m |\n",
      "| \u001b[95m2        \u001b[0m | \u001b[95m6.75e+03 \u001b[0m | \u001b[95m0.8006   \u001b[0m | \u001b[95m3.54     \u001b[0m | \u001b[95m0.01597  \u001b[0m | \u001b[95m38.89    \u001b[0m | \u001b[95m8.492    \u001b[0m | \u001b[95m3.274    \u001b[0m | \u001b[95m37.18    \u001b[0m | \u001b[95m0.5917   \u001b[0m |\n",
      "| \u001b[0m3        \u001b[0m | \u001b[0m6.48e+03 \u001b[0m | \u001b[0m0.6521   \u001b[0m | \u001b[0m2.624    \u001b[0m | \u001b[0m0.1353   \u001b[0m | \u001b[0m13.78    \u001b[0m | \u001b[0m6.507    \u001b[0m | \u001b[0m2.837    \u001b[0m | \u001b[0m59.14    \u001b[0m | \u001b[0m0.6832   \u001b[0m |\n",
      "| \u001b[0m4        \u001b[0m | \u001b[0m6.37e+03 \u001b[0m | \u001b[0m0.728    \u001b[0m | \u001b[0m3.926    \u001b[0m | \u001b[0m0.06791  \u001b[0m | \u001b[0m22.03    \u001b[0m | \u001b[0m6.332    \u001b[0m | \u001b[0m2.279    \u001b[0m | \u001b[0m121.9    \u001b[0m | \u001b[0m0.5853   \u001b[0m |\n",
      "| \u001b[0m5        \u001b[0m | \u001b[0m6.63e+03 \u001b[0m | \u001b[0m0.5622   \u001b[0m | \u001b[0m4.328    \u001b[0m | \u001b[0m0.2973   \u001b[0m | \u001b[0m39.63    \u001b[0m | \u001b[0m8.17     \u001b[0m | \u001b[0m4.793    \u001b[0m | \u001b[0m36.42    \u001b[0m | \u001b[0m0.8041   \u001b[0m |\n",
      "| \u001b[95m6        \u001b[0m | \u001b[95m6.84e+03 \u001b[0m | \u001b[95m1.0      \u001b[0m | \u001b[95m2.833    \u001b[0m | \u001b[95m0.01     \u001b[0m | \u001b[95m39.32    \u001b[0m | \u001b[95m9.991    \u001b[0m | \u001b[95m2.0      \u001b[0m | \u001b[95m38.98    \u001b[0m | \u001b[95m0.5      \u001b[0m |\n",
      "| \u001b[0m7        \u001b[0m | \u001b[0m6.82e+03 \u001b[0m | \u001b[0m1.0      \u001b[0m | \u001b[0m0.0      \u001b[0m | \u001b[0m0.01     \u001b[0m | \u001b[0m34.64    \u001b[0m | \u001b[0m9.771    \u001b[0m | \u001b[0m2.0      \u001b[0m | \u001b[0m40.78    \u001b[0m | \u001b[0m0.5      \u001b[0m |\n",
      "| \u001b[0m8        \u001b[0m | \u001b[0m6.71e+03 \u001b[0m | \u001b[0m1.0      \u001b[0m | \u001b[0m0.0      \u001b[0m | \u001b[0m0.01     \u001b[0m | \u001b[0m40.0     \u001b[0m | \u001b[0m5.049    \u001b[0m | \u001b[0m2.0      \u001b[0m | \u001b[0m44.87    \u001b[0m | \u001b[0m0.5      \u001b[0m |\n",
      "| \u001b[0m9        \u001b[0m | \u001b[0m6.77e+03 \u001b[0m | \u001b[0m1.0      \u001b[0m | \u001b[0m0.0      \u001b[0m | \u001b[0m0.01     \u001b[0m | \u001b[0m30.42    \u001b[0m | \u001b[0m10.0     \u001b[0m | \u001b[0m2.0      \u001b[0m | \u001b[0m33.03    \u001b[0m | \u001b[0m0.5      \u001b[0m |\n",
      "| \u001b[0m10       \u001b[0m | \u001b[0m6.8e+03  \u001b[0m | \u001b[0m1.0      \u001b[0m | \u001b[0m5.0      \u001b[0m | \u001b[0m0.01     \u001b[0m | \u001b[0m27.09    \u001b[0m | \u001b[0m10.0     \u001b[0m | \u001b[0m2.0      \u001b[0m | \u001b[0m40.81    \u001b[0m | \u001b[0m0.5      \u001b[0m |\n",
      "| \u001b[0m11       \u001b[0m | \u001b[0m6.34e+03 \u001b[0m | \u001b[0m1.0      \u001b[0m | \u001b[0m0.0      \u001b[0m | \u001b[0m0.01     \u001b[0m | \u001b[0m25.76    \u001b[0m | \u001b[0m1.0      \u001b[0m | \u001b[0m2.0      \u001b[0m | \u001b[0m38.89    \u001b[0m | \u001b[0m0.5      \u001b[0m |\n",
      "| \u001b[0m12       \u001b[0m | \u001b[0m6.8e+03  \u001b[0m | \u001b[0m1.0      \u001b[0m | \u001b[0m5.0      \u001b[0m | \u001b[0m0.01     \u001b[0m | \u001b[0m34.36    \u001b[0m | \u001b[0m10.0     \u001b[0m | \u001b[0m2.0      \u001b[0m | \u001b[0m46.52    \u001b[0m | \u001b[0m0.5      \u001b[0m |\n",
      "| \u001b[0m13       \u001b[0m | \u001b[0m6.81e+03 \u001b[0m | \u001b[0m1.0      \u001b[0m | \u001b[0m5.0      \u001b[0m | \u001b[0m0.01     \u001b[0m | \u001b[0m40.0     \u001b[0m | \u001b[0m10.0     \u001b[0m | \u001b[0m2.0      \u001b[0m | \u001b[0m58.56    \u001b[0m | \u001b[0m0.5      \u001b[0m |\n",
      "| \u001b[0m14       \u001b[0m | \u001b[0m5.55e+03 \u001b[0m | \u001b[0m1.0      \u001b[0m | \u001b[0m0.0      \u001b[0m | \u001b[0m0.01     \u001b[0m | \u001b[0m40.0     \u001b[0m | \u001b[0m10.0     \u001b[0m | \u001b[0m8.0      \u001b[0m | \u001b[0m65.87    \u001b[0m | \u001b[0m1.0      \u001b[0m |\n",
      "| \u001b[0m15       \u001b[0m | \u001b[0m6.27e+03 \u001b[0m | \u001b[0m0.689    \u001b[0m | \u001b[0m0.4834   \u001b[0m | \u001b[0m0.188    \u001b[0m | \u001b[0m4.349    \u001b[0m | \u001b[0m5.167    \u001b[0m | \u001b[0m6.53     \u001b[0m | \u001b[0m200.0    \u001b[0m | \u001b[0m0.5981   \u001b[0m |\n",
      "| \u001b[0m16       \u001b[0m | \u001b[0m5.86e+03 \u001b[0m | \u001b[0m1.0      \u001b[0m | \u001b[0m5.0      \u001b[0m | \u001b[0m0.3      \u001b[0m | \u001b[0m40.0     \u001b[0m | \u001b[0m1.0      \u001b[0m | \u001b[0m8.0      \u001b[0m | \u001b[0m166.6    \u001b[0m | \u001b[0m1.0      \u001b[0m |\n",
      "| \u001b[0m17       \u001b[0m | \u001b[0m5.51e+03 \u001b[0m | \u001b[0m1.0      \u001b[0m | \u001b[0m5.0      \u001b[0m | \u001b[0m0.01     \u001b[0m | \u001b[0m12.31    \u001b[0m | \u001b[0m10.0     \u001b[0m | \u001b[0m8.0      \u001b[0m | \u001b[0m32.19    \u001b[0m | \u001b[0m0.5      \u001b[0m |\n",
      "| \u001b[0m18       \u001b[0m | \u001b[0m6.67e+03 \u001b[0m | \u001b[0m0.5      \u001b[0m | \u001b[0m5.0      \u001b[0m | \u001b[0m0.3      \u001b[0m | \u001b[0m3.0      \u001b[0m | \u001b[0m1.0      \u001b[0m | \u001b[0m2.0      \u001b[0m | \u001b[0m86.38    \u001b[0m | \u001b[0m0.5      \u001b[0m |\n",
      "| \u001b[0m19       \u001b[0m | \u001b[0m5.92e+03 \u001b[0m | \u001b[0m1.0      \u001b[0m | \u001b[0m0.0      \u001b[0m | \u001b[0m0.3      \u001b[0m | \u001b[0m3.0      \u001b[0m | \u001b[0m1.0      \u001b[0m | \u001b[0m8.0      \u001b[0m | \u001b[0m101.2    \u001b[0m | \u001b[0m1.0      \u001b[0m |\n",
      "| \u001b[0m20       \u001b[0m | \u001b[0m6.71e+03 \u001b[0m | \u001b[0m0.5      \u001b[0m | \u001b[0m5.0      \u001b[0m | \u001b[0m0.01     \u001b[0m | \u001b[0m3.0      \u001b[0m | \u001b[0m10.0     \u001b[0m | \u001b[0m2.0      \u001b[0m | \u001b[0m75.14    \u001b[0m | \u001b[0m0.5      \u001b[0m |\n",
      "| \u001b[0m21       \u001b[0m | \u001b[0m5.78e+03 \u001b[0m | \u001b[0m1.0      \u001b[0m | \u001b[0m5.0      \u001b[0m | \u001b[0m0.3      \u001b[0m | \u001b[0m11.47    \u001b[0m | \u001b[0m1.0      \u001b[0m | \u001b[0m8.0      \u001b[0m | \u001b[0m76.45    \u001b[0m | \u001b[0m0.5      \u001b[0m |\n",
      "| \u001b[0m22       \u001b[0m | \u001b[0m6.69e+03 \u001b[0m | \u001b[0m1.0      \u001b[0m | \u001b[0m0.0      \u001b[0m | \u001b[0m0.01     \u001b[0m | \u001b[0m40.0     \u001b[0m | \u001b[0m10.0     \u001b[0m | \u001b[0m2.0      \u001b[0m | \u001b[0m22.11    \u001b[0m | \u001b[0m0.5      \u001b[0m |\n",
      "| \u001b[0m23       \u001b[0m | \u001b[0m6.63e+03 \u001b[0m | \u001b[0m0.5      \u001b[0m | \u001b[0m5.0      \u001b[0m | \u001b[0m0.3      \u001b[0m | \u001b[0m27.86    \u001b[0m | \u001b[0m10.0     \u001b[0m | \u001b[0m2.0      \u001b[0m | \u001b[0m55.18    \u001b[0m | \u001b[0m0.5      \u001b[0m |\n",
      "| \u001b[0m24       \u001b[0m | \u001b[0m6.52e+03 \u001b[0m | \u001b[0m1.0      \u001b[0m | \u001b[0m0.0      \u001b[0m | \u001b[0m0.01     \u001b[0m | \u001b[0m40.0     \u001b[0m | \u001b[0m10.0     \u001b[0m | \u001b[0m2.0      \u001b[0m | \u001b[0m4.984    \u001b[0m | \u001b[0m0.5      \u001b[0m |\n",
      "=========================================================================================================================\n"
     ],
     "output_type":"stream"
    }
   ],
   "metadata":{
    "datalore":{
     "node_id":"ui5YbRnx3KI5ebj5Md3h6M",
     "type":"CODE",
     "hide_input_from_viewers":true,
     "hide_output_from_viewers":true
    }
   }
  },
  {
   "cell_type":"code",
   "source":[
    "print(f'best_hyperparams_xgb : {best_hyperparams_xgb}, accuracy_xgb : {accuracy_xgb}')"
   ],
   "execution_count":31,
   "outputs":[
    {
     "name":"stdout",
     "text":[
      "best_hyperparams_xgb : {'colsample_bytree': 1.0, 'gamma': 2.8329221224953938, 'learning_rate': 0.01, 'max_depth': 39.315165724517115, 'min_child_weight': 9.99093137540363, 'n': 2.0, 'n_estimators': 38.983454128723125, 'subsample': 0.5}, accuracy_xgb : 6840.0\n"
     ],
     "output_type":"stream"
    }
   ],
   "metadata":{
    "datalore":{
     "node_id":"6ccurL7hNlTG35vF7XrbH7",
     "type":"CODE",
     "hide_input_from_viewers":true,
     "hide_output_from_viewers":true
    }
   }
  },
  {
   "cell_type":"markdown",
   "source":[
    "## Investigation of final models"
   ],
   "attachments":{},
   "metadata":{
    "datalore":{
     "node_id":"18ojf3QEJXpBKQB5ykZgVG",
     "type":"MD",
     "hide_input_from_viewers":true,
     "hide_output_from_viewers":true
    }
   }
  },
  {
   "cell_type":"code",
   "source":[
    "from sklearn.metrics import accuracy_score, precision_score, recall_score, f1_score, roc_auc_score, confusion_matrix\n",
    "from sklearn.model_selection import train_test_split\n",
    "from statistics import mean\n",
    "\n",
    "import pandas as pd\n",
    "import matplotlib.pyplot as plt\n",
    "import seaborn as sns"
   ],
   "execution_count":70,
   "outputs":[],
   "metadata":{
    "datalore":{
     "node_id":"5wp4EPR9LfddpB0oCJAM2o",
     "type":"CODE",
     "hide_input_from_viewers":true,
     "hide_output_from_viewers":true
    }
   }
  },
  {
   "cell_type":"code",
   "source":[
    "def precision(y_true, y_pred):\n",
    "    return precision_score(y_true, y_pred, average='weighted')\n",
    "\n",
    "def recall(y_true, y_pred):\n",
    "    return recall_score(y_true, y_pred, average='weighted')\n",
    "\n",
    "def f1(y_true, y_pred):\n",
    "    return f1_score(y_true, y_pred, average='weighted')"
   ],
   "execution_count":71,
   "outputs":[],
   "metadata":{
    "datalore":{
     "node_id":"Mv2ESagM28BTdCdP7PvXa3",
     "type":"CODE",
     "hide_input_from_viewers":true,
     "hide_output_from_viewers":true
    }
   }
  },
  {
   "cell_type":"markdown",
   "source":[
    "### Naive Bayes + correlation + permutation + forward selection"
   ],
   "attachments":{},
   "metadata":{
    "datalore":{
     "node_id":"zmIqNZ1tH5r1GTHFxMFZtk",
     "type":"MD",
     "hide_input_from_viewers":true,
     "hide_output_from_viewers":true
    }
   }
  },
  {
   "cell_type":"code",
   "source":[
    "X_train = x_train.copy()\n",
    "Y_train = y_train.copy()\n",
    "\n",
    "vars_nocorr = select_vars_correlation(X_train, Y_train)\n",
    "model_permutation = GaussianNB(var_smoothing=1e-08)\n",
    "\n",
    "selected_vars_permutation = select_vars_permutation(\n",
    "    X_train[vars_nocorr], Y_train, model_permutation, top_n=15, random_state=42)\n",
    "\n",
    "CORR_PERMUTATION_NB = forward_selection(\n",
    "        X_train[selected_vars_permutation], Y_train, model_permutation, 3, calculate_score_adaptive)\n",
    "\n",
    "\n",
    "accuracies_nb = [] \n",
    "precisions_nb = []\n",
    "recalls_nb = []\n",
    "f1s_nb = []\n",
    "scores_nb = []\n",
    "\n",
    "for i in range(100):\n",
    "    X_train_split, X_test_split, Y_train_split, Y_test_split = train_test_split(X_train[CORR_PERMUTATION_NB], Y_train, test_size=0.2, random_state=i, stratify=y_train)\n",
    "\n",
    "    final_model = GaussianNB(var_smoothing=1e-08)\n",
    "    final_model.fit(X_train_split, Y_train_split)\n",
    "    y_pred = final_model.predict(X_test_split)\n",
    "\n",
    "    accuracy_nb = accuracy_score(Y_test_split, y_pred)\n",
    "    precision_nb = precision_score(Y_test_split, y_pred, average='weighted')\n",
    "    recall_nb = recall_score(Y_test_split, y_pred, average='weighted')\n",
    "    f1_nb = f1_score(Y_test_split, y_pred, average='weighted')\n",
    "    conf_matrix_nb = confusion_matrix(Y_test_split, y_pred)\n",
    "\n",
    "    y_pred = final_model.predict_proba(X_test_split)\n",
    "    score_nb = calculate_score_adaptive(Y_test_split, y_pred, len(CORR_PERMUTATION_NB))\n",
    "\n",
    "    accuracies_nb.append(accuracy_nb)\n",
    "    precisions_nb.append(precision_nb)\n",
    "    recalls_nb.append(recall_nb)\n",
    "    f1s_nb.append(f1_nb)\n",
    "    scores_nb.append(score_nb)\n",
    "\n",
    "accuracy_avg_nb = mean(accuracies_nb)\n",
    "precision_avg_nb = mean(precisions_nb)\n",
    "recall_avg_nb = mean(recalls_nb)\n",
    "f1_avg_nb = mean(f1s_nb)\n",
    "score_avg_nb = mean(scores_nb)\n"
   ],
   "execution_count":53,
   "outputs":[
    {
     "name":"stderr",
     "text":[
      "\r  0%|          | 0\/3 [00:00<?, ?it\/s]\r 33%|███▎      | 1\/3 [00:00<00:00,  2.51it\/s]\r 67%|██████▋   | 2\/3 [00:00<00:00,  2.49it\/s]\r100%|██████████| 3\/3 [00:01<00:00,  2.55it\/s]\r100%|██████████| 3\/3 [00:01<00:00,  2.53it\/s]\n"
     ],
     "output_type":"stream"
    }
   ],
   "metadata":{
    "datalore":{
     "node_id":"zlW0gxkRPyd8AwQ7pXiOus",
     "type":"CODE",
     "hide_input_from_viewers":true,
     "hide_output_from_viewers":true
    }
   }
  },
  {
   "cell_type":"code",
   "source":[
    "data = {\n",
    "    'Metric': ['Accuracy', 'Precision', 'Recall', 'F1 Score', 'Score'],\n",
    "    'Average Value': [accuracy_avg_nb, precision_avg_nb, recall_avg_nb, f1_avg_nb, score_avg_nb]\n",
    "}\n",
    "\n",
    "df = pd.DataFrame(data)\n",
    "print(df)"
   ],
   "execution_count":54,
   "outputs":[
    {
     "name":"stdout",
     "text":[
      "      Metric  Average Value\n",
      "0   Accuracy       0.631260\n",
      "1  Precision       0.635783\n",
      "2     Recall       0.631260\n",
      "3   F1 Score       0.628019\n",
      "4      Score    6887.000000\n"
     ],
     "output_type":"stream"
    }
   ],
   "metadata":{
    "datalore":{
     "node_id":"wbcyOSPO21QYdxFv1DnkQV",
     "type":"CODE",
     "hide_input_from_viewers":true,
     "hide_output_from_viewers":true
    }
   }
  },
  {
   "cell_type":"code",
   "source":[
    "CORR_PERMUTATION_NB"
   ],
   "execution_count":56,
   "outputs":[
    {
     "data":{
      "text\/plain":[
       "[102, 105, 101]"
      ]
     },
     "metadata":{},
     "output_type":"display_data"
    }
   ],
   "metadata":{
    "datalore":{
     "node_id":"p2Lsj7ifUIZNx1uSUJyOVL",
     "type":"CODE",
     "hide_input_from_viewers":true,
     "hide_output_from_viewers":true
    }
   }
  },
  {
   "cell_type":"markdown",
   "source":[
    "### Random Forest + correlation + permutation "
   ],
   "attachments":{},
   "metadata":{
    "datalore":{
     "node_id":"MkS4DmDl5tkzSf6BLGmvjV",
     "type":"MD",
     "hide_input_from_viewers":true,
     "hide_output_from_viewers":true
    }
   }
  },
  {
   "cell_type":"code",
   "source":[
    "X_train = x_train.copy()\n",
    "Y_train = y_train.copy() \n",
    "\n",
    "vars_nocorr = select_vars_correlation(X_train, Y_train)\n",
    "model_permutation = RandomForestClassifier(n_estimators=178,\n",
    "                                   max_depth=5,\n",
    "                                   min_samples_split=20,\n",
    "                                   min_samples_leaf=1,\n",
    "                                   random_state=42)\n",
    "\n",
    "CORR_PERMUTATION_RF = select_vars_permutation(\n",
    "    X_train[vars_nocorr], Y_train, model_permutation, top_n=3, random_state=42)\n",
    "\n",
    "accuracies_rf = []\n",
    "precisions_rf = []\n",
    "recalls_rf = []\n",
    "f1s_rf = []\n",
    "scores_rf = []\n",
    "\n",
    "for i in range(100):\n",
    "    X_train_split, X_test_split, Y_train_split, Y_test_split = train_test_split(X_train[CORR_PERMUTATION_RF], Y_train, test_size=0.2, random_state=i, stratify=y_train)\n",
    "\n",
    "    model_rf = RandomForestClassifier(n_estimators=178,\n",
    "                                   max_depth=5,\n",
    "                                   min_samples_split=20,\n",
    "                                   min_samples_leaf=1,\n",
    "                                   random_state=42)\n",
    "    \n",
    "    model_rf.fit(X_train_split, Y_train_split)\n",
    "    y_pred = model_rf.predict(X_test_split)\n",
    "\n",
    "    accuracy_rf = accuracy_score(Y_test_split, y_pred)\n",
    "    precision_rf = precision_score(Y_test_split, y_pred, average='weighted')\n",
    "    recall_rf = recall_score(Y_test_split, y_pred, average='weighted')\n",
    "    f1_rf = f1_score(Y_test_split, y_pred, average='weighted')\n",
    "    conf_matrix_rf = confusion_matrix(Y_test_split, y_pred)\n",
    "\n",
    "    y_pred = model_rf.predict_proba(X_test_split)\n",
    "    score_rf = calculate_score_adaptive(Y_test_split, y_pred, len(CORR_PERMUTATION_RF))\n",
    "\n",
    "    accuracies_rf.append(accuracy_rf)\n",
    "    precisions_rf.append(precision_rf)\n",
    "    recalls_rf.append(recall_rf)\n",
    "    f1s_rf.append(f1_rf)\n",
    "    scores_rf.append(score_rf)\n",
    "\n",
    "accuracy_avg_rf = mean(accuracies_rf)\n",
    "precision_avg_rf = mean(precisions_rf)\n",
    "recall_avg_rf = mean(recalls_rf)\n",
    "f1_avg_rf = mean(f1s_rf)\n",
    "score_avg_rf = mean(scores_rf)"
   ],
   "execution_count":45,
   "outputs":[],
   "metadata":{
    "datalore":{
     "node_id":"CUlw5e3BFkLfa7F9fkpUwU",
     "type":"CODE",
     "hide_input_from_viewers":true,
     "hide_output_from_viewers":true
    }
   }
  },
  {
   "cell_type":"code",
   "source":[
    "data = {\n",
    "    'Metric': ['Accuracy', 'Precision', 'Recall', 'F1 Score', 'Score'],\n",
    "    'Average Value': [accuracy_avg_rf, precision_avg_rf, recall_avg_rf, f1_avg_rf, score_avg_rf]\n",
    "}\n",
    "\n",
    "df = pd.DataFrame(data)\n",
    "print(df)"
   ],
   "execution_count":46,
   "outputs":[
    {
     "name":"stdout",
     "text":[
      "      Metric  Average Value\n",
      "0   Accuracy       0.632270\n",
      "1  Precision       0.635643\n",
      "2     Recall       0.632270\n",
      "3   F1 Score       0.629821\n",
      "4      Score    6501.000000\n"
     ],
     "output_type":"stream"
    }
   ],
   "metadata":{
    "datalore":{
     "node_id":"nbv19N8C3Z1BcDkTs7pOD5",
     "type":"CODE",
     "hide_input_from_viewers":true,
     "hide_output_from_viewers":true
    }
   }
  },
  {
   "cell_type":"code",
   "source":[
    "CORR_PERMUTATION_RF"
   ],
   "execution_count":47,
   "outputs":[
    {
     "data":{
      "text\/plain":[
       "[105, 100, 103]"
      ]
     },
     "metadata":{},
     "output_type":"display_data"
    }
   ],
   "metadata":{
    "datalore":{
     "node_id":"5ejkQHoS8NBTaWTnXSGsoe",
     "type":"CODE",
     "hide_input_from_viewers":true,
     "hide_output_from_viewers":true
    }
   }
  },
  {
   "cell_type":"markdown",
   "source":[
    "### XGBoost + correlation + permutation"
   ],
   "attachments":{},
   "metadata":{
    "datalore":{
     "node_id":"TbMtAE5oYdFtbJt5Qr9io4",
     "type":"MD",
     "hide_input_from_viewers":true,
     "hide_output_from_viewers":true
    }
   }
  },
  {
   "cell_type":"code",
   "source":[
    "X_train = x_train.copy()\n",
    "Y_train = y_train.copy()\n",
    "\n",
    "vars_nocorr = select_vars_correlation(X_train, Y_train)\n",
    "model_permutation = XGBClassifier(\n",
    "        n_estimators=int(38),\n",
    "        learning_rate=0.01,\n",
    "        max_depth=int(39),\n",
    "        min_child_weight=9.99093137540363,\n",
    "        subsample=0.5,\n",
    "        colsample_bytree=1.0,\n",
    "        gamma=2.8329221224953938,\n",
    "        random_state=26\n",
    "    )\n",
    "\n",
    "CORR_PERMUTATION_XGB = select_vars_permutation(\n",
    "    X_train[vars_nocorr], Y_train, model_permutation, top_n=2, random_state=42)\n",
    "\n",
    "accuracies_xgb = []\n",
    "precisions_xgb = []\n",
    "recalls_xgb = []\n",
    "f1s_xgb = []\n",
    "scores_xgb = []\n",
    "\n",
    "for i in range(100):\n",
    "    X_train_split, X_test_split, Y_train_split, Y_test_split = train_test_split(X_train[CORR_PERMUTATION_XGB], Y_train, test_size=0.2, random_state=i, stratify=y_train)\n",
    "\n",
    "    model_xgb = XGBClassifier(\n",
    "        n_estimators=int(38),\n",
    "        learning_rate=0.01,\n",
    "        max_depth=int(39),\n",
    "        min_child_weight=9.99093137540363,\n",
    "        subsample=0.5,\n",
    "        colsample_bytree=1.0,\n",
    "        gamma=2.8329221224953938,\n",
    "        random_state=26\n",
    "    )\n",
    "    \n",
    "    model_xgb.fit(X_train_split, Y_train_split)\n",
    "    y_pred = model_xgb.predict(X_test_split)\n",
    "\n",
    "    accuracy_xgb = accuracy_score(Y_test_split, y_pred)\n",
    "    precision_xgb = precision_score(Y_test_split, y_pred, average='weighted')\n",
    "    recall_xgb = recall_score(Y_test_split, y_pred, average='weighted')\n",
    "    f1_xgb = f1_score(Y_test_split, y_pred, average='weighted')\n",
    "    conf_matrix_xgb = confusion_matrix(Y_test_split, y_pred)\n",
    "\n",
    "    y_pred = model_xgb.predict_proba(X_test_split)\n",
    "    score_xgb = calculate_score_adaptive(Y_test_split, y_pred, len(CORR_PERMUTATION_XGB))\n",
    "\n",
    "    accuracies_xgb.append(accuracy_xgb)\n",
    "    precisions_xgb.append(precision_xgb)\n",
    "    recalls_xgb.append(recall_xgb)\n",
    "    f1s_xgb.append(f1_xgb)\n",
    "    scores_xgb.append(score_xgb)\n",
    "\n",
    "accuracy_avg_xgb = mean(accuracies_xgb)\n",
    "precision_avg_xgb = mean(precisions_xgb)\n",
    "recall_avg_xgb = mean(recalls_xgb)\n",
    "f1_avg_xgb = mean(f1s_xgb)\n",
    "score_avg_xgb = mean(scores_xgb)"
   ],
   "execution_count":48,
   "outputs":[],
   "metadata":{
    "datalore":{
     "node_id":"qAbS8nunFfM4WEgm52PRtq",
     "type":"CODE",
     "hide_input_from_viewers":true,
     "hide_output_from_viewers":true
    }
   }
  },
  {
   "cell_type":"code",
   "source":[
    "data = {\n",
    "    'Metric': ['Accuracy', 'Precision', 'Recall', 'F1 Score', 'Score'],\n",
    "    'Average Value': [accuracy_avg_xgb, precision_avg_xgb, recall_avg_xgb, f1_avg_xgb, score_avg_xgb]\n",
    "}\n",
    "\n",
    "df = pd.DataFrame(data)\n",
    "print(df)"
   ],
   "execution_count":49,
   "outputs":[
    {
     "name":"stdout",
     "text":[
      "      Metric  Average Value\n",
      "0   Accuracy       0.600240\n",
      "1  Precision       0.602963\n",
      "2     Recall       0.600240\n",
      "3   F1 Score       0.597398\n",
      "4      Score    6618.000000\n"
     ],
     "output_type":"stream"
    }
   ],
   "metadata":{
    "datalore":{
     "node_id":"wQekblFmSvIUzQxoSkWAGB",
     "type":"CODE",
     "hide_input_from_viewers":true,
     "hide_output_from_viewers":true
    }
   }
  },
  {
   "cell_type":"code",
   "source":[
    "CORR_PERMUTATION_XGB"
   ],
   "execution_count":50,
   "outputs":[
    {
     "data":{
      "text\/plain":[
       "[102, 105]"
      ]
     },
     "metadata":{},
     "output_type":"display_data"
    }
   ],
   "metadata":{
    "datalore":{
     "node_id":"3zuA63iHXya1HW1ehiT5Pd",
     "type":"CODE",
     "hide_input_from_viewers":true,
     "hide_output_from_viewers":true
    }
   }
  },
  {
   "cell_type":"code",
   "source":[
    "data = {\n",
    "    'Model': ['NaiveBayes']*len(scores_nb) + ['RandomForest']*len(scores_rf) + ['XGBoost']*len(scores_xgb),\n",
    "    'Scores': scores_nb + scores_rf + scores_xgb\n",
    "}\n",
    "\n",
    "df = pd.DataFrame(data)\n",
    "\n",
    "plt.figure(figsize=(10, 6))\n",
    "sns.boxplot(x='Model', y='Scores', data=df)\n",
    "plt.title('Final Model Score Comparison')\n",
    "plt.ylabel('Score')\n",
    "plt.xlabel('Model')\n",
    "plt.grid(True)\n",
    "\n",
    "plt.show()"
   ],
   "execution_count":59,
   "outputs":[
    {
     "data":{
      "image\/png":"[encoded data removed]"
     },
     "metadata":{
      "image\/png":{}
     },
     "output_type":"display_data"
    }
   ],
   "metadata":{
    "datalore":{
     "node_id":"ksc0tHrKpdxEo1eygQazZx",
     "type":"CODE",
     "hide_input_from_viewers":true,
     "hide_output_from_viewers":true
    }
   }
  },
  {
   "cell_type":"markdown",
   "source":[
    "As we can see, the best results were obtained with the Naive Bayes model. Therefore, we will use this model for the final prediction."
   ],
   "attachments":{},
   "metadata":{
    "datalore":{
     "node_id":"Aznp9PfgfCWBnXiP3rBdlN",
     "type":"MD",
     "hide_input_from_viewers":true,
     "hide_output_from_viewers":true
    }
   }
  },
  {
   "cell_type":"markdown",
   "source":[
    "### FINAL PREDICTION"
   ],
   "attachments":{},
   "metadata":{
    "datalore":{
     "node_id":"RmnLqLN5IMqQNmDepjMISD",
     "type":"MD",
     "hide_input_from_viewers":true,
     "hide_output_from_viewers":true
    }
   }
  },
  {
   "cell_type":"code",
   "source":[
    "X_train = x_train.copy()\n",
    "Y_train = y_train.copy()\n",
    "\n",
    "vars_nocorr = select_vars_correlation(X_train, Y_train)\n",
    "model_permutation = GaussianNB(var_smoothing=1e-08)\n",
    "\n",
    "selected_vars_permutation = select_vars_permutation(\n",
    "    X_train[vars_nocorr], Y_train, model_permutation, top_n=15, random_state=42)\n",
    "\n",
    "CORR_PERMUTATION_NB = forward_selection(\n",
    "        X_train[selected_vars_permutation], Y_train, model_permutation, 3, calculate_score_adaptive)\n",
    "\n",
    "\n",
    "final_model = GaussianNB(var_smoothing=1e-08)\n",
    "final_model.fit(X_train[CORR_PERMUTATION_NB], Y_train)\n",
    "\n",
    "y_pred_test = final_model.predict_proba(x_test[CORR_PERMUTATION_NB])\n",
    "save_solution(y_pred_test, CORR_PERMUTATION_NB)"
   ],
   "execution_count":72,
   "outputs":[
    {
     "name":"stderr",
     "text":[
      "\r  0%|          | 0\/3 [00:00<?, ?it\/s]\r 33%|███▎      | 1\/3 [00:00<00:00,  2.49it\/s]\r 67%|██████▋   | 2\/3 [00:00<00:00,  2.49it\/s]\r100%|██████████| 3\/3 [00:01<00:00,  2.57it\/s]\r100%|██████████| 3\/3 [00:01<00:00,  2.55it\/s]\n"
     ],
     "output_type":"stream"
    }
   ],
   "metadata":{
    "datalore":{
     "node_id":"lKzzEs7INd2JI5Dyg3rUeO",
     "type":"CODE",
     "hide_input_from_viewers":true,
     "hide_output_from_viewers":true
    }
   }
  },
  {
   "cell_type":"code",
   "source":[
    "CORR_PERMUTATION_NB"
   ],
   "execution_count":75,
   "outputs":[
    {
     "data":{
      "text\/plain":[
       "[102, 105, 101]"
      ]
     },
     "metadata":{},
     "output_type":"display_data"
    }
   ],
   "metadata":{
    "datalore":{
     "node_id":"Vcwt6MtsP4klETYlMjVKzi",
     "type":"CODE",
     "hide_input_from_viewers":true,
     "hide_output_from_viewers":true
    }
   }
  }
 ],
 "metadata":{
  "kernelspec":{
   "display_name":"Python",
   "language":"python",
   "name":"python"
  },
  "datalore":{
   "computation_mode":"JUPYTER",
   "package_manager":"pip",
   "base_environment":"default",
   "packages":[
    {
     "name":"bayesian-optimization",
     "version":"1.4.3",
     "source":"PIP"
    }
   ],
   "report_row_ids":[],
   "version":3
  }
 },
 "nbformat":4,
 "nbformat_minor":4
}