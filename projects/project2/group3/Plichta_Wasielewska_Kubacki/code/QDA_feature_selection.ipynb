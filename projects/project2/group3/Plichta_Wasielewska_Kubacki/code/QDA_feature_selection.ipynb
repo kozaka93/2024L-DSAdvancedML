{
  "nbformat": 4,
  "nbformat_minor": 0,
  "metadata": {
    "colab": {
      "provenance": []
    },
    "kernelspec": {
      "name": "python3",
      "display_name": "Python 3"
    },
    "language_info": {
      "name": "python"
    }
  },
  "cells": [
    {
      "cell_type": "code",
      "execution_count": null,
      "metadata": {
        "id": "Z-gYxuureBV0"
      },
      "outputs": [],
      "source": [
        "path_x = \"x_train.txt\"\n",
        "path_y = \"y_train.txt\"\n",
        "path_out1 = \"out_tries.txt\"\n",
        "path_out2 = \"out_best.txt\"\n",
        "# Here, enter the indices of features selected by the initial selection method\n",
        "selection = np.array([0, 1, 2, 3, 4, 5, 6, 7, 8, 9, 64, 100, 101, 102, 103, 104, 105, 109, 155, 158, 285, 335, 351, 403, 458, 498])\n",
        "# The higher, the longer will the algorhithm search for the best subset.\n",
        "# Don't worry, you can start the new search, where you left off.\n",
        "length_of_search=10\n",
        "\n",
        "X, y = load_data(path_x, path_y)\n",
        "x_test = pd.read_csv(\"/content/x_test.txt\", header=None, sep=\"\\s+\")"
      ]
    },
    {
      "cell_type": "code",
      "execution_count": null,
      "metadata": {
        "colab": {
          "base_uri": "https://localhost:8080/"
        },
        "id": "3oCRnL--oRPx",
        "outputId": "3496b155-2960-4164-b2e0-c533ab0b25f7"
      },
      "outputs": [
        {
          "data": {
            "text/plain": [
              "(500, 500)"
            ]
          },
          "execution_count": 14,
          "metadata": {},
          "output_type": "execute_result"
        }
      ],
      "source": [
        "import numpy as np\n",
        "\n",
        "corr_matrix = np.corrcoef(X, rowvar=False)\n",
        "\n",
        "corr_matrix.shape"
      ]
    },
    {
      "cell_type": "code",
      "execution_count": null,
      "metadata": {
        "colab": {
          "base_uri": "https://localhost:8080/"
        },
        "id": "F4VXxNzootdc",
        "outputId": "5779edcf-0545-4a16-9c47-6b8dc74d72f3"
      },
      "outputs": [
        {
          "data": {
            "text/plain": [
              "[1, 2, 3, 4, 5, 6, 7, 8, 9]"
            ]
          },
          "execution_count": 17,
          "metadata": {},
          "output_type": "execute_result"
        }
      ],
      "source": [
        "threshold = 0.6\n",
        "correlated_pairs = np.where(np.abs(corr_matrix) > threshold)\n",
        "correlated_pairs = [(i, j) for i, j in zip(*correlated_pairs) if i != j and i < j]\n",
        "\n",
        "features_to_remove = set()\n",
        "\n",
        "for _, j in correlated_pairs:\n",
        "    features_to_remove.add(j)\n",
        "\n",
        "features_to_remove = list(features_to_remove)\n",
        "features_to_remove"
      ]
    },
    {
      "cell_type": "code",
      "execution_count": null,
      "metadata": {
        "colab": {
          "base_uri": "https://localhost:8080/"
        },
        "id": "ulDjmNIer6QL",
        "outputId": "687037d1-1668-4409-a37a-cab87b9fb013"
      },
      "outputs": [
        {
          "name": "stderr",
          "output_type": "stream",
          "text": [
            "/usr/local/lib/python3.10/dist-packages/sklearn/discriminant_analysis.py:926: UserWarning: Variables are collinear\n",
            "  warnings.warn(\"Variables are collinear\")\n"
          ]
        },
        {
          "name": "stdout",
          "output_type": "stream",
          "text": [
            "     Importance\n",
            "104    0.010587\n",
            "106    0.010400\n",
            "103    0.010143\n",
            "101    0.010011\n",
            "102    0.008643\n",
            "..          ...\n",
            "115    0.001375\n",
            "482    0.001350\n",
            "385    0.001223\n",
            "43     0.001222\n",
            "327    0.001162\n",
            "\n",
            "[500 rows x 1 columns]\n"
          ]
        }
      ],
      "source": [
        "from sklearn.discriminant_analysis import QuadraticDiscriminantAnalysis as QDA\n",
        "from sklearn.ensemble import RandomForestClassifier\n",
        "import pandas as pd\n",
        "import numpy as np\n",
        "\n",
        "# Create a QDA\n",
        "qda = QDA()\n",
        "\n",
        "# Fit the QDA to the data\n",
        "qda.fit(X, y)\n",
        "\n",
        "# Create a Random Forest Classifier\n",
        "rf = RandomForestClassifier(n_estimators=100)\n",
        "\n",
        "# Fit the Random Forest Classifier to the data\n",
        "rf.fit(X, y)\n",
        "\n",
        "# Get the feature importances from the Random Forest model\n",
        "importances = rf.feature_importances_\n",
        "\n",
        "# Generate feature names\n",
        "feature_names = list(range(1, 501))  # replace 501 with the number of features + 1\n",
        "\n",
        "# Create a DataFrame with the feature importances\n",
        "df = pd.DataFrame(importances, index=feature_names, columns=['Importance'])\n",
        "\n",
        "# Sort the DataFrame by the importances\n",
        "df = df.reindex(df.Importance.abs().sort_values(ascending=False).index)\n",
        "\n",
        "print(df)"
      ]
    },
    {
      "cell_type": "code",
      "execution_count": null,
      "metadata": {
        "colab": {
          "base_uri": "https://localhost:8080/"
        },
        "id": "qzk2xFOkuJUc",
        "outputId": "d9dd1582-b2b0-47db-8df5-b099ca806c2c"
      },
      "outputs": [
        {
          "name": "stdout",
          "output_type": "stream",
          "text": [
            "     Importance\n",
            "104    0.010587\n",
            "106    0.010400\n",
            "103    0.010143\n",
            "101    0.010011\n",
            "102    0.008643\n",
            "105    0.007203\n",
            "9      0.006028\n",
            "6      0.004539\n",
            "4      0.004316\n",
            "1      0.003979\n",
            "3      0.003720\n",
            "2      0.003636\n",
            "10     0.003628\n",
            "5      0.003522\n",
            "7      0.003351\n"
          ]
        }
      ],
      "source": [
        "print(df[:15])"
      ]
    },
    {
      "cell_type": "code",
      "execution_count": null,
      "metadata": {
        "id": "H2Yh467Uv_x9"
      },
      "outputs": [],
      "source": [
        "#Dropping 1-9 features as they're correlated\n",
        "df.drop(list(range(1, 10)), axis=0, inplace=True)"
      ]
    },
    {
      "cell_type": "code",
      "execution_count": null,
      "metadata": {
        "colab": {
          "base_uri": "https://localhost:8080/"
        },
        "id": "Vmpjdhq9wp3Y",
        "outputId": "d3bb40fa-7820-4aaa-aa15-f3fa1fa9c184"
      },
      "outputs": [
        {
          "name": "stdout",
          "output_type": "stream",
          "text": [
            "[104 106 103 101 102 105  10 221 352 324 286 274 238  68 440]\n"
          ]
        }
      ],
      "source": [
        "# Retrieve the index of the first 15 rows\n",
        "first_15_features_qda = df.head(15).index\n",
        "\n",
        "print(np.array(first_15_features_qda))"
      ]
    }
  ]
}