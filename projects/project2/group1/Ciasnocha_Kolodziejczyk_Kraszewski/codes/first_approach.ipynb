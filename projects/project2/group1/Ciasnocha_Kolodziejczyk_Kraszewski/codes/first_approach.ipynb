{
 "cells": [
  {
   "cell_type": "markdown",
   "id": "26f680e230bee263",
   "metadata": {
    "collapsed": false
   },
   "source": [
    "# Project 2\n",
    "\n",
    "The goal of this project is to develop a parsimonious predictive model that accurately identifies customers most likely to respond to a bank's marketing offer. The model should efficiently utilize a limited number of predictive variables to maximize accuracy and minimize cost, optimizing the balance between predictive performance and economic expenditure.\n",
    "\n",
    "The model will be trained on a dataset comprising 5000 historical instances, each described by 500 anonymized variables. It will be evaluated based on its ability to select 1000 customers from a test set, predicted to accept the marketing offer, while minimizing the use of costly variables. The effectiveness of the model will be measured by the net profit achieved, considering both the rewards for correct predictions and penalties for each variable used.\n",
    "\n",
    "It might be beneficial to consider this as the regression problem, where the target variable is the probability of a customer accepting the offer. This way, you can use regression techniques to predict the probability and then apply a threshold to classify customers as responders or non-responders."
   ]
  },
  {
   "cell_type": "code",
   "execution_count": 120,
   "id": "initial_id",
   "metadata": {
    "ExecuteTime": {
     "end_time": "2024-06-02T20:59:44.146433500Z",
     "start_time": "2024-06-02T20:59:43.994778100Z"
    },
    "collapsed": true
   },
   "outputs": [],
   "source": [
    "import numpy as np\n",
    "import pandas as pd\n",
    "import xgboost as xgb\n",
    "from scipy.cluster.hierarchy import linkage, fcluster\n",
    "from scipy.spatial.distance import squareform\n",
    "from sklearn.ensemble import RandomForestRegressor\n",
    "from sklearn.model_selection import train_test_split"
   ]
  },
  {
   "cell_type": "markdown",
   "id": "e226dbc657bbddcd",
   "metadata": {
    "collapsed": false
   },
   "source": [
    "## Load data"
   ]
  },
  {
   "cell_type": "code",
   "execution_count": 121,
   "id": "7324978721f5ecc5",
   "metadata": {
    "ExecuteTime": {
     "end_time": "2024-06-02T20:59:45.755767500Z",
     "start_time": "2024-06-02T20:59:44.132526100Z"
    },
    "collapsed": false
   },
   "outputs": [
    {
     "name": "stdout",
     "output_type": "stream",
     "text": [
      "Data: 5000 samples, 500 variables\n",
      "Target: 49.92% positive\n"
     ]
    }
   ],
   "source": [
    "X_input = np.loadtxt('data/x_train.txt')\n",
    "y_input = np.loadtxt('data/y_train.txt')\n",
    "\n",
    "print(f'Data: {X_input.shape[0]} samples, {X_input.shape[1]} variables')\n",
    "print(f'Target: {y_input.mean():.2%} positive')"
   ]
  },
  {
   "cell_type": "markdown",
   "id": "3c62759fddd84b05",
   "metadata": {
    "collapsed": false
   },
   "source": [
    "## Split data\n",
    "Make assumptions about % positive in the test set. It is important so that the model can be evaluated based on the net profit.\n",
    "percentage_positive should range from 20% to 50% (both inclusive).\n",
    "The training set will have 80% of all the data and will have fixed 50% positive instances."
   ]
  },
  {
   "cell_type": "code",
   "execution_count": 122,
   "id": "dff2c7169946cb61",
   "metadata": {
    "ExecuteTime": {
     "end_time": "2024-06-02T20:59:45.764275400Z",
     "start_time": "2024-06-02T20:59:45.754646100Z"
    },
    "collapsed": false
   },
   "outputs": [],
   "source": [
    "def get_data(percentage_positive: float):\n",
    "    assert 0.2 <= percentage_positive <= 0.5\n",
    "    \n",
    "    X_pos = X_input[y_input == 1]\n",
    "    X_neg = X_input[y_input == 0]\n",
    "    y_pos = y_input[y_input == 1]\n",
    "    y_neg = y_input[y_input == 0]\n",
    "    \n",
    "    num_test_samples = int(0.2 * X_input.shape[0])\n",
    "    num_pos_test_samples = int(percentage_positive * num_test_samples)\n",
    "    num_neg_test_samples = num_test_samples - num_pos_test_samples\n",
    "    \n",
    "    X_train_pos, X_test_pos, y_train_pos, y_test_pos = train_test_split(X_pos, y_pos, test_size=num_pos_test_samples)\n",
    "    X_train_neg, X_test_neg, y_train_neg, y_test_neg = train_test_split(X_neg, y_neg, test_size=num_neg_test_samples)\n",
    "    \n",
    "    # drop positives in train set until num_pos_train = num_neg_train\n",
    "    num_pos_train = X_train_neg.shape[0]\n",
    "    X_train_pos = X_train_pos[:num_pos_train]\n",
    "    y_train_pos = y_train_pos[:num_pos_train]\n",
    "    \n",
    "    X_train = np.vstack([X_train_pos, X_train_neg])\n",
    "    X_test = np.vstack([X_test_pos, X_test_neg])\n",
    "    y_train = np.hstack([y_train_pos, y_train_neg])\n",
    "    y_test = np.hstack([y_test_pos, y_test_neg])\n",
    "    \n",
    "    return X_train, X_test, y_train, y_test"
   ]
  },
  {
   "cell_type": "code",
   "execution_count": 123,
   "id": "1b01ef7c17f84bfc",
   "metadata": {
    "ExecuteTime": {
     "end_time": "2024-06-02T20:59:45.896707900Z",
     "start_time": "2024-06-02T20:59:45.765326300Z"
    },
    "collapsed": false
   },
   "outputs": [
    {
     "name": "stdout",
     "output_type": "stream",
     "text": [
      "\n",
      "Expected % positive in test set: 20.00%\n",
      "Train data: 3408 samples, 50.00% positive\n",
      "Test data: 1000 samples, 20.00% positive\n",
      "\n",
      "Expected % positive in test set: 30.00%\n",
      "Train data: 3608 samples, 50.00% positive\n",
      "Test data: 1000 samples, 30.00% positive\n",
      "\n",
      "Expected % positive in test set: 40.00%\n",
      "Train data: 3808 samples, 50.00% positive\n",
      "Test data: 1000 samples, 40.00% positive\n",
      "\n",
      "Expected % positive in test set: 50.00%\n",
      "Train data: 4000 samples, 49.90% positive\n",
      "Test data: 1000 samples, 50.00% positive\n"
     ]
    }
   ],
   "source": [
    "for percentage_positive in [0.2, 0.3, 0.4, 0.5]:\n",
    "    X_train, X_test, y_train, y_test = get_data(percentage_positive)\n",
    "    print(f'\\nExpected % positive in test set: {percentage_positive:.2%}')\n",
    "    print(f'Train data: {X_train.shape[0]} samples, {y_train.mean():.2%} positive')\n",
    "    print(f'Test data: {X_test.shape[0]} samples, {y_test.mean():.2%} positive')\n",
    "    "
   ]
  },
  {
   "cell_type": "markdown",
   "id": "a6be40350729fa2d",
   "metadata": {
    "collapsed": false
   },
   "source": [
    "## Evaluation function\n",
    "Choose 200 customers from the test set with the highest predicted probability of accepting the offer. \n",
    "Calculate the net profit based on the actual responses and the cost of using the variables.\n",
    "The net profit is calculated as follows:\n",
    "$$\n",
    "\\text{Net profit} = 50 \\times \\text{TP} - 200 \\times \\text{number of variables}\n",
    "$$\n",
    "where:|\n",
    "- TP is the number of true positives (correctly predicted responders),\n",
    "- The cost of using a variable is 200.\n",
    "- The reward for correctly predicting a responder is 50 (scaled times 5, as we only predict 200 customers).\n"
   ]
  },
  {
   "cell_type": "code",
   "execution_count": 124,
   "id": "903f962599cb0a9c",
   "metadata": {
    "ExecuteTime": {
     "end_time": "2024-06-02T20:59:45.936079500Z",
     "start_time": "2024-06-02T20:59:45.894559300Z"
    },
    "collapsed": false
   },
   "outputs": [],
   "source": [
    "def evaluate_selection(model, X_train_selected, X_val_selected, y_train, y_val, verbose=False) -> int:\n",
    "    model.fit(X_train_selected, y_train)\n",
    "    y_pred = model.predict(X_val_selected)\n",
    "    \n",
    "    indices = np.argsort(y_pred)[::-1]\n",
    "    selected_indices = indices[:200]\n",
    "    \n",
    "    TP = np.sum(y_val[selected_indices])\n",
    "    number_of_features = X_val_selected.shape[1]\n",
    "    \n",
    "    score = int(50 * TP - 200 * number_of_features)\n",
    "    \n",
    "    if verbose:\n",
    "        print(f'Score: {score}, TP: {TP:.0f}/200, #features: {number_of_features}')\n",
    "    \n",
    "    return score\n",
    "\n",
    "\n",
    "def full_evaluation(model, selected_features, cv=5):\n",
    "    results = {}\n",
    "    for percentage_positive in [0.2, 0.3, 0.4, 0.5]:\n",
    "        scores = []\n",
    "        for _ in range(cv):\n",
    "            X_train, X_val, y_train, y_val = get_data(percentage_positive)\n",
    "            X_train_selected = X_train[:, selected_features]\n",
    "            X_val_selected = X_val[:, selected_features]\n",
    "            score = evaluate_selection(model, X_train_selected, X_val_selected, y_train, y_val)\n",
    "            scores.append(score)\n",
    "        mean_score = np.mean(scores)\n",
    "        results[percentage_positive] = mean_score\n",
    "        print(f'Expected % positive in test set: {percentage_positive:.2%}, mean score: {mean_score}')\n",
    "    return results\n",
    "\n",
    "evaluation_models = {\n",
    "    'XGBoost': xgb.XGBRegressor(objective='reg:squarederror', colsample_bytree=0.3, learning_rate=0.1,\n",
    "                          max_depth=5, alpha=10, n_estimators=100),\n",
    "    'RandomForest': RandomForestRegressor(random_state=0, n_estimators=100)\n",
    "}"
   ]
  },
  {
   "cell_type": "markdown",
   "id": "7a72b34072682ae5",
   "metadata": {
    "collapsed": false
   },
   "source": [
    "## Feature selection\n",
    "Base class FeatureSelector with the following methods:\n",
    "- fit - train the selector\n",
    "- features - return the indices of the selected features (indexed from 0)"
   ]
  },
  {
   "cell_type": "code",
   "execution_count": 125,
   "id": "e16fee148ea05bd8",
   "metadata": {
    "ExecuteTime": {
     "end_time": "2024-06-02T20:59:45.939112200Z",
     "start_time": "2024-06-02T20:59:45.907715Z"
    },
    "collapsed": false
   },
   "outputs": [],
   "source": [
    "from abc import ABC, abstractmethod\n",
    "\n",
    "\n",
    "class IFeatureSelector(ABC):\n",
    "    @abstractmethod\n",
    "    def fit(self, X_train, y_train):\n",
    "        pass\n",
    "    \n",
    "    @property\n",
    "    @abstractmethod\n",
    "    def selected_features(self) -> np.ndarray:\n",
    "        pass"
   ]
  },
  {
   "cell_type": "markdown",
   "id": "dc294ef9ad40d470",
   "metadata": {
    "collapsed": false
   },
   "source": [
    "### Mean decrease impurity"
   ]
  },
  {
   "cell_type": "code",
   "execution_count": 126,
   "id": "b0ddee6dc1d99898",
   "metadata": {
    "ExecuteTime": {
     "end_time": "2024-06-02T20:59:45.975207300Z",
     "start_time": "2024-06-02T20:59:45.925877900Z"
    },
    "collapsed": false
   },
   "outputs": [],
   "source": [
    "class MeanDecreaseImpuritySelector(IFeatureSelector):\n",
    "    def __init__(self, n_features: int, n_estimators: int = 100):\n",
    "        self.n_features = n_features\n",
    "        self.rf = RandomForestRegressor(n_estimators=n_estimators)\n",
    "        self._selected_features = None\n",
    "    \n",
    "    def fit(self, X_train, y_train):\n",
    "        self.rf.fit(X_train, y_train)\n",
    "        importances = self.rf.feature_importances_\n",
    "        indices = np.argsort(importances)[::-1]\n",
    "        self._selected_features = indices[:self.n_features]\n",
    "    \n",
    "    @property\n",
    "    def selected_features(self) -> np.ndarray:\n",
    "        return self._selected_features"
   ]
  },
  {
   "cell_type": "code",
   "execution_count": 127,
   "id": "9754624b65c0ab9",
   "metadata": {
    "ExecuteTime": {
     "end_time": "2024-06-02T21:00:19.854370200Z",
     "start_time": "2024-06-02T20:59:45.935074800Z"
    },
    "collapsed": false
   },
   "outputs": [
    {
     "name": "stdout",
     "output_type": "stream",
     "text": [
      "Selected features: [100 102 105 104 103 101]\n"
     ]
    }
   ],
   "source": [
    "selector = MeanDecreaseImpuritySelector(n_features=6, n_estimators=5)\n",
    "selector.fit(X_input, y_input)\n",
    "\n",
    "selected_features = selector.selected_features\n",
    "print(f'Selected features: {selected_features}')"
   ]
  },
  {
   "cell_type": "code",
   "execution_count": 128,
   "id": "7dd0bce7bbec6e83",
   "metadata": {
    "ExecuteTime": {
     "end_time": "2024-06-02T21:01:50.787237100Z",
     "start_time": "2024-06-02T21:00:19.857664400Z"
    },
    "collapsed": false
   },
   "outputs": [
    {
     "name": "stdout",
     "output_type": "stream",
     "text": [
      "\n",
      "Model: XGBoost\n",
      "Expected % positive in test set: 20.00%, mean score: 3150.0\n",
      "Expected % positive in test set: 30.00%, mean score: 4630.0\n",
      "Expected % positive in test set: 40.00%, mean score: 5680.0\n",
      "Expected % positive in test set: 50.00%, mean score: 6480.0\n",
      "\n",
      "Model: RandomForest\n",
      "Expected % positive in test set: 20.00%, mean score: 2900.0\n",
      "Expected % positive in test set: 30.00%, mean score: 4110.0\n",
      "Expected % positive in test set: 40.00%, mean score: 5080.0\n",
      "Expected % positive in test set: 50.00%, mean score: 6020.0\n"
     ]
    }
   ],
   "source": [
    "for model_name, model in evaluation_models.items():\n",
    "    print(f'\\nModel: {model_name}')\n",
    "    full_evaluation(model, selected_features)"
   ]
  },
  {
   "cell_type": "markdown",
   "id": "e9bc98296dbe7dd0",
   "metadata": {
    "collapsed": false
   },
   "source": [
    "### Drop highly correlated features"
   ]
  },
  {
   "cell_type": "code",
   "execution_count": 129,
   "id": "9905edbd880a627a",
   "metadata": {
    "ExecuteTime": {
     "end_time": "2024-06-02T21:01:50.801123300Z",
     "start_time": "2024-06-02T21:01:50.783334100Z"
    },
    "collapsed": false
   },
   "outputs": [],
   "source": [
    "def remove_correlated_greedy(X, threshold=0.5):\n",
    "    df = pd.DataFrame(X)\n",
    "    corr_matrix = df.corr().abs()\n",
    "    \n",
    "    upper = corr_matrix.where(np.triu(np.ones(corr_matrix.shape), k=1).astype(bool))\n",
    "    \n",
    "    to_drop = [column for column in upper.columns if any(upper[column] > threshold)]\n",
    "    \n",
    "    reduced_df = df.drop(columns=to_drop)\n",
    "    \n",
    "    return reduced_df"
   ]
  },
  {
   "cell_type": "code",
   "execution_count": 130,
   "id": "c0085f018be42f9",
   "metadata": {
    "ExecuteTime": {
     "end_time": "2024-06-02T21:01:50.833718700Z",
     "start_time": "2024-06-02T21:01:50.797863500Z"
    },
    "collapsed": false
   },
   "outputs": [],
   "source": [
    "def remove_correlated_hierarchy(X, threshold=0.5):\n",
    "    df = pd.DataFrame(X)\n",
    "    corr_matrix = df.corr().abs()\n",
    "\n",
    "    distance_matrix = 1 - corr_matrix\n",
    "    condensed_distance_matrix = squareform(distance_matrix, checks=False)\n",
    "\n",
    "    Z = linkage(condensed_distance_matrix, method='average')\n",
    "\n",
    "    clusters = fcluster(Z, threshold, criterion='distance')\n",
    "\n",
    "    def get_representative_feature(cluster_features, corr_matrix):\n",
    "        if len(cluster_features) == 1:\n",
    "            return cluster_features[0]\n",
    "        else:\n",
    "            avg_corr = corr_matrix.loc[cluster_features, cluster_features].mean()\n",
    "            return avg_corr.idxmax()\n",
    "\n",
    "    cluster_dict = {i: df.columns[np.where(clusters == i)[0]] for i in np.unique(clusters)}\n",
    "\n",
    "    representative_features = [get_representative_feature(cluster_dict[i], corr_matrix) for i in cluster_dict]\n",
    "\n",
    "    reduced_df = df[representative_features]\n",
    "\n",
    "    return reduced_df"
   ]
  },
  {
   "cell_type": "code",
   "execution_count": 135,
   "id": "cd223c541ef3ff1b",
   "metadata": {
    "ExecuteTime": {
     "end_time": "2024-06-02T21:22:21.918212200Z",
     "start_time": "2024-06-02T21:20:32.020204200Z"
    },
    "collapsed": false
   },
   "outputs": [
    {
     "name": "stdout",
     "output_type": "stream",
     "text": [
      "Selected features: [ 92 341 235 171 197 274]\n",
      "\n",
      "Model: XGBoost\n",
      "Expected % positive in test set: 20.00%, mean score: 750.0\n",
      "Expected % positive in test set: 30.00%, mean score: 1610.0\n",
      "Expected % positive in test set: 40.00%, mean score: 2750.0\n",
      "Expected % positive in test set: 50.00%, mean score: 3770.0\n",
      "\n",
      "Model: RandomForest\n",
      "Expected % positive in test set: 20.00%, mean score: 690.0\n",
      "Expected % positive in test set: 30.00%, mean score: 1660.0\n",
      "Expected % positive in test set: 40.00%, mean score: 2910.0\n",
      "Expected % positive in test set: 50.00%, mean score: 3860.0\n"
     ]
    }
   ],
   "source": [
    "X_input_reduced_greedy = remove_correlated_greedy(X_input)\n",
    "selector = MeanDecreaseImpuritySelector(n_features=6, n_estimators=1)\n",
    "selector.fit(X_input_reduced_greedy, y_input)\n",
    "selected_features = selector.selected_features\n",
    "print(f'Selected features: {selected_features}')\n",
    "for model_name, model in evaluation_models.items():\n",
    "    print(f'\\nModel: {model_name}')\n",
    "    full_evaluation(model, selected_features)"
   ]
  },
  {
   "cell_type": "code",
   "execution_count": 137,
   "id": "79ae3e31c6c8da84",
   "metadata": {
    "ExecuteTime": {
     "end_time": "2024-06-02T21:25:01.296084500Z",
     "start_time": "2024-06-02T21:23:18.550479500Z"
    },
    "collapsed": false
   },
   "outputs": [
    {
     "name": "stdout",
     "output_type": "stream",
     "text": [
      "Selected features: [82 80 83 77 86 81]\n",
      "\n",
      "Model: XGBoost\n",
      "Expected % positive in test set: 20.00%, mean score: 980.0\n",
      "Expected % positive in test set: 30.00%, mean score: 1670.0\n",
      "Expected % positive in test set: 40.00%, mean score: 3150.0\n",
      "Expected % positive in test set: 50.00%, mean score: 4020.0\n",
      "\n",
      "Model: RandomForest\n",
      "Expected % positive in test set: 20.00%, mean score: 800.0\n",
      "Expected % positive in test set: 30.00%, mean score: 1860.0\n",
      "Expected % positive in test set: 40.00%, mean score: 2640.0\n",
      "Expected % positive in test set: 50.00%, mean score: 3930.0\n"
     ]
    }
   ],
   "source": [
    "X_input_reduced_hierarchy = remove_correlated_hierarchy(X_input)\n",
    "selector = MeanDecreaseImpuritySelector(n_features=6, n_estimators=1)\n",
    "selector.fit(X_input_reduced_hierarchy, y_input)\n",
    "selected_features = selector.selected_features\n",
    "print(f'Selected features: {selected_features}')\n",
    "for model_name, model in evaluation_models.items():\n",
    "    print(f'\\nModel: {model_name}')\n",
    "    full_evaluation(model, selected_features)"
   ]
  },
  {
   "cell_type": "code",
   "execution_count": null,
   "id": "b7be48d19c688dc3",
   "metadata": {
    "collapsed": false
   },
   "outputs": [],
   "source": []
  }
 ],
 "metadata": {
  "kernelspec": {
   "display_name": "Python 3",
   "language": "python",
   "name": "python3"
  },
  "language_info": {
   "codemirror_mode": {
    "name": "ipython",
    "version": 2
   },
   "file_extension": ".py",
   "mimetype": "text/x-python",
   "name": "python",
   "nbconvert_exporter": "python",
   "pygments_lexer": "ipython2",
   "version": "2.7.6"
  }
 },
 "nbformat": 4,
 "nbformat_minor": 5
}
